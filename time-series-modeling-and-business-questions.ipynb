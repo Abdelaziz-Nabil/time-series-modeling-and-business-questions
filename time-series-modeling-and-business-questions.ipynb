{
 "cells": [
  {
   "cell_type": "markdown",
   "id": "1d7f4cc5",
   "metadata": {
    "papermill": {
     "duration": 0.027919,
     "end_time": "2022-10-01T12:17:40.942889",
     "exception": false,
     "start_time": "2022-10-01T12:17:40.914970",
     "status": "completed"
    },
    "tags": []
   },
   "source": [
    "### Part 1: Importing the libraries & Reading data.[Here](#Part-1:-Importing-the-libraries-&-Reading-data.)\n",
    "### Part 2: Exploring the data.[Here](#Part-2:-Exploring-the-data.)\n",
    "### Part 3: business  questions:[Here](#Part-3:-bussiness-questions:)\n",
    ">* [**Q1: The number of Movies/TV Shows each year?**](#Q1:-The-number-of-Movies/TV-Shows-each-year?)\n",
    ">* [**Q2: Most categories appeared in the last years?**](#Q2:-Most-categories-appeared-in-the-last-years?)\n",
    ">* [**Q3: What most common directors appeared in the last years?**](#Q3:-What-most-common-directors-appeared-in-the-last-years?)\n",
    ">* [**Q4: What most common country in Movies/TV Shows appeared in the last years?**](#Q4:-What-most-common-country-in-Movies/TV-Shows-appeared-in-the-last-years?)\n",
    ">* [**Q5: how many Movies/TV Shows since it was added?**](#Q5:-how-many-Movies/TV-Shows-since-it-was-added?)\n",
    ">* [**Q6: how many added Movies/TV by month?**](#Q6:-how-many-added-Movies/TV-by-month?)\n",
    ">* [**Q7: how many added Movies/TV by day?**](#Q7:-how-many-added-Movies/TV-by-day?)\n",
    ">* [**Q8: Most common cast appeared in the last years?**](#Q8:-Most-common-cast-appeared-in-the-last-years?)\n",
    ">* [**Q9: Which one get more movies or TV shows?**](#Q9:-Which-one-get-more-movies-or-TV-shows?)\n",
    ">* [**Q10: What is the type of rating that have the highest number?**](#Q10:-What-is-the-type-of-rating-that-have-the-highest-number?)\n",
    "\n",
    "### Part 4: Fill NaN Values for Every columns.[Here](#Part-4:-Fill-NaN-Values-for-Every-columns.)\n",
    "### Part 5: time series modeling:[Here](#Part-5:-time-series-modeling:)\n",
    ">* [**Visualize the time series**](#Visualize-the-time-series)\n",
    ">* [**Stationarize the series**](#Stationarize-the-series)\n",
    ">* [**Plot ACF/PACF charts**](#Plot-ACF/PACF-charts)\n",
    ">* [**Build the ARIMA model**](#Build-the-ARIMA-model)\n",
    ">* [**Diagnostic the Model**](#Diagnostic-the-Model)\n",
    ">* [**Make Predictions**](#Make-Predictions)"
   ]
  },
  {
   "cell_type": "markdown",
   "id": "0d5d071a",
   "metadata": {
    "papermill": {
     "duration": 0.026688,
     "end_time": "2022-10-01T12:17:40.995993",
     "exception": false,
     "start_time": "2022-10-01T12:17:40.969305",
     "status": "completed"
    },
    "tags": []
   },
   "source": [
    "## Part 1: Importing the libraries & Reading data."
   ]
  },
  {
   "cell_type": "code",
   "execution_count": 1,
   "id": "08cb5914",
   "metadata": {
    "execution": {
     "iopub.execute_input": "2022-10-01T12:17:41.050057Z",
     "iopub.status.busy": "2022-10-01T12:17:41.049473Z",
     "iopub.status.idle": "2022-10-01T12:17:55.204728Z",
     "shell.execute_reply": "2022-10-01T12:17:55.203092Z"
    },
    "papermill": {
     "duration": 14.185806,
     "end_time": "2022-10-01T12:17:55.207843",
     "exception": false,
     "start_time": "2022-10-01T12:17:41.022037",
     "status": "completed"
    },
    "tags": []
   },
   "outputs": [
    {
     "name": "stdout",
     "output_type": "stream",
     "text": [
      "Collecting pmdarima\r\n",
      "  Downloading pmdarima-2.0.1-cp37-cp37m-manylinux_2_17_x86_64.manylinux2014_x86_64.manylinux_2_28_x86_64.whl (1.8 MB)\r\n",
      "\u001b[2K     \u001b[90m━━━━━━━━━━━━━━━━━━━━━━━━━━━━━━━━━━━━━━━━\u001b[0m \u001b[32m1.8/1.8 MB\u001b[0m \u001b[31m3.5 MB/s\u001b[0m eta \u001b[36m0:00:00\u001b[0m\r\n",
      "\u001b[?25hRequirement already satisfied: Cython!=0.29.18,!=0.29.31,>=0.29 in /opt/conda/lib/python3.7/site-packages (from pmdarima) (0.29.32)\r\n",
      "Requirement already satisfied: urllib3 in /opt/conda/lib/python3.7/site-packages (from pmdarima) (1.26.12)\r\n",
      "Requirement already satisfied: setuptools!=50.0.0,>=38.6.0 in /opt/conda/lib/python3.7/site-packages (from pmdarima) (59.8.0)\r\n",
      "Requirement already satisfied: scipy>=1.3.2 in /opt/conda/lib/python3.7/site-packages (from pmdarima) (1.7.3)\r\n",
      "Requirement already satisfied: numpy>=1.21 in /opt/conda/lib/python3.7/site-packages (from pmdarima) (1.21.6)\r\n",
      "Requirement already satisfied: scikit-learn>=0.22 in /opt/conda/lib/python3.7/site-packages (from pmdarima) (1.0.2)\r\n",
      "Requirement already satisfied: statsmodels>=0.13.2 in /opt/conda/lib/python3.7/site-packages (from pmdarima) (0.13.2)\r\n",
      "Requirement already satisfied: pandas>=0.19 in /opt/conda/lib/python3.7/site-packages (from pmdarima) (1.3.5)\r\n",
      "Requirement already satisfied: joblib>=0.11 in /opt/conda/lib/python3.7/site-packages (from pmdarima) (1.0.1)\r\n",
      "Requirement already satisfied: python-dateutil>=2.7.3 in /opt/conda/lib/python3.7/site-packages (from pandas>=0.19->pmdarima) (2.8.2)\r\n",
      "Requirement already satisfied: pytz>=2017.3 in /opt/conda/lib/python3.7/site-packages (from pandas>=0.19->pmdarima) (2022.1)\r\n",
      "Requirement already satisfied: threadpoolctl>=2.0.0 in /opt/conda/lib/python3.7/site-packages (from scikit-learn>=0.22->pmdarima) (3.1.0)\r\n",
      "Requirement already satisfied: patsy>=0.5.2 in /opt/conda/lib/python3.7/site-packages (from statsmodels>=0.13.2->pmdarima) (0.5.2)\r\n",
      "Requirement already satisfied: packaging>=21.3 in /opt/conda/lib/python3.7/site-packages (from statsmodels>=0.13.2->pmdarima) (21.3)\r\n",
      "Requirement already satisfied: pyparsing!=3.0.5,>=2.0.2 in /opt/conda/lib/python3.7/site-packages (from packaging>=21.3->statsmodels>=0.13.2->pmdarima) (3.0.9)\r\n",
      "Requirement already satisfied: six in /opt/conda/lib/python3.7/site-packages (from patsy>=0.5.2->statsmodels>=0.13.2->pmdarima) (1.15.0)\r\n",
      "Installing collected packages: pmdarima\r\n",
      "Successfully installed pmdarima-2.0.1\r\n",
      "\u001b[33mWARNING: Running pip as the 'root' user can result in broken permissions and conflicting behaviour with the system package manager. It is recommended to use a virtual environment instead: https://pip.pypa.io/warnings/venv\u001b[0m\u001b[33m\r\n",
      "\u001b[0mNote: you may need to restart the kernel to use updated packages.\n"
     ]
    }
   ],
   "source": [
    "pip install pmdarima"
   ]
  },
  {
   "cell_type": "code",
   "execution_count": 2,
   "id": "7de8e651",
   "metadata": {
    "execution": {
     "iopub.execute_input": "2022-10-01T12:17:55.265903Z",
     "iopub.status.busy": "2022-10-01T12:17:55.265009Z",
     "iopub.status.idle": "2022-10-01T12:17:58.501808Z",
     "shell.execute_reply": "2022-10-01T12:17:58.500795Z"
    },
    "papermill": {
     "duration": 3.26921,
     "end_time": "2022-10-01T12:17:58.505106",
     "exception": false,
     "start_time": "2022-10-01T12:17:55.235896",
     "status": "completed"
    },
    "tags": []
   },
   "outputs": [],
   "source": [
    "import pandas as pd\n",
    "from datetime import datetime\n",
    "import os\n",
    "import matplotlib.pyplot as plt\n",
    "import numpy as np\n",
    "import seaborn as sns \n",
    "import plotly.express as px\n",
    "import statsmodels.api as sm\n",
    "import pmdarima as pm\n",
    "\n",
    "from statsmodels.tsa.stattools import adfuller\n",
    "from statsmodels.tsa.stattools import acf, pacf\n",
    "from statsmodels.tsa.seasonal import seasonal_decompose\n",
    "from statsmodels.graphics.tsaplots import plot_acf, plot_pacf\n",
    "import warnings\n",
    "warnings.filterwarnings('ignore')"
   ]
  },
  {
   "cell_type": "code",
   "execution_count": 3,
   "id": "5dfb8bcf",
   "metadata": {
    "execution": {
     "iopub.execute_input": "2022-10-01T12:17:58.565392Z",
     "iopub.status.busy": "2022-10-01T12:17:58.564939Z",
     "iopub.status.idle": "2022-10-01T12:17:58.730303Z",
     "shell.execute_reply": "2022-10-01T12:17:58.729298Z"
    },
    "papermill": {
     "duration": 0.197615,
     "end_time": "2022-10-01T12:17:58.732954",
     "exception": false,
     "start_time": "2022-10-01T12:17:58.535339",
     "status": "completed"
    },
    "tags": []
   },
   "outputs": [],
   "source": [
    "df=pd.read_csv(\"../input/netflix-shows/netflix_titles.csv\",sep = \",\" , encoding = \"utf-8\")"
   ]
  },
  {
   "cell_type": "markdown",
   "id": "c9af3f15",
   "metadata": {
    "papermill": {
     "duration": 0.027011,
     "end_time": "2022-10-01T12:17:58.787676",
     "exception": false,
     "start_time": "2022-10-01T12:17:58.760665",
     "status": "completed"
    },
    "tags": []
   },
   "source": [
    "## Part 2: Exploring the data."
   ]
  },
  {
   "cell_type": "code",
   "execution_count": 4,
   "id": "2480f5e5",
   "metadata": {
    "execution": {
     "iopub.execute_input": "2022-10-01T12:17:58.844964Z",
     "iopub.status.busy": "2022-10-01T12:17:58.843854Z",
     "iopub.status.idle": "2022-10-01T12:17:58.868135Z",
     "shell.execute_reply": "2022-10-01T12:17:58.867044Z"
    },
    "papermill": {
     "duration": 0.055571,
     "end_time": "2022-10-01T12:17:58.870675",
     "exception": false,
     "start_time": "2022-10-01T12:17:58.815104",
     "status": "completed"
    },
    "tags": []
   },
   "outputs": [
    {
     "data": {
      "text/html": [
       "<div>\n",
       "<style scoped>\n",
       "    .dataframe tbody tr th:only-of-type {\n",
       "        vertical-align: middle;\n",
       "    }\n",
       "\n",
       "    .dataframe tbody tr th {\n",
       "        vertical-align: top;\n",
       "    }\n",
       "\n",
       "    .dataframe thead th {\n",
       "        text-align: right;\n",
       "    }\n",
       "</style>\n",
       "<table border=\"1\" class=\"dataframe\">\n",
       "  <thead>\n",
       "    <tr style=\"text-align: right;\">\n",
       "      <th></th>\n",
       "      <th>show_id</th>\n",
       "      <th>type</th>\n",
       "      <th>title</th>\n",
       "      <th>director</th>\n",
       "      <th>cast</th>\n",
       "      <th>country</th>\n",
       "      <th>date_added</th>\n",
       "      <th>release_year</th>\n",
       "      <th>rating</th>\n",
       "      <th>duration</th>\n",
       "      <th>listed_in</th>\n",
       "      <th>description</th>\n",
       "    </tr>\n",
       "  </thead>\n",
       "  <tbody>\n",
       "    <tr>\n",
       "      <th>0</th>\n",
       "      <td>s1</td>\n",
       "      <td>Movie</td>\n",
       "      <td>Dick Johnson Is Dead</td>\n",
       "      <td>Kirsten Johnson</td>\n",
       "      <td>NaN</td>\n",
       "      <td>United States</td>\n",
       "      <td>September 25, 2021</td>\n",
       "      <td>2020</td>\n",
       "      <td>PG-13</td>\n",
       "      <td>90 min</td>\n",
       "      <td>Documentaries</td>\n",
       "      <td>As her father nears the end of his life, filmm...</td>\n",
       "    </tr>\n",
       "    <tr>\n",
       "      <th>1</th>\n",
       "      <td>s2</td>\n",
       "      <td>TV Show</td>\n",
       "      <td>Blood &amp; Water</td>\n",
       "      <td>NaN</td>\n",
       "      <td>Ama Qamata, Khosi Ngema, Gail Mabalane, Thaban...</td>\n",
       "      <td>South Africa</td>\n",
       "      <td>September 24, 2021</td>\n",
       "      <td>2021</td>\n",
       "      <td>TV-MA</td>\n",
       "      <td>2 Seasons</td>\n",
       "      <td>International TV Shows, TV Dramas, TV Mysteries</td>\n",
       "      <td>After crossing paths at a party, a Cape Town t...</td>\n",
       "    </tr>\n",
       "  </tbody>\n",
       "</table>\n",
       "</div>"
      ],
      "text/plain": [
       "  show_id     type                 title         director  \\\n",
       "0      s1    Movie  Dick Johnson Is Dead  Kirsten Johnson   \n",
       "1      s2  TV Show         Blood & Water              NaN   \n",
       "\n",
       "                                                cast        country  \\\n",
       "0                                                NaN  United States   \n",
       "1  Ama Qamata, Khosi Ngema, Gail Mabalane, Thaban...   South Africa   \n",
       "\n",
       "           date_added  release_year rating   duration  \\\n",
       "0  September 25, 2021          2020  PG-13     90 min   \n",
       "1  September 24, 2021          2021  TV-MA  2 Seasons   \n",
       "\n",
       "                                         listed_in  \\\n",
       "0                                    Documentaries   \n",
       "1  International TV Shows, TV Dramas, TV Mysteries   \n",
       "\n",
       "                                         description  \n",
       "0  As her father nears the end of his life, filmm...  \n",
       "1  After crossing paths at a party, a Cape Town t...  "
      ]
     },
     "execution_count": 4,
     "metadata": {},
     "output_type": "execute_result"
    }
   ],
   "source": [
    "df.head(2)"
   ]
  },
  {
   "cell_type": "code",
   "execution_count": 5,
   "id": "10f109ed",
   "metadata": {
    "execution": {
     "iopub.execute_input": "2022-10-01T12:17:58.926985Z",
     "iopub.status.busy": "2022-10-01T12:17:58.926345Z",
     "iopub.status.idle": "2022-10-01T12:17:58.932580Z",
     "shell.execute_reply": "2022-10-01T12:17:58.931478Z"
    },
    "papermill": {
     "duration": 0.037237,
     "end_time": "2022-10-01T12:17:58.935058",
     "exception": false,
     "start_time": "2022-10-01T12:17:58.897821",
     "status": "completed"
    },
    "tags": []
   },
   "outputs": [
    {
     "data": {
      "text/plain": [
       "(8807, 12)"
      ]
     },
     "execution_count": 5,
     "metadata": {},
     "output_type": "execute_result"
    }
   ],
   "source": [
    "df.shape"
   ]
  },
  {
   "cell_type": "markdown",
   "id": "f6a45bc5",
   "metadata": {
    "papermill": {
     "duration": 0.026874,
     "end_time": "2022-10-01T12:17:58.989565",
     "exception": false,
     "start_time": "2022-10-01T12:17:58.962691",
     "status": "completed"
    },
    "tags": []
   },
   "source": [
    "### check if there is a Null in data"
   ]
  },
  {
   "cell_type": "code",
   "execution_count": 6,
   "id": "79a680da",
   "metadata": {
    "execution": {
     "iopub.execute_input": "2022-10-01T12:17:59.046143Z",
     "iopub.status.busy": "2022-10-01T12:17:59.045728Z",
     "iopub.status.idle": "2022-10-01T12:17:59.060203Z",
     "shell.execute_reply": "2022-10-01T12:17:59.059220Z"
    },
    "papermill": {
     "duration": 0.044948,
     "end_time": "2022-10-01T12:17:59.062289",
     "exception": false,
     "start_time": "2022-10-01T12:17:59.017341",
     "status": "completed"
    },
    "tags": []
   },
   "outputs": [
    {
     "data": {
      "text/plain": [
       "show_id            0\n",
       "type               0\n",
       "title              0\n",
       "director        2634\n",
       "cast             825\n",
       "country          831\n",
       "date_added        10\n",
       "release_year       0\n",
       "rating             4\n",
       "duration           3\n",
       "listed_in          0\n",
       "description        0\n",
       "dtype: int64"
      ]
     },
     "execution_count": 6,
     "metadata": {},
     "output_type": "execute_result"
    }
   ],
   "source": [
    "df.isna().sum()"
   ]
  },
  {
   "cell_type": "markdown",
   "id": "211cd843",
   "metadata": {
    "papermill": {
     "duration": 0.027516,
     "end_time": "2022-10-01T12:17:59.117332",
     "exception": false,
     "start_time": "2022-10-01T12:17:59.089816",
     "status": "completed"
    },
    "tags": []
   },
   "source": [
    "### check if there is a duplication in data"
   ]
  },
  {
   "cell_type": "code",
   "execution_count": 7,
   "id": "0b5a5662",
   "metadata": {
    "execution": {
     "iopub.execute_input": "2022-10-01T12:17:59.174217Z",
     "iopub.status.busy": "2022-10-01T12:17:59.173530Z",
     "iopub.status.idle": "2022-10-01T12:17:59.211491Z",
     "shell.execute_reply": "2022-10-01T12:17:59.210531Z"
    },
    "papermill": {
     "duration": 0.069074,
     "end_time": "2022-10-01T12:17:59.213660",
     "exception": false,
     "start_time": "2022-10-01T12:17:59.144586",
     "status": "completed"
    },
    "tags": []
   },
   "outputs": [
    {
     "data": {
      "text/plain": [
       "(8807, 12)"
      ]
     },
     "execution_count": 7,
     "metadata": {},
     "output_type": "execute_result"
    }
   ],
   "source": [
    "(df.drop_duplicates()).shape"
   ]
  },
  {
   "cell_type": "markdown",
   "id": "94445828",
   "metadata": {
    "papermill": {
     "duration": 0.027296,
     "end_time": "2022-10-01T12:17:59.268609",
     "exception": false,
     "start_time": "2022-10-01T12:17:59.241313",
     "status": "completed"
    },
    "tags": []
   },
   "source": [
    "> **no duplication in data**"
   ]
  },
  {
   "cell_type": "code",
   "execution_count": 8,
   "id": "3aeec6cd",
   "metadata": {
    "execution": {
     "iopub.execute_input": "2022-10-01T12:17:59.325711Z",
     "iopub.status.busy": "2022-10-01T12:17:59.325042Z",
     "iopub.status.idle": "2022-10-01T12:17:59.346829Z",
     "shell.execute_reply": "2022-10-01T12:17:59.345868Z"
    },
    "papermill": {
     "duration": 0.053288,
     "end_time": "2022-10-01T12:17:59.349294",
     "exception": false,
     "start_time": "2022-10-01T12:17:59.296006",
     "status": "completed"
    },
    "tags": []
   },
   "outputs": [
    {
     "name": "stdout",
     "output_type": "stream",
     "text": [
      "<class 'pandas.core.frame.DataFrame'>\n",
      "RangeIndex: 8807 entries, 0 to 8806\n",
      "Data columns (total 12 columns):\n",
      " #   Column        Non-Null Count  Dtype \n",
      "---  ------        --------------  ----- \n",
      " 0   show_id       8807 non-null   object\n",
      " 1   type          8807 non-null   object\n",
      " 2   title         8807 non-null   object\n",
      " 3   director      6173 non-null   object\n",
      " 4   cast          7982 non-null   object\n",
      " 5   country       7976 non-null   object\n",
      " 6   date_added    8797 non-null   object\n",
      " 7   release_year  8807 non-null   int64 \n",
      " 8   rating        8803 non-null   object\n",
      " 9   duration      8804 non-null   object\n",
      " 10  listed_in     8807 non-null   object\n",
      " 11  description   8807 non-null   object\n",
      "dtypes: int64(1), object(11)\n",
      "memory usage: 825.8+ KB\n"
     ]
    }
   ],
   "source": [
    "df.info()"
   ]
  },
  {
   "cell_type": "markdown",
   "id": "1b9b8142",
   "metadata": {
    "papermill": {
     "duration": 0.027015,
     "end_time": "2022-10-01T12:17:59.404425",
     "exception": false,
     "start_time": "2022-10-01T12:17:59.377410",
     "status": "completed"
    },
    "tags": []
   },
   "source": [
    "#### Data type of date_added is object !!!\n",
    "#### Data type of release_year is int64 !!!"
   ]
  },
  {
   "cell_type": "markdown",
   "id": "3bc4ac19",
   "metadata": {
    "papermill": {
     "duration": 0.027158,
     "end_time": "2022-10-01T12:17:59.459283",
     "exception": false,
     "start_time": "2022-10-01T12:17:59.432125",
     "status": "completed"
    },
    "tags": []
   },
   "source": [
    "### Convert date_added from Object Type to datetime Type"
   ]
  },
  {
   "cell_type": "code",
   "execution_count": 9,
   "id": "1ffd98c4",
   "metadata": {
    "execution": {
     "iopub.execute_input": "2022-10-01T12:17:59.517194Z",
     "iopub.status.busy": "2022-10-01T12:17:59.516108Z",
     "iopub.status.idle": "2022-10-01T12:17:59.722612Z",
     "shell.execute_reply": "2022-10-01T12:17:59.721456Z"
    },
    "papermill": {
     "duration": 0.238481,
     "end_time": "2022-10-01T12:17:59.725371",
     "exception": false,
     "start_time": "2022-10-01T12:17:59.486890",
     "status": "completed"
    },
    "tags": []
   },
   "outputs": [],
   "source": [
    "df['date_added']=pd.to_datetime(df['date_added'])"
   ]
  },
  {
   "cell_type": "code",
   "execution_count": 10,
   "id": "525955b4",
   "metadata": {
    "execution": {
     "iopub.execute_input": "2022-10-01T12:17:59.782892Z",
     "iopub.status.busy": "2022-10-01T12:17:59.782493Z",
     "iopub.status.idle": "2022-10-01T12:17:59.799217Z",
     "shell.execute_reply": "2022-10-01T12:17:59.798403Z"
    },
    "papermill": {
     "duration": 0.047834,
     "end_time": "2022-10-01T12:17:59.801107",
     "exception": false,
     "start_time": "2022-10-01T12:17:59.753273",
     "status": "completed"
    },
    "tags": []
   },
   "outputs": [
    {
     "data": {
      "text/html": [
       "<div>\n",
       "<style scoped>\n",
       "    .dataframe tbody tr th:only-of-type {\n",
       "        vertical-align: middle;\n",
       "    }\n",
       "\n",
       "    .dataframe tbody tr th {\n",
       "        vertical-align: top;\n",
       "    }\n",
       "\n",
       "    .dataframe thead th {\n",
       "        text-align: right;\n",
       "    }\n",
       "</style>\n",
       "<table border=\"1\" class=\"dataframe\">\n",
       "  <thead>\n",
       "    <tr style=\"text-align: right;\">\n",
       "      <th></th>\n",
       "      <th>show_id</th>\n",
       "      <th>type</th>\n",
       "      <th>title</th>\n",
       "      <th>director</th>\n",
       "      <th>cast</th>\n",
       "      <th>country</th>\n",
       "      <th>date_added</th>\n",
       "      <th>release_year</th>\n",
       "      <th>rating</th>\n",
       "      <th>duration</th>\n",
       "      <th>listed_in</th>\n",
       "      <th>description</th>\n",
       "    </tr>\n",
       "  </thead>\n",
       "  <tbody>\n",
       "    <tr>\n",
       "      <th>0</th>\n",
       "      <td>s1</td>\n",
       "      <td>Movie</td>\n",
       "      <td>Dick Johnson Is Dead</td>\n",
       "      <td>Kirsten Johnson</td>\n",
       "      <td>NaN</td>\n",
       "      <td>United States</td>\n",
       "      <td>2021-09-25</td>\n",
       "      <td>2020</td>\n",
       "      <td>PG-13</td>\n",
       "      <td>90 min</td>\n",
       "      <td>Documentaries</td>\n",
       "      <td>As her father nears the end of his life, filmm...</td>\n",
       "    </tr>\n",
       "    <tr>\n",
       "      <th>1</th>\n",
       "      <td>s2</td>\n",
       "      <td>TV Show</td>\n",
       "      <td>Blood &amp; Water</td>\n",
       "      <td>NaN</td>\n",
       "      <td>Ama Qamata, Khosi Ngema, Gail Mabalane, Thaban...</td>\n",
       "      <td>South Africa</td>\n",
       "      <td>2021-09-24</td>\n",
       "      <td>2021</td>\n",
       "      <td>TV-MA</td>\n",
       "      <td>2 Seasons</td>\n",
       "      <td>International TV Shows, TV Dramas, TV Mysteries</td>\n",
       "      <td>After crossing paths at a party, a Cape Town t...</td>\n",
       "    </tr>\n",
       "  </tbody>\n",
       "</table>\n",
       "</div>"
      ],
      "text/plain": [
       "  show_id     type                 title         director  \\\n",
       "0      s1    Movie  Dick Johnson Is Dead  Kirsten Johnson   \n",
       "1      s2  TV Show         Blood & Water              NaN   \n",
       "\n",
       "                                                cast        country  \\\n",
       "0                                                NaN  United States   \n",
       "1  Ama Qamata, Khosi Ngema, Gail Mabalane, Thaban...   South Africa   \n",
       "\n",
       "  date_added  release_year rating   duration  \\\n",
       "0 2021-09-25          2020  PG-13     90 min   \n",
       "1 2021-09-24          2021  TV-MA  2 Seasons   \n",
       "\n",
       "                                         listed_in  \\\n",
       "0                                    Documentaries   \n",
       "1  International TV Shows, TV Dramas, TV Mysteries   \n",
       "\n",
       "                                         description  \n",
       "0  As her father nears the end of his life, filmm...  \n",
       "1  After crossing paths at a party, a Cape Town t...  "
      ]
     },
     "execution_count": 10,
     "metadata": {},
     "output_type": "execute_result"
    }
   ],
   "source": [
    "df.head(2)"
   ]
  },
  {
   "cell_type": "code",
   "execution_count": 11,
   "id": "549a32e4",
   "metadata": {
    "execution": {
     "iopub.execute_input": "2022-10-01T12:17:59.858930Z",
     "iopub.status.busy": "2022-10-01T12:17:59.858234Z",
     "iopub.status.idle": "2022-10-01T12:17:59.875770Z",
     "shell.execute_reply": "2022-10-01T12:17:59.874209Z"
    },
    "papermill": {
     "duration": 0.049662,
     "end_time": "2022-10-01T12:17:59.878803",
     "exception": false,
     "start_time": "2022-10-01T12:17:59.829141",
     "status": "completed"
    },
    "tags": []
   },
   "outputs": [
    {
     "name": "stdout",
     "output_type": "stream",
     "text": [
      "<class 'pandas.core.frame.DataFrame'>\n",
      "RangeIndex: 8807 entries, 0 to 8806\n",
      "Data columns (total 12 columns):\n",
      " #   Column        Non-Null Count  Dtype         \n",
      "---  ------        --------------  -----         \n",
      " 0   show_id       8807 non-null   object        \n",
      " 1   type          8807 non-null   object        \n",
      " 2   title         8807 non-null   object        \n",
      " 3   director      6173 non-null   object        \n",
      " 4   cast          7982 non-null   object        \n",
      " 5   country       7976 non-null   object        \n",
      " 6   date_added    8797 non-null   datetime64[ns]\n",
      " 7   release_year  8807 non-null   int64         \n",
      " 8   rating        8803 non-null   object        \n",
      " 9   duration      8804 non-null   object        \n",
      " 10  listed_in     8807 non-null   object        \n",
      " 11  description   8807 non-null   object        \n",
      "dtypes: datetime64[ns](1), int64(1), object(10)\n",
      "memory usage: 825.8+ KB\n"
     ]
    }
   ],
   "source": [
    "df.info()"
   ]
  },
  {
   "cell_type": "markdown",
   "id": "727032b5",
   "metadata": {
    "papermill": {
     "duration": 0.028251,
     "end_time": "2022-10-01T12:17:59.935740",
     "exception": false,
     "start_time": "2022-10-01T12:17:59.907489",
     "status": "completed"
    },
    "tags": []
   },
   "source": [
    "## Part 3: bussiness questions:"
   ]
  },
  {
   "cell_type": "markdown",
   "id": "0e1cd26c",
   "metadata": {
    "papermill": {
     "duration": 0.02806,
     "end_time": "2022-10-01T12:17:59.991853",
     "exception": false,
     "start_time": "2022-10-01T12:17:59.963793",
     "status": "completed"
    },
    "tags": []
   },
   "source": [
    "### Q1: The number of Movies/TV Shows each year? "
   ]
  },
  {
   "cell_type": "code",
   "execution_count": 12,
   "id": "2cc0e924",
   "metadata": {
    "execution": {
     "iopub.execute_input": "2022-10-01T12:18:00.049766Z",
     "iopub.status.busy": "2022-10-01T12:18:00.049354Z",
     "iopub.status.idle": "2022-10-01T12:18:00.067012Z",
     "shell.execute_reply": "2022-10-01T12:18:00.065935Z"
    },
    "papermill": {
     "duration": 0.049529,
     "end_time": "2022-10-01T12:18:00.069402",
     "exception": false,
     "start_time": "2022-10-01T12:18:00.019873",
     "status": "completed"
    },
    "tags": []
   },
   "outputs": [],
   "source": [
    "Movie_year=df.groupby(['release_year'])[\"type\"].value_counts()\n",
    "Movie_year=pd.DataFrame(Movie_year)\n",
    "Movie_year.rename(columns = {'type':'count'}, inplace = True)\n",
    "Movie_year=Movie_year.reset_index()\n",
    "Movie_year=Movie_year.sort_values(by=[\"release_year\",'type'],ascending=False)\n",
    "Movie_year=Movie_year.reset_index(drop = True)"
   ]
  },
  {
   "cell_type": "code",
   "execution_count": 13,
   "id": "a443debc",
   "metadata": {
    "execution": {
     "iopub.execute_input": "2022-10-01T12:18:00.128013Z",
     "iopub.status.busy": "2022-10-01T12:18:00.126758Z",
     "iopub.status.idle": "2022-10-01T12:18:00.137046Z",
     "shell.execute_reply": "2022-10-01T12:18:00.136197Z"
    },
    "papermill": {
     "duration": 0.04178,
     "end_time": "2022-10-01T12:18:00.139122",
     "exception": false,
     "start_time": "2022-10-01T12:18:00.097342",
     "status": "completed"
    },
    "tags": []
   },
   "outputs": [
    {
     "data": {
      "text/html": [
       "<div>\n",
       "<style scoped>\n",
       "    .dataframe tbody tr th:only-of-type {\n",
       "        vertical-align: middle;\n",
       "    }\n",
       "\n",
       "    .dataframe tbody tr th {\n",
       "        vertical-align: top;\n",
       "    }\n",
       "\n",
       "    .dataframe thead th {\n",
       "        text-align: right;\n",
       "    }\n",
       "</style>\n",
       "<table border=\"1\" class=\"dataframe\">\n",
       "  <thead>\n",
       "    <tr style=\"text-align: right;\">\n",
       "      <th></th>\n",
       "      <th>release_year</th>\n",
       "      <th>type</th>\n",
       "      <th>count</th>\n",
       "    </tr>\n",
       "  </thead>\n",
       "  <tbody>\n",
       "    <tr>\n",
       "      <th>116</th>\n",
       "      <td>1943</td>\n",
       "      <td>Movie</td>\n",
       "      <td>3</td>\n",
       "    </tr>\n",
       "    <tr>\n",
       "      <th>117</th>\n",
       "      <td>1942</td>\n",
       "      <td>Movie</td>\n",
       "      <td>2</td>\n",
       "    </tr>\n",
       "    <tr>\n",
       "      <th>118</th>\n",
       "      <td>1925</td>\n",
       "      <td>TV Show</td>\n",
       "      <td>1</td>\n",
       "    </tr>\n",
       "  </tbody>\n",
       "</table>\n",
       "</div>"
      ],
      "text/plain": [
       "     release_year     type  count\n",
       "116          1943    Movie      3\n",
       "117          1942    Movie      2\n",
       "118          1925  TV Show      1"
      ]
     },
     "execution_count": 13,
     "metadata": {},
     "output_type": "execute_result"
    }
   ],
   "source": [
    "Movie_year.tail(3)"
   ]
  },
  {
   "cell_type": "code",
   "execution_count": 14,
   "id": "d0228420",
   "metadata": {
    "execution": {
     "iopub.execute_input": "2022-10-01T12:18:00.198531Z",
     "iopub.status.busy": "2022-10-01T12:18:00.196932Z",
     "iopub.status.idle": "2022-10-01T12:18:00.216347Z",
     "shell.execute_reply": "2022-10-01T12:18:00.215241Z"
    },
    "papermill": {
     "duration": 0.050993,
     "end_time": "2022-10-01T12:18:00.218620",
     "exception": false,
     "start_time": "2022-10-01T12:18:00.167627",
     "status": "completed"
    },
    "tags": []
   },
   "outputs": [
    {
     "data": {
      "text/html": [
       "<div>\n",
       "<style scoped>\n",
       "    .dataframe tbody tr th:only-of-type {\n",
       "        vertical-align: middle;\n",
       "    }\n",
       "\n",
       "    .dataframe tbody tr th {\n",
       "        vertical-align: top;\n",
       "    }\n",
       "\n",
       "    .dataframe thead th {\n",
       "        text-align: right;\n",
       "    }\n",
       "</style>\n",
       "<table border=\"1\" class=\"dataframe\">\n",
       "  <thead>\n",
       "    <tr style=\"text-align: right;\">\n",
       "      <th></th>\n",
       "      <th>show_id</th>\n",
       "      <th>type</th>\n",
       "      <th>title</th>\n",
       "      <th>director</th>\n",
       "      <th>cast</th>\n",
       "      <th>country</th>\n",
       "      <th>date_added</th>\n",
       "      <th>release_year</th>\n",
       "      <th>rating</th>\n",
       "      <th>duration</th>\n",
       "      <th>listed_in</th>\n",
       "      <th>description</th>\n",
       "    </tr>\n",
       "  </thead>\n",
       "  <tbody>\n",
       "    <tr>\n",
       "      <th>4250</th>\n",
       "      <td>s4251</td>\n",
       "      <td>TV Show</td>\n",
       "      <td>Pioneers: First Women Filmmakers*</td>\n",
       "      <td>NaN</td>\n",
       "      <td>NaN</td>\n",
       "      <td>NaN</td>\n",
       "      <td>2018-12-30</td>\n",
       "      <td>1925</td>\n",
       "      <td>TV-14</td>\n",
       "      <td>1 Season</td>\n",
       "      <td>TV Shows</td>\n",
       "      <td>This collection restores films from women who ...</td>\n",
       "    </tr>\n",
       "    <tr>\n",
       "      <th>7790</th>\n",
       "      <td>s7791</td>\n",
       "      <td>Movie</td>\n",
       "      <td>Prelude to War</td>\n",
       "      <td>Frank Capra</td>\n",
       "      <td>NaN</td>\n",
       "      <td>United States</td>\n",
       "      <td>2017-03-31</td>\n",
       "      <td>1942</td>\n",
       "      <td>TV-14</td>\n",
       "      <td>52 min</td>\n",
       "      <td>Classic Movies, Documentaries</td>\n",
       "      <td>Frank Capra's documentary chronicles the rise ...</td>\n",
       "    </tr>\n",
       "    <tr>\n",
       "      <th>8205</th>\n",
       "      <td>s8206</td>\n",
       "      <td>Movie</td>\n",
       "      <td>The Battle of Midway</td>\n",
       "      <td>John Ford</td>\n",
       "      <td>Henry Fonda, Jane Darwell</td>\n",
       "      <td>United States</td>\n",
       "      <td>2017-03-31</td>\n",
       "      <td>1942</td>\n",
       "      <td>TV-14</td>\n",
       "      <td>18 min</td>\n",
       "      <td>Classic Movies, Documentaries</td>\n",
       "      <td>Director John Ford captures combat footage of ...</td>\n",
       "    </tr>\n",
       "  </tbody>\n",
       "</table>\n",
       "</div>"
      ],
      "text/plain": [
       "     show_id     type                              title     director  \\\n",
       "4250   s4251  TV Show  Pioneers: First Women Filmmakers*          NaN   \n",
       "7790   s7791    Movie                     Prelude to War  Frank Capra   \n",
       "8205   s8206    Movie               The Battle of Midway    John Ford   \n",
       "\n",
       "                           cast        country date_added  release_year  \\\n",
       "4250                        NaN            NaN 2018-12-30          1925   \n",
       "7790                        NaN  United States 2017-03-31          1942   \n",
       "8205  Henry Fonda, Jane Darwell  United States 2017-03-31          1942   \n",
       "\n",
       "     rating  duration                      listed_in  \\\n",
       "4250  TV-14  1 Season                       TV Shows   \n",
       "7790  TV-14    52 min  Classic Movies, Documentaries   \n",
       "8205  TV-14    18 min  Classic Movies, Documentaries   \n",
       "\n",
       "                                            description  \n",
       "4250  This collection restores films from women who ...  \n",
       "7790  Frank Capra's documentary chronicles the rise ...  \n",
       "8205  Director John Ford captures combat footage of ...  "
      ]
     },
     "execution_count": 14,
     "metadata": {},
     "output_type": "execute_result"
    }
   ],
   "source": [
    "df[(df['release_year']==1942) | (df['release_year']==1925)]"
   ]
  },
  {
   "cell_type": "code",
   "execution_count": 15,
   "id": "bb74a234",
   "metadata": {
    "execution": {
     "iopub.execute_input": "2022-10-01T12:18:00.277643Z",
     "iopub.status.busy": "2022-10-01T12:18:00.276629Z",
     "iopub.status.idle": "2022-10-01T12:18:01.325717Z",
     "shell.execute_reply": "2022-10-01T12:18:01.324620Z"
    },
    "papermill": {
     "duration": 1.08096,
     "end_time": "2022-10-01T12:18:01.328179",
     "exception": false,
     "start_time": "2022-10-01T12:18:00.247219",
     "status": "completed"
    },
    "tags": []
   },
   "outputs": [
    {
     "data": {
      "text/html": [
       "        <script type=\"text/javascript\">\n",
       "        window.PlotlyConfig = {MathJaxConfig: 'local'};\n",
       "        if (window.MathJax && window.MathJax.Hub && window.MathJax.Hub.Config) {window.MathJax.Hub.Config({SVG: {font: \"STIX-Web\"}});}\n",
       "        if (typeof require !== 'undefined') {\n",
       "        require.undef(\"plotly\");\n",
       "        requirejs.config({\n",
       "            paths: {\n",
       "                'plotly': ['https://cdn.plot.ly/plotly-2.14.0.min']\n",
       "            }\n",
       "        });\n",
       "        require(['plotly'], function(Plotly) {\n",
       "            window._Plotly = Plotly;\n",
       "        });\n",
       "        }\n",
       "        </script>\n",
       "        "
      ]
     },
     "metadata": {},
     "output_type": "display_data"
    },
    {
     "data": {
      "text/html": [
       "<div>                            <div id=\"931dd559-2eab-4ea5-a350-3df59a8800a8\" class=\"plotly-graph-div\" style=\"height:525px; width:100%;\"></div>            <script type=\"text/javascript\">                require([\"plotly\"], function(Plotly) {                    window.PLOTLYENV=window.PLOTLYENV || {};                                    if (document.getElementById(\"931dd559-2eab-4ea5-a350-3df59a8800a8\")) {                    Plotly.newPlot(                        \"931dd559-2eab-4ea5-a350-3df59a8800a8\",                        [{\"hovertemplate\":\"type=TV Show<br>Release Year=%{x}<br>The number of Movies/TV Shows=%{y}<extra></extra>\",\"legendgroup\":\"TV Show\",\"line\":{\"color\":\"#636efa\",\"dash\":\"solid\"},\"marker\":{\"symbol\":\"circle\"},\"mode\":\"lines\",\"name\":\"TV Show\",\"orientation\":\"v\",\"showlegend\":true,\"x\":[2021,2020,2019,2018,2017,2016,2015,2014,2013,2012,2011,2010,2009,2008,2007,2006,2005,2004,2003,2002,2001,2000,1999,1998,1997,1996,1995,1994,1993,1992,1991,1990,1989,1988,1986,1985,1981,1979,1977,1974,1972,1967,1963,1946,1945,1925],\"xaxis\":\"x\",\"y\":[315,436,397,380,265,244,162,88,63,64,40,40,34,23,14,14,13,9,10,7,5,4,7,4,4,3,2,2,4,3,1,3,1,2,2,1,1,1,1,1,1,1,1,1,1,1],\"yaxis\":\"y\",\"type\":\"scatter\"},{\"hovertemplate\":\"type=Movie<br>Release Year=%{x}<br>The number of Movies/TV Shows=%{y}<extra></extra>\",\"legendgroup\":\"Movie\",\"line\":{\"color\":\"#EF553B\",\"dash\":\"solid\"},\"marker\":{\"symbol\":\"circle\"},\"mode\":\"lines\",\"name\":\"Movie\",\"orientation\":\"v\",\"showlegend\":true,\"x\":[2021,2020,2019,2018,2017,2016,2015,2014,2013,2012,2011,2010,2009,2008,2007,2006,2005,2004,2003,2002,2001,2000,1999,1998,1997,1996,1995,1994,1993,1992,1991,1990,1989,1988,1987,1986,1985,1984,1983,1982,1981,1980,1979,1978,1977,1976,1975,1974,1973,1972,1971,1970,1969,1968,1967,1966,1965,1964,1963,1962,1961,1960,1959,1958,1956,1955,1954,1947,1946,1945,1944,1943,1942],\"xaxis\":\"x\",\"y\":[277,517,633,767,767,658,398,264,225,173,145,154,118,113,74,82,67,55,51,44,40,33,32,32,34,21,23,20,24,20,16,19,15,16,8,11,9,12,11,17,12,11,10,7,6,9,7,6,10,4,5,2,2,3,4,1,2,2,1,3,1,4,1,3,2,3,2,1,1,3,3,3,2],\"yaxis\":\"y\",\"type\":\"scatter\"}],                        {\"template\":{\"data\":{\"histogram2dcontour\":[{\"type\":\"histogram2dcontour\",\"colorbar\":{\"outlinewidth\":0,\"ticks\":\"\"},\"colorscale\":[[0.0,\"#0d0887\"],[0.1111111111111111,\"#46039f\"],[0.2222222222222222,\"#7201a8\"],[0.3333333333333333,\"#9c179e\"],[0.4444444444444444,\"#bd3786\"],[0.5555555555555556,\"#d8576b\"],[0.6666666666666666,\"#ed7953\"],[0.7777777777777778,\"#fb9f3a\"],[0.8888888888888888,\"#fdca26\"],[1.0,\"#f0f921\"]]}],\"choropleth\":[{\"type\":\"choropleth\",\"colorbar\":{\"outlinewidth\":0,\"ticks\":\"\"}}],\"histogram2d\":[{\"type\":\"histogram2d\",\"colorbar\":{\"outlinewidth\":0,\"ticks\":\"\"},\"colorscale\":[[0.0,\"#0d0887\"],[0.1111111111111111,\"#46039f\"],[0.2222222222222222,\"#7201a8\"],[0.3333333333333333,\"#9c179e\"],[0.4444444444444444,\"#bd3786\"],[0.5555555555555556,\"#d8576b\"],[0.6666666666666666,\"#ed7953\"],[0.7777777777777778,\"#fb9f3a\"],[0.8888888888888888,\"#fdca26\"],[1.0,\"#f0f921\"]]}],\"heatmap\":[{\"type\":\"heatmap\",\"colorbar\":{\"outlinewidth\":0,\"ticks\":\"\"},\"colorscale\":[[0.0,\"#0d0887\"],[0.1111111111111111,\"#46039f\"],[0.2222222222222222,\"#7201a8\"],[0.3333333333333333,\"#9c179e\"],[0.4444444444444444,\"#bd3786\"],[0.5555555555555556,\"#d8576b\"],[0.6666666666666666,\"#ed7953\"],[0.7777777777777778,\"#fb9f3a\"],[0.8888888888888888,\"#fdca26\"],[1.0,\"#f0f921\"]]}],\"heatmapgl\":[{\"type\":\"heatmapgl\",\"colorbar\":{\"outlinewidth\":0,\"ticks\":\"\"},\"colorscale\":[[0.0,\"#0d0887\"],[0.1111111111111111,\"#46039f\"],[0.2222222222222222,\"#7201a8\"],[0.3333333333333333,\"#9c179e\"],[0.4444444444444444,\"#bd3786\"],[0.5555555555555556,\"#d8576b\"],[0.6666666666666666,\"#ed7953\"],[0.7777777777777778,\"#fb9f3a\"],[0.8888888888888888,\"#fdca26\"],[1.0,\"#f0f921\"]]}],\"contourcarpet\":[{\"type\":\"contourcarpet\",\"colorbar\":{\"outlinewidth\":0,\"ticks\":\"\"}}],\"contour\":[{\"type\":\"contour\",\"colorbar\":{\"outlinewidth\":0,\"ticks\":\"\"},\"colorscale\":[[0.0,\"#0d0887\"],[0.1111111111111111,\"#46039f\"],[0.2222222222222222,\"#7201a8\"],[0.3333333333333333,\"#9c179e\"],[0.4444444444444444,\"#bd3786\"],[0.5555555555555556,\"#d8576b\"],[0.6666666666666666,\"#ed7953\"],[0.7777777777777778,\"#fb9f3a\"],[0.8888888888888888,\"#fdca26\"],[1.0,\"#f0f921\"]]}],\"surface\":[{\"type\":\"surface\",\"colorbar\":{\"outlinewidth\":0,\"ticks\":\"\"},\"colorscale\":[[0.0,\"#0d0887\"],[0.1111111111111111,\"#46039f\"],[0.2222222222222222,\"#7201a8\"],[0.3333333333333333,\"#9c179e\"],[0.4444444444444444,\"#bd3786\"],[0.5555555555555556,\"#d8576b\"],[0.6666666666666666,\"#ed7953\"],[0.7777777777777778,\"#fb9f3a\"],[0.8888888888888888,\"#fdca26\"],[1.0,\"#f0f921\"]]}],\"mesh3d\":[{\"type\":\"mesh3d\",\"colorbar\":{\"outlinewidth\":0,\"ticks\":\"\"}}],\"scatter\":[{\"fillpattern\":{\"fillmode\":\"overlay\",\"size\":10,\"solidity\":0.2},\"type\":\"scatter\"}],\"parcoords\":[{\"type\":\"parcoords\",\"line\":{\"colorbar\":{\"outlinewidth\":0,\"ticks\":\"\"}}}],\"scatterpolargl\":[{\"type\":\"scatterpolargl\",\"marker\":{\"colorbar\":{\"outlinewidth\":0,\"ticks\":\"\"}}}],\"bar\":[{\"error_x\":{\"color\":\"#2a3f5f\"},\"error_y\":{\"color\":\"#2a3f5f\"},\"marker\":{\"line\":{\"color\":\"#E5ECF6\",\"width\":0.5},\"pattern\":{\"fillmode\":\"overlay\",\"size\":10,\"solidity\":0.2}},\"type\":\"bar\"}],\"scattergeo\":[{\"type\":\"scattergeo\",\"marker\":{\"colorbar\":{\"outlinewidth\":0,\"ticks\":\"\"}}}],\"scatterpolar\":[{\"type\":\"scatterpolar\",\"marker\":{\"colorbar\":{\"outlinewidth\":0,\"ticks\":\"\"}}}],\"histogram\":[{\"marker\":{\"pattern\":{\"fillmode\":\"overlay\",\"size\":10,\"solidity\":0.2}},\"type\":\"histogram\"}],\"scattergl\":[{\"type\":\"scattergl\",\"marker\":{\"colorbar\":{\"outlinewidth\":0,\"ticks\":\"\"}}}],\"scatter3d\":[{\"type\":\"scatter3d\",\"line\":{\"colorbar\":{\"outlinewidth\":0,\"ticks\":\"\"}},\"marker\":{\"colorbar\":{\"outlinewidth\":0,\"ticks\":\"\"}}}],\"scattermapbox\":[{\"type\":\"scattermapbox\",\"marker\":{\"colorbar\":{\"outlinewidth\":0,\"ticks\":\"\"}}}],\"scatterternary\":[{\"type\":\"scatterternary\",\"marker\":{\"colorbar\":{\"outlinewidth\":0,\"ticks\":\"\"}}}],\"scattercarpet\":[{\"type\":\"scattercarpet\",\"marker\":{\"colorbar\":{\"outlinewidth\":0,\"ticks\":\"\"}}}],\"carpet\":[{\"aaxis\":{\"endlinecolor\":\"#2a3f5f\",\"gridcolor\":\"white\",\"linecolor\":\"white\",\"minorgridcolor\":\"white\",\"startlinecolor\":\"#2a3f5f\"},\"baxis\":{\"endlinecolor\":\"#2a3f5f\",\"gridcolor\":\"white\",\"linecolor\":\"white\",\"minorgridcolor\":\"white\",\"startlinecolor\":\"#2a3f5f\"},\"type\":\"carpet\"}],\"table\":[{\"cells\":{\"fill\":{\"color\":\"#EBF0F8\"},\"line\":{\"color\":\"white\"}},\"header\":{\"fill\":{\"color\":\"#C8D4E3\"},\"line\":{\"color\":\"white\"}},\"type\":\"table\"}],\"barpolar\":[{\"marker\":{\"line\":{\"color\":\"#E5ECF6\",\"width\":0.5},\"pattern\":{\"fillmode\":\"overlay\",\"size\":10,\"solidity\":0.2}},\"type\":\"barpolar\"}],\"pie\":[{\"automargin\":true,\"type\":\"pie\"}]},\"layout\":{\"autotypenumbers\":\"strict\",\"colorway\":[\"#636efa\",\"#EF553B\",\"#00cc96\",\"#ab63fa\",\"#FFA15A\",\"#19d3f3\",\"#FF6692\",\"#B6E880\",\"#FF97FF\",\"#FECB52\"],\"font\":{\"color\":\"#2a3f5f\"},\"hovermode\":\"closest\",\"hoverlabel\":{\"align\":\"left\"},\"paper_bgcolor\":\"white\",\"plot_bgcolor\":\"#E5ECF6\",\"polar\":{\"bgcolor\":\"#E5ECF6\",\"angularaxis\":{\"gridcolor\":\"white\",\"linecolor\":\"white\",\"ticks\":\"\"},\"radialaxis\":{\"gridcolor\":\"white\",\"linecolor\":\"white\",\"ticks\":\"\"}},\"ternary\":{\"bgcolor\":\"#E5ECF6\",\"aaxis\":{\"gridcolor\":\"white\",\"linecolor\":\"white\",\"ticks\":\"\"},\"baxis\":{\"gridcolor\":\"white\",\"linecolor\":\"white\",\"ticks\":\"\"},\"caxis\":{\"gridcolor\":\"white\",\"linecolor\":\"white\",\"ticks\":\"\"}},\"coloraxis\":{\"colorbar\":{\"outlinewidth\":0,\"ticks\":\"\"}},\"colorscale\":{\"sequential\":[[0.0,\"#0d0887\"],[0.1111111111111111,\"#46039f\"],[0.2222222222222222,\"#7201a8\"],[0.3333333333333333,\"#9c179e\"],[0.4444444444444444,\"#bd3786\"],[0.5555555555555556,\"#d8576b\"],[0.6666666666666666,\"#ed7953\"],[0.7777777777777778,\"#fb9f3a\"],[0.8888888888888888,\"#fdca26\"],[1.0,\"#f0f921\"]],\"sequentialminus\":[[0.0,\"#0d0887\"],[0.1111111111111111,\"#46039f\"],[0.2222222222222222,\"#7201a8\"],[0.3333333333333333,\"#9c179e\"],[0.4444444444444444,\"#bd3786\"],[0.5555555555555556,\"#d8576b\"],[0.6666666666666666,\"#ed7953\"],[0.7777777777777778,\"#fb9f3a\"],[0.8888888888888888,\"#fdca26\"],[1.0,\"#f0f921\"]],\"diverging\":[[0,\"#8e0152\"],[0.1,\"#c51b7d\"],[0.2,\"#de77ae\"],[0.3,\"#f1b6da\"],[0.4,\"#fde0ef\"],[0.5,\"#f7f7f7\"],[0.6,\"#e6f5d0\"],[0.7,\"#b8e186\"],[0.8,\"#7fbc41\"],[0.9,\"#4d9221\"],[1,\"#276419\"]]},\"xaxis\":{\"gridcolor\":\"white\",\"linecolor\":\"white\",\"ticks\":\"\",\"title\":{\"standoff\":15},\"zerolinecolor\":\"white\",\"automargin\":true,\"zerolinewidth\":2},\"yaxis\":{\"gridcolor\":\"white\",\"linecolor\":\"white\",\"ticks\":\"\",\"title\":{\"standoff\":15},\"zerolinecolor\":\"white\",\"automargin\":true,\"zerolinewidth\":2},\"scene\":{\"xaxis\":{\"backgroundcolor\":\"#E5ECF6\",\"gridcolor\":\"white\",\"linecolor\":\"white\",\"showbackground\":true,\"ticks\":\"\",\"zerolinecolor\":\"white\",\"gridwidth\":2},\"yaxis\":{\"backgroundcolor\":\"#E5ECF6\",\"gridcolor\":\"white\",\"linecolor\":\"white\",\"showbackground\":true,\"ticks\":\"\",\"zerolinecolor\":\"white\",\"gridwidth\":2},\"zaxis\":{\"backgroundcolor\":\"#E5ECF6\",\"gridcolor\":\"white\",\"linecolor\":\"white\",\"showbackground\":true,\"ticks\":\"\",\"zerolinecolor\":\"white\",\"gridwidth\":2}},\"shapedefaults\":{\"line\":{\"color\":\"#2a3f5f\"}},\"annotationdefaults\":{\"arrowcolor\":\"#2a3f5f\",\"arrowhead\":0,\"arrowwidth\":1},\"geo\":{\"bgcolor\":\"white\",\"landcolor\":\"#E5ECF6\",\"subunitcolor\":\"white\",\"showland\":true,\"showlakes\":true,\"lakecolor\":\"white\"},\"title\":{\"x\":0.05},\"mapbox\":{\"style\":\"light\"}}},\"xaxis\":{\"anchor\":\"y\",\"domain\":[0.0,1.0],\"title\":{\"text\":\"Release Year\"}},\"yaxis\":{\"anchor\":\"x\",\"domain\":[0.0,1.0],\"title\":{\"text\":\"The number of Movies/TV Shows\"}},\"legend\":{\"title\":{\"text\":\"type\"},\"tracegroupgap\":0},\"title\":{\"text\":\"The number of Movies/TV Shows each year\"}},                        {\"responsive\": true}                    ).then(function(){\n",
       "                            \n",
       "var gd = document.getElementById('931dd559-2eab-4ea5-a350-3df59a8800a8');\n",
       "var x = new MutationObserver(function (mutations, observer) {{\n",
       "        var display = window.getComputedStyle(gd).display;\n",
       "        if (!display || display === 'none') {{\n",
       "            console.log([gd, 'removed!']);\n",
       "            Plotly.purge(gd);\n",
       "            observer.disconnect();\n",
       "        }}\n",
       "}});\n",
       "\n",
       "// Listen for the removal of the full notebook cells\n",
       "var notebookContainer = gd.closest('#notebook-container');\n",
       "if (notebookContainer) {{\n",
       "    x.observe(notebookContainer, {childList: true});\n",
       "}}\n",
       "\n",
       "// Listen for the clearing of the current output cell\n",
       "var outputEl = gd.closest('.output');\n",
       "if (outputEl) {{\n",
       "    x.observe(outputEl, {childList: true});\n",
       "}}\n",
       "\n",
       "                        })                };                });            </script>        </div>"
      ]
     },
     "metadata": {},
     "output_type": "display_data"
    }
   ],
   "source": [
    "fig = px.line(Movie_year, x = \"release_year\", y = \"count\",\n",
    "              color = \"type\",title ='The number of Movies/TV Shows each year',\n",
    "              labels={'release_year':'Release Year','count':'The number of Movies/TV Shows'})\n",
    "fig.show()"
   ]
  },
  {
   "cell_type": "code",
   "execution_count": 16,
   "id": "a777549d",
   "metadata": {
    "execution": {
     "iopub.execute_input": "2022-10-01T12:18:01.387250Z",
     "iopub.status.busy": "2022-10-01T12:18:01.386824Z",
     "iopub.status.idle": "2022-10-01T12:18:01.728039Z",
     "shell.execute_reply": "2022-10-01T12:18:01.727071Z"
    },
    "papermill": {
     "duration": 0.373297,
     "end_time": "2022-10-01T12:18:01.730222",
     "exception": false,
     "start_time": "2022-10-01T12:18:01.356925",
     "status": "completed"
    },
    "tags": []
   },
   "outputs": [
    {
     "data": {
      "image/png": "[encoded data removed]",
      "text/plain": [
       "<Figure size 1080x360 with 1 Axes>"
      ]
     },
     "metadata": {
      "needs_background": "light"
     },
     "output_type": "display_data"
    }
   ],
   "source": [
    "# create plot\n",
    "f, ax = plt.subplots(figsize=(15, 5))\n",
    "sns.set(style='whitegrid')\n",
    "sns.barplot(data=Movie_year.head(20),x='release_year',hue='type',y='count',palette='cubehelix_r')\n",
    "ax.set(title='The number of Movies/TV Shows of the last decade', ylabel='count',xlabel='Release Year')\n",
    "plt.legend(loc='upper right')\n",
    "plt.show()"
   ]
  },
  {
   "cell_type": "markdown",
   "id": "c74d46fa",
   "metadata": {
    "papermill": {
     "duration": 0.028982,
     "end_time": "2022-10-01T12:18:01.790707",
     "exception": false,
     "start_time": "2022-10-01T12:18:01.761725",
     "status": "completed"
    },
    "tags": []
   },
   "source": [
    ">* **As we can see from the plots, we find both films and TV Shows that are constantly increasing together until 2018**\n",
    ">* **In 2019, we notice a difference, as films began to decrease from the previous year until significantly in 2021**\n",
    ">* **TV Shows continued to rise in 2019 and 2020 but decreased significantly in 2021**\n",
    ">* **We note that the first program was Pioneers: First Women Filmmakers in 1925**\n",
    ">* **We note that in 1942 the USA witnessed the emergence of films through the Prelude to War movie and The Battle of Midway movie.**"
   ]
  },
  {
   "cell_type": "markdown",
   "id": "d18515f5",
   "metadata": {
    "papermill": {
     "duration": 0.028789,
     "end_time": "2022-10-01T12:18:01.848503",
     "exception": false,
     "start_time": "2022-10-01T12:18:01.819714",
     "status": "completed"
    },
    "tags": []
   },
   "source": [
    "### Q2: Most categories appeared in the last years?"
   ]
  },
  {
   "cell_type": "code",
   "execution_count": 17,
   "id": "0fe8105a",
   "metadata": {
    "execution": {
     "iopub.execute_input": "2022-10-01T12:18:01.909191Z",
     "iopub.status.busy": "2022-10-01T12:18:01.908060Z",
     "iopub.status.idle": "2022-10-01T12:18:01.925741Z",
     "shell.execute_reply": "2022-10-01T12:18:01.924550Z"
    },
    "papermill": {
     "duration": 0.050703,
     "end_time": "2022-10-01T12:18:01.928377",
     "exception": false,
     "start_time": "2022-10-01T12:18:01.877674",
     "status": "completed"
    },
    "tags": []
   },
   "outputs": [],
   "source": [
    "dic={}\n",
    "data= df[df['type']=='TV Show']\n",
    "for x,y in data['listed_in'].items():\n",
    "    data=y.split(',')\n",
    "    for i in data:\n",
    "        i=i.strip()\n",
    "        if i in dic.keys():\n",
    "            dic[i]=dic[i]+1\n",
    "        else:\n",
    "            dic[i]=1\n",
    "categories_Show=pd.DataFrame(list(dic.values()),index=list(dic.keys()),columns=[\"Count\"])\n",
    "categories_Show=categories_Show.sort_values(by='Count',ascending=False)\n",
    "categories_Show= categories_Show.reset_index()"
   ]
  },
  {
   "cell_type": "code",
   "execution_count": 18,
   "id": "81d9c7ab",
   "metadata": {
    "execution": {
     "iopub.execute_input": "2022-10-01T12:18:01.988125Z",
     "iopub.status.busy": "2022-10-01T12:18:01.987724Z",
     "iopub.status.idle": "2022-10-01T12:18:02.012095Z",
     "shell.execute_reply": "2022-10-01T12:18:02.010997Z"
    },
    "papermill": {
     "duration": 0.057579,
     "end_time": "2022-10-01T12:18:02.014921",
     "exception": false,
     "start_time": "2022-10-01T12:18:01.957342",
     "status": "completed"
    },
    "tags": []
   },
   "outputs": [],
   "source": [
    "dic={}\n",
    "data= df[df['type']=='Movie']\n",
    "for x,y in data['listed_in'].items():\n",
    "    data=y.split(',')\n",
    "    for i in data:\n",
    "        i=i.strip()\n",
    "        if i in dic.keys():\n",
    "            dic[i]=dic[i]+1\n",
    "        else:\n",
    "            dic[i]=1\n",
    "categories_mov=pd.DataFrame(list(dic.values()),index=list(dic.keys()),columns=[\"Count\"])\n",
    "categories_mov=categories_mov.sort_values(by='Count',ascending=False)\n",
    "categories_mov= categories_mov.reset_index()"
   ]
  },
  {
   "cell_type": "code",
   "execution_count": 19,
   "id": "24708e11",
   "metadata": {
    "execution": {
     "iopub.execute_input": "2022-10-01T12:18:02.077535Z",
     "iopub.status.busy": "2022-10-01T12:18:02.077082Z",
     "iopub.status.idle": "2022-10-01T12:18:02.657107Z",
     "shell.execute_reply": "2022-10-01T12:18:02.656020Z"
    },
    "papermill": {
     "duration": 0.614485,
     "end_time": "2022-10-01T12:18:02.659366",
     "exception": false,
     "start_time": "2022-10-01T12:18:02.044881",
     "status": "completed"
    },
    "tags": []
   },
   "outputs": [
    {
     "data": {
      "image/png": "[encoded data removed]",
      "text/plain": [
       "<Figure size 1080x432 with 2 Axes>"
      ]
     },
     "metadata": {},
     "output_type": "display_data"
    }
   ],
   "source": [
    "# create plot\n",
    "f, ax = plt.subplots(1,2,figsize=(15, 6))\n",
    "ax = np.ravel(ax)\n",
    "\n",
    "sns.set(style='whitegrid')\n",
    "sns.barplot(data=categories_mov.head(10),y='index',x='Count',ax=ax[0],palette='cubehelix_r')\n",
    "ax[0].set(title='most categories in Movie of the last 2 decades ', ylabel='categories',xlabel='The number of Movies')\n",
    "sns.barplot(data=categories_Show.head(10),y='index',x='Count',ax=ax[1],palette='gnuplot2')\n",
    "ax[1].set(title='most categories in TV Show of the last 2 decades ', ylabel='categories',xlabel='The number of TV Shows')\n",
    "ax = np.reshape(ax, (1, 2))\n",
    "plt.tight_layout()\n",
    "plt.show()"
   ]
  },
  {
   "cell_type": "markdown",
   "id": "885c422c",
   "metadata": {
    "papermill": {
     "duration": 0.029468,
     "end_time": "2022-10-01T12:18:02.718752",
     "exception": false,
     "start_time": "2022-10-01T12:18:02.689284",
     "status": "completed"
    },
    "tags": []
   },
   "source": [
    ">* **We note that Movies and TV Shows of the category International, Dramas and Comedies are the most common categories**"
   ]
  },
  {
   "cell_type": "code",
   "execution_count": 20,
   "id": "e5721f79",
   "metadata": {
    "execution": {
     "iopub.execute_input": "2022-10-01T12:18:02.781750Z",
     "iopub.status.busy": "2022-10-01T12:18:02.780799Z",
     "iopub.status.idle": "2022-10-01T12:18:04.376594Z",
     "shell.execute_reply": "2022-10-01T12:18:04.375385Z"
    },
    "papermill": {
     "duration": 1.630656,
     "end_time": "2022-10-01T12:18:04.379225",
     "exception": false,
     "start_time": "2022-10-01T12:18:02.748569",
     "status": "completed"
    },
    "tags": []
   },
   "outputs": [],
   "source": [
    "data_df=df.copy()\n",
    "cat1=['International', 'Dramas', 'Comedies']\n",
    "dic={\n",
    "'release_year':[],\n",
    "'type':[],\n",
    "'International':[],\n",
    " 'Dramas':[],\n",
    " 'Comedies':[]\n",
    "}\n",
    "key=list(dic.keys())\n",
    "data_df=data_df[data_df['release_year']>1980].reset_index(drop=True)\n",
    "for x in data_df.index:\n",
    "    y=data_df.iloc[x]\n",
    "    dic['release_year'].append(y['release_year'])\n",
    "    dic['type'].append(y['type'])\n",
    "    data=y['listed_in'].split(',')\n",
    "    data=[x.strip() for x in data]\n",
    "    for i in data:\n",
    "        if cat1[0] in i:\n",
    "            try:\n",
    "                dic[cat1[0]][x]=1\n",
    "            except:\n",
    "                dic[cat1[0]].append(1)\n",
    "            data[data.index(i)]=cat1[0]\n",
    "        elif cat1[1] in i:\n",
    "            try:\n",
    "                dic[cat1[1]][x]=1\n",
    "            except:\n",
    "                dic[cat1[1]].append(1)\n",
    "                \n",
    "            data[data.index(i)]=cat1[1]\n",
    "        elif cat1[2] in i:\n",
    "            try:\n",
    "                dic[cat1[2]][x]=1\n",
    "            except:\n",
    "                dic[cat1[2]].append(1)\n",
    "            data[data.index(i)]=cat1[2]\n",
    "            \n",
    "    temp = [x for x in cat1 if x not in data]\n",
    "    for i in temp:\n",
    "        if i in cat1:\n",
    "            try:\n",
    "                dic[i][x]=0\n",
    "            except:\n",
    "                dic[i].append(0)"
   ]
  },
  {
   "cell_type": "code",
   "execution_count": 21,
   "id": "2b9d981e",
   "metadata": {
    "execution": {
     "iopub.execute_input": "2022-10-01T12:18:04.441464Z",
     "iopub.status.busy": "2022-10-01T12:18:04.440771Z",
     "iopub.status.idle": "2022-10-01T12:18:04.530535Z",
     "shell.execute_reply": "2022-10-01T12:18:04.529419Z"
    },
    "papermill": {
     "duration": 0.123567,
     "end_time": "2022-10-01T12:18:04.532938",
     "exception": false,
     "start_time": "2022-10-01T12:18:04.409371",
     "status": "completed"
    },
    "tags": []
   },
   "outputs": [
    {
     "data": {
      "text/html": [
       "<div>                            <div id=\"42615ea1-3311-46ac-998a-75fd239ad661\" class=\"plotly-graph-div\" style=\"height:525px; width:100%;\"></div>            <script type=\"text/javascript\">                require([\"plotly\"], function(Plotly) {                    window.PLOTLYENV=window.PLOTLYENV || {};                                    if (document.getElementById(\"42615ea1-3311-46ac-998a-75fd239ad661\")) {                    Plotly.newPlot(                        \"42615ea1-3311-46ac-998a-75fd239ad661\",                        [{\"hovertemplate\":\"variable=International<br>Release Year=%{x}<br>value=%{y}<extra></extra>\",\"legendgroup\":\"International\",\"line\":{\"color\":\"#636efa\",\"dash\":\"solid\"},\"marker\":{\"symbol\":\"circle\"},\"mode\":\"lines\",\"name\":\"International\",\"orientation\":\"v\",\"showlegend\":true,\"x\":[1981,1982,1983,1984,1985,1986,1987,1988,1989,1990,1991,1992,1993,1994,1995,1996,1997,1998,1999,2000,2001,2002,2003,2004,2005,2006,2007,2008,2009,2010,2011,2012,2013,2014,2015,2016,2017,2018,2019,2020,2021],\"xaxis\":\"x\",\"y\":[5,10,8,6,7,3,0,4,5,5,2,5,8,7,8,5,9,9,14,9,14,22,24,34,32,47,36,58,71,97,78,116,161,174,303,438,464,530,483,453,290],\"yaxis\":\"y\",\"type\":\"scatter\"},{\"hovertemplate\":\"variable=Dramas<br>Release Year=%{x}<br>value=%{y}<extra></extra>\",\"legendgroup\":\"Dramas\",\"line\":{\"color\":\"#EF553B\",\"dash\":\"solid\"},\"marker\":{\"symbol\":\"circle\"},\"mode\":\"lines\",\"name\":\"Dramas\",\"orientation\":\"v\",\"showlegend\":true,\"x\":[1981,1982,1983,1984,1985,1986,1987,1988,1989,1990,1991,1992,1993,1994,1995,1996,1997,1998,1999,2000,2001,2002,2003,2004,2005,2006,2007,2008,2009,2010,2011,2012,2013,2014,2015,2016,2017,2018,2019,2020,2021],\"xaxis\":\"x\",\"y\":[4,9,6,6,3,6,4,8,8,11,6,6,16,9,10,8,11,14,14,13,17,25,18,21,28,38,35,53,52,79,69,83,101,126,230,338,362,413,376,322,175],\"yaxis\":\"y\",\"type\":\"scatter\"},{\"hovertemplate\":\"variable=Comedies<br>Release Year=%{x}<br>value=%{y}<extra></extra>\",\"legendgroup\":\"Comedies\",\"line\":{\"color\":\"#00cc96\",\"dash\":\"solid\"},\"marker\":{\"symbol\":\"circle\"},\"mode\":\"lines\",\"name\":\"Comedies\",\"orientation\":\"v\",\"showlegend\":true,\"x\":[1981,1982,1983,1984,1985,1986,1987,1988,1989,1990,1991,1992,1993,1994,1995,1996,1997,1998,1999,2000,2001,2002,2003,2004,2005,2006,2007,2008,2009,2010,2011,2012,2013,2014,2015,2016,2017,2018,2019,2020,2021],\"xaxis\":\"x\",\"y\":[5,5,1,3,5,2,1,6,4,7,5,8,4,8,9,12,16,17,15,17,21,12,25,23,33,38,32,47,48,57,61,81,79,93,131,197,221,260,234,238,142],\"yaxis\":\"y\",\"type\":\"scatter\"}],                        {\"template\":{\"data\":{\"histogram2dcontour\":[{\"type\":\"histogram2dcontour\",\"colorbar\":{\"outlinewidth\":0,\"ticks\":\"\"},\"colorscale\":[[0.0,\"#0d0887\"],[0.1111111111111111,\"#46039f\"],[0.2222222222222222,\"#7201a8\"],[0.3333333333333333,\"#9c179e\"],[0.4444444444444444,\"#bd3786\"],[0.5555555555555556,\"#d8576b\"],[0.6666666666666666,\"#ed7953\"],[0.7777777777777778,\"#fb9f3a\"],[0.8888888888888888,\"#fdca26\"],[1.0,\"#f0f921\"]]}],\"choropleth\":[{\"type\":\"choropleth\",\"colorbar\":{\"outlinewidth\":0,\"ticks\":\"\"}}],\"histogram2d\":[{\"type\":\"histogram2d\",\"colorbar\":{\"outlinewidth\":0,\"ticks\":\"\"},\"colorscale\":[[0.0,\"#0d0887\"],[0.1111111111111111,\"#46039f\"],[0.2222222222222222,\"#7201a8\"],[0.3333333333333333,\"#9c179e\"],[0.4444444444444444,\"#bd3786\"],[0.5555555555555556,\"#d8576b\"],[0.6666666666666666,\"#ed7953\"],[0.7777777777777778,\"#fb9f3a\"],[0.8888888888888888,\"#fdca26\"],[1.0,\"#f0f921\"]]}],\"heatmap\":[{\"type\":\"heatmap\",\"colorbar\":{\"outlinewidth\":0,\"ticks\":\"\"},\"colorscale\":[[0.0,\"#0d0887\"],[0.1111111111111111,\"#46039f\"],[0.2222222222222222,\"#7201a8\"],[0.3333333333333333,\"#9c179e\"],[0.4444444444444444,\"#bd3786\"],[0.5555555555555556,\"#d8576b\"],[0.6666666666666666,\"#ed7953\"],[0.7777777777777778,\"#fb9f3a\"],[0.8888888888888888,\"#fdca26\"],[1.0,\"#f0f921\"]]}],\"heatmapgl\":[{\"type\":\"heatmapgl\",\"colorbar\":{\"outlinewidth\":0,\"ticks\":\"\"},\"colorscale\":[[0.0,\"#0d0887\"],[0.1111111111111111,\"#46039f\"],[0.2222222222222222,\"#7201a8\"],[0.3333333333333333,\"#9c179e\"],[0.4444444444444444,\"#bd3786\"],[0.5555555555555556,\"#d8576b\"],[0.6666666666666666,\"#ed7953\"],[0.7777777777777778,\"#fb9f3a\"],[0.8888888888888888,\"#fdca26\"],[1.0,\"#f0f921\"]]}],\"contourcarpet\":[{\"type\":\"contourcarpet\",\"colorbar\":{\"outlinewidth\":0,\"ticks\":\"\"}}],\"contour\":[{\"type\":\"contour\",\"colorbar\":{\"outlinewidth\":0,\"ticks\":\"\"},\"colorscale\":[[0.0,\"#0d0887\"],[0.1111111111111111,\"#46039f\"],[0.2222222222222222,\"#7201a8\"],[0.3333333333333333,\"#9c179e\"],[0.4444444444444444,\"#bd3786\"],[0.5555555555555556,\"#d8576b\"],[0.6666666666666666,\"#ed7953\"],[0.7777777777777778,\"#fb9f3a\"],[0.8888888888888888,\"#fdca26\"],[1.0,\"#f0f921\"]]}],\"surface\":[{\"type\":\"surface\",\"colorbar\":{\"outlinewidth\":0,\"ticks\":\"\"},\"colorscale\":[[0.0,\"#0d0887\"],[0.1111111111111111,\"#46039f\"],[0.2222222222222222,\"#7201a8\"],[0.3333333333333333,\"#9c179e\"],[0.4444444444444444,\"#bd3786\"],[0.5555555555555556,\"#d8576b\"],[0.6666666666666666,\"#ed7953\"],[0.7777777777777778,\"#fb9f3a\"],[0.8888888888888888,\"#fdca26\"],[1.0,\"#f0f921\"]]}],\"mesh3d\":[{\"type\":\"mesh3d\",\"colorbar\":{\"outlinewidth\":0,\"ticks\":\"\"}}],\"scatter\":[{\"fillpattern\":{\"fillmode\":\"overlay\",\"size\":10,\"solidity\":0.2},\"type\":\"scatter\"}],\"parcoords\":[{\"type\":\"parcoords\",\"line\":{\"colorbar\":{\"outlinewidth\":0,\"ticks\":\"\"}}}],\"scatterpolargl\":[{\"type\":\"scatterpolargl\",\"marker\":{\"colorbar\":{\"outlinewidth\":0,\"ticks\":\"\"}}}],\"bar\":[{\"error_x\":{\"color\":\"#2a3f5f\"},\"error_y\":{\"color\":\"#2a3f5f\"},\"marker\":{\"line\":{\"color\":\"#E5ECF6\",\"width\":0.5},\"pattern\":{\"fillmode\":\"overlay\",\"size\":10,\"solidity\":0.2}},\"type\":\"bar\"}],\"scattergeo\":[{\"type\":\"scattergeo\",\"marker\":{\"colorbar\":{\"outlinewidth\":0,\"ticks\":\"\"}}}],\"scatterpolar\":[{\"type\":\"scatterpolar\",\"marker\":{\"colorbar\":{\"outlinewidth\":0,\"ticks\":\"\"}}}],\"histogram\":[{\"marker\":{\"pattern\":{\"fillmode\":\"overlay\",\"size\":10,\"solidity\":0.2}},\"type\":\"histogram\"}],\"scattergl\":[{\"type\":\"scattergl\",\"marker\":{\"colorbar\":{\"outlinewidth\":0,\"ticks\":\"\"}}}],\"scatter3d\":[{\"type\":\"scatter3d\",\"line\":{\"colorbar\":{\"outlinewidth\":0,\"ticks\":\"\"}},\"marker\":{\"colorbar\":{\"outlinewidth\":0,\"ticks\":\"\"}}}],\"scattermapbox\":[{\"type\":\"scattermapbox\",\"marker\":{\"colorbar\":{\"outlinewidth\":0,\"ticks\":\"\"}}}],\"scatterternary\":[{\"type\":\"scatterternary\",\"marker\":{\"colorbar\":{\"outlinewidth\":0,\"ticks\":\"\"}}}],\"scattercarpet\":[{\"type\":\"scattercarpet\",\"marker\":{\"colorbar\":{\"outlinewidth\":0,\"ticks\":\"\"}}}],\"carpet\":[{\"aaxis\":{\"endlinecolor\":\"#2a3f5f\",\"gridcolor\":\"white\",\"linecolor\":\"white\",\"minorgridcolor\":\"white\",\"startlinecolor\":\"#2a3f5f\"},\"baxis\":{\"endlinecolor\":\"#2a3f5f\",\"gridcolor\":\"white\",\"linecolor\":\"white\",\"minorgridcolor\":\"white\",\"startlinecolor\":\"#2a3f5f\"},\"type\":\"carpet\"}],\"table\":[{\"cells\":{\"fill\":{\"color\":\"#EBF0F8\"},\"line\":{\"color\":\"white\"}},\"header\":{\"fill\":{\"color\":\"#C8D4E3\"},\"line\":{\"color\":\"white\"}},\"type\":\"table\"}],\"barpolar\":[{\"marker\":{\"line\":{\"color\":\"#E5ECF6\",\"width\":0.5},\"pattern\":{\"fillmode\":\"overlay\",\"size\":10,\"solidity\":0.2}},\"type\":\"barpolar\"}],\"pie\":[{\"automargin\":true,\"type\":\"pie\"}]},\"layout\":{\"autotypenumbers\":\"strict\",\"colorway\":[\"#636efa\",\"#EF553B\",\"#00cc96\",\"#ab63fa\",\"#FFA15A\",\"#19d3f3\",\"#FF6692\",\"#B6E880\",\"#FF97FF\",\"#FECB52\"],\"font\":{\"color\":\"#2a3f5f\"},\"hovermode\":\"closest\",\"hoverlabel\":{\"align\":\"left\"},\"paper_bgcolor\":\"white\",\"plot_bgcolor\":\"#E5ECF6\",\"polar\":{\"bgcolor\":\"#E5ECF6\",\"angularaxis\":{\"gridcolor\":\"white\",\"linecolor\":\"white\",\"ticks\":\"\"},\"radialaxis\":{\"gridcolor\":\"white\",\"linecolor\":\"white\",\"ticks\":\"\"}},\"ternary\":{\"bgcolor\":\"#E5ECF6\",\"aaxis\":{\"gridcolor\":\"white\",\"linecolor\":\"white\",\"ticks\":\"\"},\"baxis\":{\"gridcolor\":\"white\",\"linecolor\":\"white\",\"ticks\":\"\"},\"caxis\":{\"gridcolor\":\"white\",\"linecolor\":\"white\",\"ticks\":\"\"}},\"coloraxis\":{\"colorbar\":{\"outlinewidth\":0,\"ticks\":\"\"}},\"colorscale\":{\"sequential\":[[0.0,\"#0d0887\"],[0.1111111111111111,\"#46039f\"],[0.2222222222222222,\"#7201a8\"],[0.3333333333333333,\"#9c179e\"],[0.4444444444444444,\"#bd3786\"],[0.5555555555555556,\"#d8576b\"],[0.6666666666666666,\"#ed7953\"],[0.7777777777777778,\"#fb9f3a\"],[0.8888888888888888,\"#fdca26\"],[1.0,\"#f0f921\"]],\"sequentialminus\":[[0.0,\"#0d0887\"],[0.1111111111111111,\"#46039f\"],[0.2222222222222222,\"#7201a8\"],[0.3333333333333333,\"#9c179e\"],[0.4444444444444444,\"#bd3786\"],[0.5555555555555556,\"#d8576b\"],[0.6666666666666666,\"#ed7953\"],[0.7777777777777778,\"#fb9f3a\"],[0.8888888888888888,\"#fdca26\"],[1.0,\"#f0f921\"]],\"diverging\":[[0,\"#8e0152\"],[0.1,\"#c51b7d\"],[0.2,\"#de77ae\"],[0.3,\"#f1b6da\"],[0.4,\"#fde0ef\"],[0.5,\"#f7f7f7\"],[0.6,\"#e6f5d0\"],[0.7,\"#b8e186\"],[0.8,\"#7fbc41\"],[0.9,\"#4d9221\"],[1,\"#276419\"]]},\"xaxis\":{\"gridcolor\":\"white\",\"linecolor\":\"white\",\"ticks\":\"\",\"title\":{\"standoff\":15},\"zerolinecolor\":\"white\",\"automargin\":true,\"zerolinewidth\":2},\"yaxis\":{\"gridcolor\":\"white\",\"linecolor\":\"white\",\"ticks\":\"\",\"title\":{\"standoff\":15},\"zerolinecolor\":\"white\",\"automargin\":true,\"zerolinewidth\":2},\"scene\":{\"xaxis\":{\"backgroundcolor\":\"#E5ECF6\",\"gridcolor\":\"white\",\"linecolor\":\"white\",\"showbackground\":true,\"ticks\":\"\",\"zerolinecolor\":\"white\",\"gridwidth\":2},\"yaxis\":{\"backgroundcolor\":\"#E5ECF6\",\"gridcolor\":\"white\",\"linecolor\":\"white\",\"showbackground\":true,\"ticks\":\"\",\"zerolinecolor\":\"white\",\"gridwidth\":2},\"zaxis\":{\"backgroundcolor\":\"#E5ECF6\",\"gridcolor\":\"white\",\"linecolor\":\"white\",\"showbackground\":true,\"ticks\":\"\",\"zerolinecolor\":\"white\",\"gridwidth\":2}},\"shapedefaults\":{\"line\":{\"color\":\"#2a3f5f\"}},\"annotationdefaults\":{\"arrowcolor\":\"#2a3f5f\",\"arrowhead\":0,\"arrowwidth\":1},\"geo\":{\"bgcolor\":\"white\",\"landcolor\":\"#E5ECF6\",\"subunitcolor\":\"white\",\"showland\":true,\"showlakes\":true,\"lakecolor\":\"white\"},\"title\":{\"x\":0.05},\"mapbox\":{\"style\":\"light\"}}},\"xaxis\":{\"anchor\":\"y\",\"domain\":[0.0,1.0],\"title\":{\"text\":\"Release Year\"}},\"yaxis\":{\"anchor\":\"x\",\"domain\":[0.0,1.0],\"title\":{\"text\":\"value\"}},\"legend\":{\"title\":{\"text\":\"variable\"},\"tracegroupgap\":0},\"title\":{\"text\":\"The number of Movies/TV Shows for each year acording to Top 3 Movies/TV Shows categories\"}},                        {\"responsive\": true}                    ).then(function(){\n",
       "                            \n",
       "var gd = document.getElementById('42615ea1-3311-46ac-998a-75fd239ad661');\n",
       "var x = new MutationObserver(function (mutations, observer) {{\n",
       "        var display = window.getComputedStyle(gd).display;\n",
       "        if (!display || display === 'none') {{\n",
       "            console.log([gd, 'removed!']);\n",
       "            Plotly.purge(gd);\n",
       "            observer.disconnect();\n",
       "        }}\n",
       "}});\n",
       "\n",
       "// Listen for the removal of the full notebook cells\n",
       "var notebookContainer = gd.closest('#notebook-container');\n",
       "if (notebookContainer) {{\n",
       "    x.observe(notebookContainer, {childList: true});\n",
       "}}\n",
       "\n",
       "// Listen for the clearing of the current output cell\n",
       "var outputEl = gd.closest('.output');\n",
       "if (outputEl) {{\n",
       "    x.observe(outputEl, {childList: true});\n",
       "}}\n",
       "\n",
       "                        })                };                });            </script>        </div>"
      ]
     },
     "metadata": {},
     "output_type": "display_data"
    }
   ],
   "source": [
    "data=pd.DataFrame(dic,index=range(0,x+1)).sort_values('release_year',ascending=False)\n",
    "data=data.reset_index(drop=True)\n",
    "data.drop('type',axis=1,inplace=True)\n",
    "data=data.groupby('release_year').sum()\n",
    "data=data.reset_index()\n",
    "\n",
    "fig = px.line(data, x = \"release_year\",y=data.columns[1:4],title ='The number of Movies/TV Shows for each year acording to Top 3 Movies/TV Shows categories',\n",
    "              labels={'release_year':'Release Year','count':'The number of Movies/TV Shows'})\n",
    "fig.show()"
   ]
  },
  {
   "cell_type": "markdown",
   "id": "39cf9f38",
   "metadata": {
    "papermill": {
     "duration": 0.029815,
     "end_time": "2022-10-01T12:18:04.592998",
     "exception": false,
     "start_time": "2022-10-01T12:18:04.563183",
     "status": "completed"
    },
    "tags": []
   },
   "source": [
    ">* **We note that the three most common categories were appearing in 19th century films, in a very small number.**\n",
    ">* **It can be said that the three categories did not exist in the 19th century except for a number of Movies/TV Shows.** \n",
    ">* **with the beginning of the 20th century the number of Movies/TV Shows began to increase and with it the number of Movies/TV Shows \n",
    "under these three categories increased.**\n",
    ">* **Until the year 2018, and the number of Movies/TV Shows decreased, and with it the number of Movies/TV Shows in these three categories decreased.**"
   ]
  },
  {
   "cell_type": "markdown",
   "id": "8e816ac3",
   "metadata": {
    "papermill": {
     "duration": 0.029562,
     "end_time": "2022-10-01T12:18:04.652586",
     "exception": false,
     "start_time": "2022-10-01T12:18:04.623024",
     "status": "completed"
    },
    "tags": []
   },
   "source": [
    "### Q3: What most common directors appeared in the last years?"
   ]
  },
  {
   "cell_type": "code",
   "execution_count": 22,
   "id": "7ae89e17",
   "metadata": {
    "execution": {
     "iopub.execute_input": "2022-10-01T12:18:04.714422Z",
     "iopub.status.busy": "2022-10-01T12:18:04.713898Z",
     "iopub.status.idle": "2022-10-01T12:18:04.733479Z",
     "shell.execute_reply": "2022-10-01T12:18:04.732618Z"
    },
    "papermill": {
     "duration": 0.053379,
     "end_time": "2022-10-01T12:18:04.735819",
     "exception": false,
     "start_time": "2022-10-01T12:18:04.682440",
     "status": "completed"
    },
    "tags": []
   },
   "outputs": [],
   "source": [
    "dic={}\n",
    "data= df\n",
    "for x,y in data['director'].dropna().items():\n",
    "    data=y.split(',')\n",
    "    for i in data:\n",
    "        i=i.strip()\n",
    "        if i in dic.keys():\n",
    "            dic[i]=dic[i]+1\n",
    "        else:\n",
    "            dic[i]=1\n",
    "director=pd.DataFrame(list(dic.values()),index=list(dic.keys()),columns=[\"Count\"])\n",
    "director=director.sort_values(by='Count',ascending=False)\n",
    "director= director.reset_index()"
   ]
  },
  {
   "cell_type": "code",
   "execution_count": 23,
   "id": "d4e2036e",
   "metadata": {
    "execution": {
     "iopub.execute_input": "2022-10-01T12:18:04.800022Z",
     "iopub.status.busy": "2022-10-01T12:18:04.799390Z",
     "iopub.status.idle": "2022-10-01T12:18:05.083597Z",
     "shell.execute_reply": "2022-10-01T12:18:05.082483Z"
    },
    "papermill": {
     "duration": 0.318911,
     "end_time": "2022-10-01T12:18:05.086878",
     "exception": false,
     "start_time": "2022-10-01T12:18:04.767967",
     "status": "completed"
    },
    "tags": []
   },
   "outputs": [
    {
     "data": {
      "image/png": "[encoded data removed]",
      "text/plain": [
       "<Figure size 1008x432 with 1 Axes>"
      ]
     },
     "metadata": {},
     "output_type": "display_data"
    }
   ],
   "source": [
    "# create plot\n",
    "f, ax = plt.subplots(figsize=(14, 6))\n",
    "\n",
    "sns.set(style='whitegrid')\n",
    "sns.barplot(data=director.head(10),y='index',x='Count',palette='Accent')\n",
    "ax.set(title='most common directors in Movies/TV Shows of the last years', ylabel='directors',xlabel='The number of Movies/TV Shows')\n",
    "\n",
    "\n",
    "plt.show()"
   ]
  },
  {
   "cell_type": "code",
   "execution_count": 24,
   "id": "57a65280",
   "metadata": {
    "execution": {
     "iopub.execute_input": "2022-10-01T12:18:05.152724Z",
     "iopub.status.busy": "2022-10-01T12:18:05.151563Z",
     "iopub.status.idle": "2022-10-01T12:18:05.164928Z",
     "shell.execute_reply": "2022-10-01T12:18:05.163880Z"
    },
    "papermill": {
     "duration": 0.047622,
     "end_time": "2022-10-01T12:18:05.167064",
     "exception": false,
     "start_time": "2022-10-01T12:18:05.119442",
     "status": "completed"
    },
    "tags": []
   },
   "outputs": [
    {
     "data": {
      "text/html": [
       "<div>\n",
       "<style scoped>\n",
       "    .dataframe tbody tr th:only-of-type {\n",
       "        vertical-align: middle;\n",
       "    }\n",
       "\n",
       "    .dataframe tbody tr th {\n",
       "        vertical-align: top;\n",
       "    }\n",
       "\n",
       "    .dataframe thead th {\n",
       "        text-align: right;\n",
       "    }\n",
       "</style>\n",
       "<table border=\"1\" class=\"dataframe\">\n",
       "  <thead>\n",
       "    <tr style=\"text-align: right;\">\n",
       "      <th></th>\n",
       "      <th>index</th>\n",
       "      <th>Count</th>\n",
       "    </tr>\n",
       "  </thead>\n",
       "  <tbody>\n",
       "    <tr>\n",
       "      <th>0</th>\n",
       "      <td>Rajiv Chilaka</td>\n",
       "      <td>22</td>\n",
       "    </tr>\n",
       "    <tr>\n",
       "      <th>1</th>\n",
       "      <td>Jan Suter</td>\n",
       "      <td>21</td>\n",
       "    </tr>\n",
       "    <tr>\n",
       "      <th>2</th>\n",
       "      <td>Raúl Campos</td>\n",
       "      <td>19</td>\n",
       "    </tr>\n",
       "    <tr>\n",
       "      <th>3</th>\n",
       "      <td>Suhas Kadav</td>\n",
       "      <td>16</td>\n",
       "    </tr>\n",
       "    <tr>\n",
       "      <th>4</th>\n",
       "      <td>Marcus Raboy</td>\n",
       "      <td>16</td>\n",
       "    </tr>\n",
       "    <tr>\n",
       "      <th>...</th>\n",
       "      <td>...</td>\n",
       "      <td>...</td>\n",
       "    </tr>\n",
       "    <tr>\n",
       "      <th>4988</th>\n",
       "      <td>Raymie Muzquiz</td>\n",
       "      <td>1</td>\n",
       "    </tr>\n",
       "    <tr>\n",
       "      <th>4989</th>\n",
       "      <td>Stu Livingston</td>\n",
       "      <td>1</td>\n",
       "    </tr>\n",
       "    <tr>\n",
       "      <th>4990</th>\n",
       "      <td>Joe Menendez</td>\n",
       "      <td>1</td>\n",
       "    </tr>\n",
       "    <tr>\n",
       "      <th>4991</th>\n",
       "      <td>Eric Bross</td>\n",
       "      <td>1</td>\n",
       "    </tr>\n",
       "    <tr>\n",
       "      <th>4992</th>\n",
       "      <td>Mozez Singh</td>\n",
       "      <td>1</td>\n",
       "    </tr>\n",
       "  </tbody>\n",
       "</table>\n",
       "<p>4993 rows × 2 columns</p>\n",
       "</div>"
      ],
      "text/plain": [
       "               index  Count\n",
       "0      Rajiv Chilaka     22\n",
       "1          Jan Suter     21\n",
       "2        Raúl Campos     19\n",
       "3        Suhas Kadav     16\n",
       "4       Marcus Raboy     16\n",
       "...              ...    ...\n",
       "4988  Raymie Muzquiz      1\n",
       "4989  Stu Livingston      1\n",
       "4990    Joe Menendez      1\n",
       "4991      Eric Bross      1\n",
       "4992     Mozez Singh      1\n",
       "\n",
       "[4993 rows x 2 columns]"
      ]
     },
     "execution_count": 24,
     "metadata": {},
     "output_type": "execute_result"
    }
   ],
   "source": [
    "director"
   ]
  },
  {
   "cell_type": "code",
   "execution_count": 25,
   "id": "c1c26103",
   "metadata": {
    "execution": {
     "iopub.execute_input": "2022-10-01T12:18:05.232271Z",
     "iopub.status.busy": "2022-10-01T12:18:05.231533Z",
     "iopub.status.idle": "2022-10-01T12:18:06.278285Z",
     "shell.execute_reply": "2022-10-01T12:18:06.277063Z"
    },
    "papermill": {
     "duration": 1.082531,
     "end_time": "2022-10-01T12:18:06.281019",
     "exception": false,
     "start_time": "2022-10-01T12:18:05.198488",
     "status": "completed"
    },
    "tags": []
   },
   "outputs": [],
   "source": [
    "data_df=df.copy()\n",
    "cat1=['Rajiv Chilaka','Jan Suter', 'Raúl Campos']\n",
    "dic={\n",
    "    'release_year':[],\n",
    "    'type':[],\n",
    "    'Rajiv Chilaka':[],\n",
    "    'Jan Suter':[], \n",
    "    'Raúl Campos':[]\n",
    "}\n",
    "key=list(dic.keys())\n",
    "data_df=data_df[(data_df['director'].notna()) & (data_df['release_year']>2000)].reset_index(drop=True)\n",
    "for x in data_df.index:\n",
    "    y=data_df.iloc[x]\n",
    "    dic['release_year'].append(y['release_year'])\n",
    "    dic['type'].append(y['type'])\n",
    "    data=y['director'].split(',')\n",
    "    data=[x.strip() for x in data]\n",
    "    for i in data:\n",
    "        if i in cat1:\n",
    "            dic[i].append(1)\n",
    "    \n",
    "    temp = [x for x in cat1 if x not in data]\n",
    "    for i in temp:\n",
    "        if i in cat1:\n",
    "            dic[i].append(0)"
   ]
  },
  {
   "cell_type": "code",
   "execution_count": 26,
   "id": "bf89d403",
   "metadata": {
    "execution": {
     "iopub.execute_input": "2022-10-01T12:18:06.346551Z",
     "iopub.status.busy": "2022-10-01T12:18:06.346120Z",
     "iopub.status.idle": "2022-10-01T12:18:06.432843Z",
     "shell.execute_reply": "2022-10-01T12:18:06.431727Z"
    },
    "papermill": {
     "duration": 0.122993,
     "end_time": "2022-10-01T12:18:06.435522",
     "exception": false,
     "start_time": "2022-10-01T12:18:06.312529",
     "status": "completed"
    },
    "tags": []
   },
   "outputs": [
    {
     "data": {
      "text/html": [
       "<div>                            <div id=\"6373bd0d-03f9-4966-a6ab-509c72be9726\" class=\"plotly-graph-div\" style=\"height:525px; width:100%;\"></div>            <script type=\"text/javascript\">                require([\"plotly\"], function(Plotly) {                    window.PLOTLYENV=window.PLOTLYENV || {};                                    if (document.getElementById(\"6373bd0d-03f9-4966-a6ab-509c72be9726\")) {                    Plotly.newPlot(                        \"6373bd0d-03f9-4966-a6ab-509c72be9726\",                        [{\"hovertemplate\":\"variable=Rajiv Chilaka<br>Release Year=%{x}<br>The number of Movies/TV Shows=%{y}<extra></extra>\",\"legendgroup\":\"Rajiv Chilaka\",\"line\":{\"color\":\"#636efa\",\"dash\":\"solid\"},\"marker\":{\"symbol\":\"circle\"},\"mode\":\"lines\",\"name\":\"Rajiv Chilaka\",\"orientation\":\"v\",\"showlegend\":true,\"x\":[2001,2002,2003,2004,2005,2006,2007,2008,2009,2010,2011,2012,2013,2014,2015,2016,2017,2018,2019,2020,2021],\"xaxis\":\"x\",\"y\":[0,0,0,0,0,0,0,0,2,2,3,4,6,2,0,0,0,2,1,0,0],\"yaxis\":\"y\",\"type\":\"scatter\"},{\"hovertemplate\":\"variable=Jan Suter<br>Release Year=%{x}<br>The number of Movies/TV Shows=%{y}<extra></extra>\",\"legendgroup\":\"Jan Suter\",\"line\":{\"color\":\"#EF553B\",\"dash\":\"solid\"},\"marker\":{\"symbol\":\"circle\"},\"mode\":\"lines\",\"name\":\"Jan Suter\",\"orientation\":\"v\",\"showlegend\":true,\"x\":[2001,2002,2003,2004,2005,2006,2007,2008,2009,2010,2011,2012,2013,2014,2015,2016,2017,2018,2019,2020,2021],\"xaxis\":\"x\",\"y\":[0,0,0,0,0,0,0,0,0,0,0,0,0,0,0,4,5,12,0,0,0],\"yaxis\":\"y\",\"type\":\"scatter\"},{\"hovertemplate\":\"variable=Raúl Campos<br>Release Year=%{x}<br>The number of Movies/TV Shows=%{y}<extra></extra>\",\"legendgroup\":\"Raúl Campos\",\"line\":{\"color\":\"#00cc96\",\"dash\":\"solid\"},\"marker\":{\"symbol\":\"circle\"},\"mode\":\"lines\",\"name\":\"Raúl Campos\",\"orientation\":\"v\",\"showlegend\":true,\"x\":[2001,2002,2003,2004,2005,2006,2007,2008,2009,2010,2011,2012,2013,2014,2015,2016,2017,2018,2019,2020,2021],\"xaxis\":\"x\",\"y\":[0,0,0,0,0,0,0,0,0,0,0,0,0,0,0,3,4,12,0,0,0],\"yaxis\":\"y\",\"type\":\"scatter\"}],                        {\"template\":{\"data\":{\"histogram2dcontour\":[{\"type\":\"histogram2dcontour\",\"colorbar\":{\"outlinewidth\":0,\"ticks\":\"\"},\"colorscale\":[[0.0,\"#0d0887\"],[0.1111111111111111,\"#46039f\"],[0.2222222222222222,\"#7201a8\"],[0.3333333333333333,\"#9c179e\"],[0.4444444444444444,\"#bd3786\"],[0.5555555555555556,\"#d8576b\"],[0.6666666666666666,\"#ed7953\"],[0.7777777777777778,\"#fb9f3a\"],[0.8888888888888888,\"#fdca26\"],[1.0,\"#f0f921\"]]}],\"choropleth\":[{\"type\":\"choropleth\",\"colorbar\":{\"outlinewidth\":0,\"ticks\":\"\"}}],\"histogram2d\":[{\"type\":\"histogram2d\",\"colorbar\":{\"outlinewidth\":0,\"ticks\":\"\"},\"colorscale\":[[0.0,\"#0d0887\"],[0.1111111111111111,\"#46039f\"],[0.2222222222222222,\"#7201a8\"],[0.3333333333333333,\"#9c179e\"],[0.4444444444444444,\"#bd3786\"],[0.5555555555555556,\"#d8576b\"],[0.6666666666666666,\"#ed7953\"],[0.7777777777777778,\"#fb9f3a\"],[0.8888888888888888,\"#fdca26\"],[1.0,\"#f0f921\"]]}],\"heatmap\":[{\"type\":\"heatmap\",\"colorbar\":{\"outlinewidth\":0,\"ticks\":\"\"},\"colorscale\":[[0.0,\"#0d0887\"],[0.1111111111111111,\"#46039f\"],[0.2222222222222222,\"#7201a8\"],[0.3333333333333333,\"#9c179e\"],[0.4444444444444444,\"#bd3786\"],[0.5555555555555556,\"#d8576b\"],[0.6666666666666666,\"#ed7953\"],[0.7777777777777778,\"#fb9f3a\"],[0.8888888888888888,\"#fdca26\"],[1.0,\"#f0f921\"]]}],\"heatmapgl\":[{\"type\":\"heatmapgl\",\"colorbar\":{\"outlinewidth\":0,\"ticks\":\"\"},\"colorscale\":[[0.0,\"#0d0887\"],[0.1111111111111111,\"#46039f\"],[0.2222222222222222,\"#7201a8\"],[0.3333333333333333,\"#9c179e\"],[0.4444444444444444,\"#bd3786\"],[0.5555555555555556,\"#d8576b\"],[0.6666666666666666,\"#ed7953\"],[0.7777777777777778,\"#fb9f3a\"],[0.8888888888888888,\"#fdca26\"],[1.0,\"#f0f921\"]]}],\"contourcarpet\":[{\"type\":\"contourcarpet\",\"colorbar\":{\"outlinewidth\":0,\"ticks\":\"\"}}],\"contour\":[{\"type\":\"contour\",\"colorbar\":{\"outlinewidth\":0,\"ticks\":\"\"},\"colorscale\":[[0.0,\"#0d0887\"],[0.1111111111111111,\"#46039f\"],[0.2222222222222222,\"#7201a8\"],[0.3333333333333333,\"#9c179e\"],[0.4444444444444444,\"#bd3786\"],[0.5555555555555556,\"#d8576b\"],[0.6666666666666666,\"#ed7953\"],[0.7777777777777778,\"#fb9f3a\"],[0.8888888888888888,\"#fdca26\"],[1.0,\"#f0f921\"]]}],\"surface\":[{\"type\":\"surface\",\"colorbar\":{\"outlinewidth\":0,\"ticks\":\"\"},\"colorscale\":[[0.0,\"#0d0887\"],[0.1111111111111111,\"#46039f\"],[0.2222222222222222,\"#7201a8\"],[0.3333333333333333,\"#9c179e\"],[0.4444444444444444,\"#bd3786\"],[0.5555555555555556,\"#d8576b\"],[0.6666666666666666,\"#ed7953\"],[0.7777777777777778,\"#fb9f3a\"],[0.8888888888888888,\"#fdca26\"],[1.0,\"#f0f921\"]]}],\"mesh3d\":[{\"type\":\"mesh3d\",\"colorbar\":{\"outlinewidth\":0,\"ticks\":\"\"}}],\"scatter\":[{\"fillpattern\":{\"fillmode\":\"overlay\",\"size\":10,\"solidity\":0.2},\"type\":\"scatter\"}],\"parcoords\":[{\"type\":\"parcoords\",\"line\":{\"colorbar\":{\"outlinewidth\":0,\"ticks\":\"\"}}}],\"scatterpolargl\":[{\"type\":\"scatterpolargl\",\"marker\":{\"colorbar\":{\"outlinewidth\":0,\"ticks\":\"\"}}}],\"bar\":[{\"error_x\":{\"color\":\"#2a3f5f\"},\"error_y\":{\"color\":\"#2a3f5f\"},\"marker\":{\"line\":{\"color\":\"#E5ECF6\",\"width\":0.5},\"pattern\":{\"fillmode\":\"overlay\",\"size\":10,\"solidity\":0.2}},\"type\":\"bar\"}],\"scattergeo\":[{\"type\":\"scattergeo\",\"marker\":{\"colorbar\":{\"outlinewidth\":0,\"ticks\":\"\"}}}],\"scatterpolar\":[{\"type\":\"scatterpolar\",\"marker\":{\"colorbar\":{\"outlinewidth\":0,\"ticks\":\"\"}}}],\"histogram\":[{\"marker\":{\"pattern\":{\"fillmode\":\"overlay\",\"size\":10,\"solidity\":0.2}},\"type\":\"histogram\"}],\"scattergl\":[{\"type\":\"scattergl\",\"marker\":{\"colorbar\":{\"outlinewidth\":0,\"ticks\":\"\"}}}],\"scatter3d\":[{\"type\":\"scatter3d\",\"line\":{\"colorbar\":{\"outlinewidth\":0,\"ticks\":\"\"}},\"marker\":{\"colorbar\":{\"outlinewidth\":0,\"ticks\":\"\"}}}],\"scattermapbox\":[{\"type\":\"scattermapbox\",\"marker\":{\"colorbar\":{\"outlinewidth\":0,\"ticks\":\"\"}}}],\"scatterternary\":[{\"type\":\"scatterternary\",\"marker\":{\"colorbar\":{\"outlinewidth\":0,\"ticks\":\"\"}}}],\"scattercarpet\":[{\"type\":\"scattercarpet\",\"marker\":{\"colorbar\":{\"outlinewidth\":0,\"ticks\":\"\"}}}],\"carpet\":[{\"aaxis\":{\"endlinecolor\":\"#2a3f5f\",\"gridcolor\":\"white\",\"linecolor\":\"white\",\"minorgridcolor\":\"white\",\"startlinecolor\":\"#2a3f5f\"},\"baxis\":{\"endlinecolor\":\"#2a3f5f\",\"gridcolor\":\"white\",\"linecolor\":\"white\",\"minorgridcolor\":\"white\",\"startlinecolor\":\"#2a3f5f\"},\"type\":\"carpet\"}],\"table\":[{\"cells\":{\"fill\":{\"color\":\"#EBF0F8\"},\"line\":{\"color\":\"white\"}},\"header\":{\"fill\":{\"color\":\"#C8D4E3\"},\"line\":{\"color\":\"white\"}},\"type\":\"table\"}],\"barpolar\":[{\"marker\":{\"line\":{\"color\":\"#E5ECF6\",\"width\":0.5},\"pattern\":{\"fillmode\":\"overlay\",\"size\":10,\"solidity\":0.2}},\"type\":\"barpolar\"}],\"pie\":[{\"automargin\":true,\"type\":\"pie\"}]},\"layout\":{\"autotypenumbers\":\"strict\",\"colorway\":[\"#636efa\",\"#EF553B\",\"#00cc96\",\"#ab63fa\",\"#FFA15A\",\"#19d3f3\",\"#FF6692\",\"#B6E880\",\"#FF97FF\",\"#FECB52\"],\"font\":{\"color\":\"#2a3f5f\"},\"hovermode\":\"closest\",\"hoverlabel\":{\"align\":\"left\"},\"paper_bgcolor\":\"white\",\"plot_bgcolor\":\"#E5ECF6\",\"polar\":{\"bgcolor\":\"#E5ECF6\",\"angularaxis\":{\"gridcolor\":\"white\",\"linecolor\":\"white\",\"ticks\":\"\"},\"radialaxis\":{\"gridcolor\":\"white\",\"linecolor\":\"white\",\"ticks\":\"\"}},\"ternary\":{\"bgcolor\":\"#E5ECF6\",\"aaxis\":{\"gridcolor\":\"white\",\"linecolor\":\"white\",\"ticks\":\"\"},\"baxis\":{\"gridcolor\":\"white\",\"linecolor\":\"white\",\"ticks\":\"\"},\"caxis\":{\"gridcolor\":\"white\",\"linecolor\":\"white\",\"ticks\":\"\"}},\"coloraxis\":{\"colorbar\":{\"outlinewidth\":0,\"ticks\":\"\"}},\"colorscale\":{\"sequential\":[[0.0,\"#0d0887\"],[0.1111111111111111,\"#46039f\"],[0.2222222222222222,\"#7201a8\"],[0.3333333333333333,\"#9c179e\"],[0.4444444444444444,\"#bd3786\"],[0.5555555555555556,\"#d8576b\"],[0.6666666666666666,\"#ed7953\"],[0.7777777777777778,\"#fb9f3a\"],[0.8888888888888888,\"#fdca26\"],[1.0,\"#f0f921\"]],\"sequentialminus\":[[0.0,\"#0d0887\"],[0.1111111111111111,\"#46039f\"],[0.2222222222222222,\"#7201a8\"],[0.3333333333333333,\"#9c179e\"],[0.4444444444444444,\"#bd3786\"],[0.5555555555555556,\"#d8576b\"],[0.6666666666666666,\"#ed7953\"],[0.7777777777777778,\"#fb9f3a\"],[0.8888888888888888,\"#fdca26\"],[1.0,\"#f0f921\"]],\"diverging\":[[0,\"#8e0152\"],[0.1,\"#c51b7d\"],[0.2,\"#de77ae\"],[0.3,\"#f1b6da\"],[0.4,\"#fde0ef\"],[0.5,\"#f7f7f7\"],[0.6,\"#e6f5d0\"],[0.7,\"#b8e186\"],[0.8,\"#7fbc41\"],[0.9,\"#4d9221\"],[1,\"#276419\"]]},\"xaxis\":{\"gridcolor\":\"white\",\"linecolor\":\"white\",\"ticks\":\"\",\"title\":{\"standoff\":15},\"zerolinecolor\":\"white\",\"automargin\":true,\"zerolinewidth\":2},\"yaxis\":{\"gridcolor\":\"white\",\"linecolor\":\"white\",\"ticks\":\"\",\"title\":{\"standoff\":15},\"zerolinecolor\":\"white\",\"automargin\":true,\"zerolinewidth\":2},\"scene\":{\"xaxis\":{\"backgroundcolor\":\"#E5ECF6\",\"gridcolor\":\"white\",\"linecolor\":\"white\",\"showbackground\":true,\"ticks\":\"\",\"zerolinecolor\":\"white\",\"gridwidth\":2},\"yaxis\":{\"backgroundcolor\":\"#E5ECF6\",\"gridcolor\":\"white\",\"linecolor\":\"white\",\"showbackground\":true,\"ticks\":\"\",\"zerolinecolor\":\"white\",\"gridwidth\":2},\"zaxis\":{\"backgroundcolor\":\"#E5ECF6\",\"gridcolor\":\"white\",\"linecolor\":\"white\",\"showbackground\":true,\"ticks\":\"\",\"zerolinecolor\":\"white\",\"gridwidth\":2}},\"shapedefaults\":{\"line\":{\"color\":\"#2a3f5f\"}},\"annotationdefaults\":{\"arrowcolor\":\"#2a3f5f\",\"arrowhead\":0,\"arrowwidth\":1},\"geo\":{\"bgcolor\":\"white\",\"landcolor\":\"#E5ECF6\",\"subunitcolor\":\"white\",\"showland\":true,\"showlakes\":true,\"lakecolor\":\"white\"},\"title\":{\"x\":0.05},\"mapbox\":{\"style\":\"light\"}}},\"xaxis\":{\"anchor\":\"y\",\"domain\":[0.0,1.0],\"title\":{\"text\":\"Release Year\"}},\"yaxis\":{\"anchor\":\"x\",\"domain\":[0.0,1.0],\"title\":{\"text\":\"The number of Movies/TV Shows\"}},\"legend\":{\"title\":{\"text\":\"variable\"},\"tracegroupgap\":0},\"title\":{\"text\":\"The number of Movies/TV Shows for each year acording to Top 5 Movies/TV Shows directors\"}},                        {\"responsive\": true}                    ).then(function(){\n",
       "                            \n",
       "var gd = document.getElementById('6373bd0d-03f9-4966-a6ab-509c72be9726');\n",
       "var x = new MutationObserver(function (mutations, observer) {{\n",
       "        var display = window.getComputedStyle(gd).display;\n",
       "        if (!display || display === 'none') {{\n",
       "            console.log([gd, 'removed!']);\n",
       "            Plotly.purge(gd);\n",
       "            observer.disconnect();\n",
       "        }}\n",
       "}});\n",
       "\n",
       "// Listen for the removal of the full notebook cells\n",
       "var notebookContainer = gd.closest('#notebook-container');\n",
       "if (notebookContainer) {{\n",
       "    x.observe(notebookContainer, {childList: true});\n",
       "}}\n",
       "\n",
       "// Listen for the clearing of the current output cell\n",
       "var outputEl = gd.closest('.output');\n",
       "if (outputEl) {{\n",
       "    x.observe(outputEl, {childList: true});\n",
       "}}\n",
       "\n",
       "                        })                };                });            </script>        </div>"
      ]
     },
     "metadata": {},
     "output_type": "display_data"
    }
   ],
   "source": [
    "data=pd.DataFrame(dic,index=range(0,x+1)).sort_values('release_year',ascending=False)\n",
    "data=data.reset_index(drop=True)\n",
    "data.drop('type',axis=1,inplace=True)\n",
    "data=data.groupby('release_year').sum()\n",
    "data=data.reset_index()\n",
    "\n",
    "fig = px.line(data, x = \"release_year\",y=data.columns[1:6],title ='The number of Movies/TV Shows for each year acording to Top 5 Movies/TV Shows directors',\n",
    "              labels={'release_year':'Release Year','value':'The number of Movies/TV Shows'})\n",
    "fig.show()"
   ]
  },
  {
   "cell_type": "markdown",
   "id": "0bc43a53",
   "metadata": {
    "papermill": {
     "duration": 0.030831,
     "end_time": "2022-10-01T12:18:06.497818",
     "exception": false,
     "start_time": "2022-10-01T12:18:06.466987",
     "status": "completed"
    },
    "tags": []
   },
   "source": [
    ">* **Rajiv Chilaka : he is the most participating director in  Movies/TV Shows in our Dataset by 22 Movies/TV Shows**\n",
    ">* **Jan Suter : He managed to work as a director in 21 Movies/TV Shows in only three years.**\n",
    ">* **Raúl Campos : He managed to work as a director in 19 Movies/TV Shows in only three years**"
   ]
  },
  {
   "cell_type": "raw",
   "id": "43745b50",
   "metadata": {
    "papermill": {
     "duration": 0.030693,
     "end_time": "2022-10-01T12:18:06.559956",
     "exception": false,
     "start_time": "2022-10-01T12:18:06.529263",
     "status": "completed"
    },
    "tags": []
   },
   "source": [
    "li=[]\n",
    "for x in df[df['director'].notna()].index:\n",
    "    y=df.iloc[x]\n",
    "    data=y['director'].split(',')\n",
    "    data=[x.strip() for x in data]\n",
    "    for i in data:\n",
    "        if i=='Jay Karas':\n",
    "            li.append(x)\n",
    "df.iloc[li]"
   ]
  },
  {
   "cell_type": "markdown",
   "id": "a0ac7e05",
   "metadata": {
    "papermill": {
     "duration": 0.030884,
     "end_time": "2022-10-01T12:18:06.623538",
     "exception": false,
     "start_time": "2022-10-01T12:18:06.592654",
     "status": "completed"
    },
    "tags": []
   },
   "source": [
    "### Q4: What most common country in Movies/TV Shows appeared in the last years?"
   ]
  },
  {
   "cell_type": "code",
   "execution_count": 27,
   "id": "2c0772b2",
   "metadata": {
    "execution": {
     "iopub.execute_input": "2022-10-01T12:18:06.687834Z",
     "iopub.status.busy": "2022-10-01T12:18:06.687422Z",
     "iopub.status.idle": "2022-10-01T12:18:08.061251Z",
     "shell.execute_reply": "2022-10-01T12:18:08.060202Z"
    },
    "papermill": {
     "duration": 1.409085,
     "end_time": "2022-10-01T12:18:08.063952",
     "exception": false,
     "start_time": "2022-10-01T12:18:06.654867",
     "status": "completed"
    },
    "tags": []
   },
   "outputs": [],
   "source": [
    "dic={}\n",
    "data_df= df[(df['country'].notna())].reset_index(drop=True)\n",
    "for x in data_df.index:\n",
    "    y=data_df.iloc[x]\n",
    "    data=y['country'].split(',')\n",
    "    for i in data:\n",
    "        i=i.strip()\n",
    "        if i not in dic.keys():\n",
    "            dic[i]=[0,0]\n",
    "            \n",
    "        if y['type']=='Movie':\n",
    "            dic[i][0]=dic[i][0]+1\n",
    "        else:\n",
    "            dic[i][1]=dic[i][1]+1\n",
    "\n",
    "country=pd.DataFrame(list(dic.values()),index=list(dic.keys()),columns=[\"Movie\",'TV Show'])\n",
    "country['total']=country['Movie']+country['TV Show']\n",
    "country=country.sort_values(by=['total'],ascending=False)\n",
    "country= country.reset_index()"
   ]
  },
  {
   "cell_type": "code",
   "execution_count": 28,
   "id": "9994bf09",
   "metadata": {
    "execution": {
     "iopub.execute_input": "2022-10-01T12:18:08.128900Z",
     "iopub.status.busy": "2022-10-01T12:18:08.128526Z",
     "iopub.status.idle": "2022-10-01T12:18:08.196116Z",
     "shell.execute_reply": "2022-10-01T12:18:08.195056Z"
    },
    "papermill": {
     "duration": 0.103129,
     "end_time": "2022-10-01T12:18:08.198576",
     "exception": false,
     "start_time": "2022-10-01T12:18:08.095447",
     "status": "completed"
    },
    "tags": []
   },
   "outputs": [
    {
     "data": {
      "text/html": [
       "<div>                            <div id=\"c2245278-e9a2-402b-911f-ed70c663a55e\" class=\"plotly-graph-div\" style=\"height:525px; width:100%;\"></div>            <script type=\"text/javascript\">                require([\"plotly\"], function(Plotly) {                    window.PLOTLYENV=window.PLOTLYENV || {};                                    if (document.getElementById(\"c2245278-e9a2-402b-911f-ed70c663a55e\")) {                    Plotly.newPlot(                        \"c2245278-e9a2-402b-911f-ed70c663a55e\",                        [{\"hovertemplate\":\"variable=Movie<br>country=%{x}<br>The number of Movies/TV Shows=%{y}<extra></extra>\",\"legendgroup\":\"Movie\",\"line\":{\"color\":\"#636efa\",\"dash\":\"solid\"},\"marker\":{\"symbol\":\"circle\"},\"mode\":\"lines\",\"name\":\"Movie\",\"orientation\":\"v\",\"showlegend\":true,\"x\":[\"United States\",\"India\",\"United Kingdom\",\"Canada\",\"France\",\"Japan\",\"Spain\",\"South Korea\",\"Germany\",\"Mexico\",\"China\",\"Australia\",\"Egypt\",\"Turkey\",\"Hong Kong\"],\"xaxis\":\"x\",\"y\":[2752,962,534,319,303,119,171,61,182,111,114,94,102,83,100],\"yaxis\":\"y\",\"type\":\"scatter\"},{\"hovertemplate\":\"variable=TV Show<br>country=%{x}<br>The number of Movies/TV Shows=%{y}<extra></extra>\",\"legendgroup\":\"TV Show\",\"line\":{\"color\":\"#EF553B\",\"dash\":\"solid\"},\"marker\":{\"symbol\":\"circle\"},\"mode\":\"lines\",\"name\":\"TV Show\",\"orientation\":\"v\",\"showlegend\":true,\"x\":[\"United States\",\"India\",\"United Kingdom\",\"Canada\",\"France\",\"Japan\",\"Spain\",\"South Korea\",\"Germany\",\"Mexico\",\"China\",\"Australia\",\"Egypt\",\"Turkey\",\"Hong Kong\"],\"xaxis\":\"x\",\"y\":[938,84,272,126,90,199,61,170,44,58,48,66,15,30,5],\"yaxis\":\"y\",\"type\":\"scatter\"}],                        {\"template\":{\"data\":{\"histogram2dcontour\":[{\"type\":\"histogram2dcontour\",\"colorbar\":{\"outlinewidth\":0,\"ticks\":\"\"},\"colorscale\":[[0.0,\"#0d0887\"],[0.1111111111111111,\"#46039f\"],[0.2222222222222222,\"#7201a8\"],[0.3333333333333333,\"#9c179e\"],[0.4444444444444444,\"#bd3786\"],[0.5555555555555556,\"#d8576b\"],[0.6666666666666666,\"#ed7953\"],[0.7777777777777778,\"#fb9f3a\"],[0.8888888888888888,\"#fdca26\"],[1.0,\"#f0f921\"]]}],\"choropleth\":[{\"type\":\"choropleth\",\"colorbar\":{\"outlinewidth\":0,\"ticks\":\"\"}}],\"histogram2d\":[{\"type\":\"histogram2d\",\"colorbar\":{\"outlinewidth\":0,\"ticks\":\"\"},\"colorscale\":[[0.0,\"#0d0887\"],[0.1111111111111111,\"#46039f\"],[0.2222222222222222,\"#7201a8\"],[0.3333333333333333,\"#9c179e\"],[0.4444444444444444,\"#bd3786\"],[0.5555555555555556,\"#d8576b\"],[0.6666666666666666,\"#ed7953\"],[0.7777777777777778,\"#fb9f3a\"],[0.8888888888888888,\"#fdca26\"],[1.0,\"#f0f921\"]]}],\"heatmap\":[{\"type\":\"heatmap\",\"colorbar\":{\"outlinewidth\":0,\"ticks\":\"\"},\"colorscale\":[[0.0,\"#0d0887\"],[0.1111111111111111,\"#46039f\"],[0.2222222222222222,\"#7201a8\"],[0.3333333333333333,\"#9c179e\"],[0.4444444444444444,\"#bd3786\"],[0.5555555555555556,\"#d8576b\"],[0.6666666666666666,\"#ed7953\"],[0.7777777777777778,\"#fb9f3a\"],[0.8888888888888888,\"#fdca26\"],[1.0,\"#f0f921\"]]}],\"heatmapgl\":[{\"type\":\"heatmapgl\",\"colorbar\":{\"outlinewidth\":0,\"ticks\":\"\"},\"colorscale\":[[0.0,\"#0d0887\"],[0.1111111111111111,\"#46039f\"],[0.2222222222222222,\"#7201a8\"],[0.3333333333333333,\"#9c179e\"],[0.4444444444444444,\"#bd3786\"],[0.5555555555555556,\"#d8576b\"],[0.6666666666666666,\"#ed7953\"],[0.7777777777777778,\"#fb9f3a\"],[0.8888888888888888,\"#fdca26\"],[1.0,\"#f0f921\"]]}],\"contourcarpet\":[{\"type\":\"contourcarpet\",\"colorbar\":{\"outlinewidth\":0,\"ticks\":\"\"}}],\"contour\":[{\"type\":\"contour\",\"colorbar\":{\"outlinewidth\":0,\"ticks\":\"\"},\"colorscale\":[[0.0,\"#0d0887\"],[0.1111111111111111,\"#46039f\"],[0.2222222222222222,\"#7201a8\"],[0.3333333333333333,\"#9c179e\"],[0.4444444444444444,\"#bd3786\"],[0.5555555555555556,\"#d8576b\"],[0.6666666666666666,\"#ed7953\"],[0.7777777777777778,\"#fb9f3a\"],[0.8888888888888888,\"#fdca26\"],[1.0,\"#f0f921\"]]}],\"surface\":[{\"type\":\"surface\",\"colorbar\":{\"outlinewidth\":0,\"ticks\":\"\"},\"colorscale\":[[0.0,\"#0d0887\"],[0.1111111111111111,\"#46039f\"],[0.2222222222222222,\"#7201a8\"],[0.3333333333333333,\"#9c179e\"],[0.4444444444444444,\"#bd3786\"],[0.5555555555555556,\"#d8576b\"],[0.6666666666666666,\"#ed7953\"],[0.7777777777777778,\"#fb9f3a\"],[0.8888888888888888,\"#fdca26\"],[1.0,\"#f0f921\"]]}],\"mesh3d\":[{\"type\":\"mesh3d\",\"colorbar\":{\"outlinewidth\":0,\"ticks\":\"\"}}],\"scatter\":[{\"fillpattern\":{\"fillmode\":\"overlay\",\"size\":10,\"solidity\":0.2},\"type\":\"scatter\"}],\"parcoords\":[{\"type\":\"parcoords\",\"line\":{\"colorbar\":{\"outlinewidth\":0,\"ticks\":\"\"}}}],\"scatterpolargl\":[{\"type\":\"scatterpolargl\",\"marker\":{\"colorbar\":{\"outlinewidth\":0,\"ticks\":\"\"}}}],\"bar\":[{\"error_x\":{\"color\":\"#2a3f5f\"},\"error_y\":{\"color\":\"#2a3f5f\"},\"marker\":{\"line\":{\"color\":\"#E5ECF6\",\"width\":0.5},\"pattern\":{\"fillmode\":\"overlay\",\"size\":10,\"solidity\":0.2}},\"type\":\"bar\"}],\"scattergeo\":[{\"type\":\"scattergeo\",\"marker\":{\"colorbar\":{\"outlinewidth\":0,\"ticks\":\"\"}}}],\"scatterpolar\":[{\"type\":\"scatterpolar\",\"marker\":{\"colorbar\":{\"outlinewidth\":0,\"ticks\":\"\"}}}],\"histogram\":[{\"marker\":{\"pattern\":{\"fillmode\":\"overlay\",\"size\":10,\"solidity\":0.2}},\"type\":\"histogram\"}],\"scattergl\":[{\"type\":\"scattergl\",\"marker\":{\"colorbar\":{\"outlinewidth\":0,\"ticks\":\"\"}}}],\"scatter3d\":[{\"type\":\"scatter3d\",\"line\":{\"colorbar\":{\"outlinewidth\":0,\"ticks\":\"\"}},\"marker\":{\"colorbar\":{\"outlinewidth\":0,\"ticks\":\"\"}}}],\"scattermapbox\":[{\"type\":\"scattermapbox\",\"marker\":{\"colorbar\":{\"outlinewidth\":0,\"ticks\":\"\"}}}],\"scatterternary\":[{\"type\":\"scatterternary\",\"marker\":{\"colorbar\":{\"outlinewidth\":0,\"ticks\":\"\"}}}],\"scattercarpet\":[{\"type\":\"scattercarpet\",\"marker\":{\"colorbar\":{\"outlinewidth\":0,\"ticks\":\"\"}}}],\"carpet\":[{\"aaxis\":{\"endlinecolor\":\"#2a3f5f\",\"gridcolor\":\"white\",\"linecolor\":\"white\",\"minorgridcolor\":\"white\",\"startlinecolor\":\"#2a3f5f\"},\"baxis\":{\"endlinecolor\":\"#2a3f5f\",\"gridcolor\":\"white\",\"linecolor\":\"white\",\"minorgridcolor\":\"white\",\"startlinecolor\":\"#2a3f5f\"},\"type\":\"carpet\"}],\"table\":[{\"cells\":{\"fill\":{\"color\":\"#EBF0F8\"},\"line\":{\"color\":\"white\"}},\"header\":{\"fill\":{\"color\":\"#C8D4E3\"},\"line\":{\"color\":\"white\"}},\"type\":\"table\"}],\"barpolar\":[{\"marker\":{\"line\":{\"color\":\"#E5ECF6\",\"width\":0.5},\"pattern\":{\"fillmode\":\"overlay\",\"size\":10,\"solidity\":0.2}},\"type\":\"barpolar\"}],\"pie\":[{\"automargin\":true,\"type\":\"pie\"}]},\"layout\":{\"autotypenumbers\":\"strict\",\"colorway\":[\"#636efa\",\"#EF553B\",\"#00cc96\",\"#ab63fa\",\"#FFA15A\",\"#19d3f3\",\"#FF6692\",\"#B6E880\",\"#FF97FF\",\"#FECB52\"],\"font\":{\"color\":\"#2a3f5f\"},\"hovermode\":\"closest\",\"hoverlabel\":{\"align\":\"left\"},\"paper_bgcolor\":\"white\",\"plot_bgcolor\":\"#E5ECF6\",\"polar\":{\"bgcolor\":\"#E5ECF6\",\"angularaxis\":{\"gridcolor\":\"white\",\"linecolor\":\"white\",\"ticks\":\"\"},\"radialaxis\":{\"gridcolor\":\"white\",\"linecolor\":\"white\",\"ticks\":\"\"}},\"ternary\":{\"bgcolor\":\"#E5ECF6\",\"aaxis\":{\"gridcolor\":\"white\",\"linecolor\":\"white\",\"ticks\":\"\"},\"baxis\":{\"gridcolor\":\"white\",\"linecolor\":\"white\",\"ticks\":\"\"},\"caxis\":{\"gridcolor\":\"white\",\"linecolor\":\"white\",\"ticks\":\"\"}},\"coloraxis\":{\"colorbar\":{\"outlinewidth\":0,\"ticks\":\"\"}},\"colorscale\":{\"sequential\":[[0.0,\"#0d0887\"],[0.1111111111111111,\"#46039f\"],[0.2222222222222222,\"#7201a8\"],[0.3333333333333333,\"#9c179e\"],[0.4444444444444444,\"#bd3786\"],[0.5555555555555556,\"#d8576b\"],[0.6666666666666666,\"#ed7953\"],[0.7777777777777778,\"#fb9f3a\"],[0.8888888888888888,\"#fdca26\"],[1.0,\"#f0f921\"]],\"sequentialminus\":[[0.0,\"#0d0887\"],[0.1111111111111111,\"#46039f\"],[0.2222222222222222,\"#7201a8\"],[0.3333333333333333,\"#9c179e\"],[0.4444444444444444,\"#bd3786\"],[0.5555555555555556,\"#d8576b\"],[0.6666666666666666,\"#ed7953\"],[0.7777777777777778,\"#fb9f3a\"],[0.8888888888888888,\"#fdca26\"],[1.0,\"#f0f921\"]],\"diverging\":[[0,\"#8e0152\"],[0.1,\"#c51b7d\"],[0.2,\"#de77ae\"],[0.3,\"#f1b6da\"],[0.4,\"#fde0ef\"],[0.5,\"#f7f7f7\"],[0.6,\"#e6f5d0\"],[0.7,\"#b8e186\"],[0.8,\"#7fbc41\"],[0.9,\"#4d9221\"],[1,\"#276419\"]]},\"xaxis\":{\"gridcolor\":\"white\",\"linecolor\":\"white\",\"ticks\":\"\",\"title\":{\"standoff\":15},\"zerolinecolor\":\"white\",\"automargin\":true,\"zerolinewidth\":2},\"yaxis\":{\"gridcolor\":\"white\",\"linecolor\":\"white\",\"ticks\":\"\",\"title\":{\"standoff\":15},\"zerolinecolor\":\"white\",\"automargin\":true,\"zerolinewidth\":2},\"scene\":{\"xaxis\":{\"backgroundcolor\":\"#E5ECF6\",\"gridcolor\":\"white\",\"linecolor\":\"white\",\"showbackground\":true,\"ticks\":\"\",\"zerolinecolor\":\"white\",\"gridwidth\":2},\"yaxis\":{\"backgroundcolor\":\"#E5ECF6\",\"gridcolor\":\"white\",\"linecolor\":\"white\",\"showbackground\":true,\"ticks\":\"\",\"zerolinecolor\":\"white\",\"gridwidth\":2},\"zaxis\":{\"backgroundcolor\":\"#E5ECF6\",\"gridcolor\":\"white\",\"linecolor\":\"white\",\"showbackground\":true,\"ticks\":\"\",\"zerolinecolor\":\"white\",\"gridwidth\":2}},\"shapedefaults\":{\"line\":{\"color\":\"#2a3f5f\"}},\"annotationdefaults\":{\"arrowcolor\":\"#2a3f5f\",\"arrowhead\":0,\"arrowwidth\":1},\"geo\":{\"bgcolor\":\"white\",\"landcolor\":\"#E5ECF6\",\"subunitcolor\":\"white\",\"showland\":true,\"showlakes\":true,\"lakecolor\":\"white\"},\"title\":{\"x\":0.05},\"mapbox\":{\"style\":\"light\"}}},\"xaxis\":{\"anchor\":\"y\",\"domain\":[0.0,1.0],\"title\":{\"text\":\"country\"}},\"yaxis\":{\"anchor\":\"x\",\"domain\":[0.0,1.0],\"title\":{\"text\":\"The number of Movies/TV Shows\"}},\"legend\":{\"title\":{\"text\":\"variable\"},\"tracegroupgap\":0},\"title\":{\"text\":\"The number of Movies/TV Shows for each country\"}},                        {\"responsive\": true}                    ).then(function(){\n",
       "                            \n",
       "var gd = document.getElementById('c2245278-e9a2-402b-911f-ed70c663a55e');\n",
       "var x = new MutationObserver(function (mutations, observer) {{\n",
       "        var display = window.getComputedStyle(gd).display;\n",
       "        if (!display || display === 'none') {{\n",
       "            console.log([gd, 'removed!']);\n",
       "            Plotly.purge(gd);\n",
       "            observer.disconnect();\n",
       "        }}\n",
       "}});\n",
       "\n",
       "// Listen for the removal of the full notebook cells\n",
       "var notebookContainer = gd.closest('#notebook-container');\n",
       "if (notebookContainer) {{\n",
       "    x.observe(notebookContainer, {childList: true});\n",
       "}}\n",
       "\n",
       "// Listen for the clearing of the current output cell\n",
       "var outputEl = gd.closest('.output');\n",
       "if (outputEl) {{\n",
       "    x.observe(outputEl, {childList: true});\n",
       "}}\n",
       "\n",
       "                        })                };                });            </script>        </div>"
      ]
     },
     "metadata": {},
     "output_type": "display_data"
    }
   ],
   "source": [
    "\n",
    "fig = px.line(country.head(15), x = \"index\",y=country.columns[1:3],title ='The number of Movies/TV Shows for each country',\n",
    "              labels={'index':'country','value':'The number of Movies/TV Shows'})\n",
    "fig.show()"
   ]
  },
  {
   "cell_type": "markdown",
   "id": "15fcbfc0",
   "metadata": {
    "papermill": {
     "duration": 0.031193,
     "end_time": "2022-10-01T12:18:08.261906",
     "exception": false,
     "start_time": "2022-10-01T12:18:08.230713",
     "status": "completed"
    },
    "tags": []
   },
   "source": [
    ">* **hollywood in USA and Bollywood in India play a great role to make this countries at the top of number of Movies/TV Shows that appeared in the last years.**"
   ]
  },
  {
   "cell_type": "markdown",
   "id": "b010166d",
   "metadata": {
    "papermill": {
     "duration": 0.031598,
     "end_time": "2022-10-01T12:18:08.325250",
     "exception": false,
     "start_time": "2022-10-01T12:18:08.293652",
     "status": "completed"
    },
    "tags": []
   },
   "source": [
    "### Q5: how many Movies/TV Shows since it was added?"
   ]
  },
  {
   "cell_type": "code",
   "execution_count": 29,
   "id": "9505a68a",
   "metadata": {
    "execution": {
     "iopub.execute_input": "2022-10-01T12:18:08.390671Z",
     "iopub.status.busy": "2022-10-01T12:18:08.390251Z",
     "iopub.status.idle": "2022-10-01T12:18:08.418209Z",
     "shell.execute_reply": "2022-10-01T12:18:08.417203Z"
    },
    "papermill": {
     "duration": 0.06383,
     "end_time": "2022-10-01T12:18:08.420858",
     "exception": false,
     "start_time": "2022-10-01T12:18:08.357028",
     "status": "completed"
    },
    "tags": []
   },
   "outputs": [],
   "source": [
    "data=(df.groupby('date_added')[['show_id']].count())\n",
    "data=(data.resample(\"4W\").sum())"
   ]
  },
  {
   "cell_type": "code",
   "execution_count": 30,
   "id": "2999517e",
   "metadata": {
    "execution": {
     "iopub.execute_input": "2022-10-01T12:18:08.486534Z",
     "iopub.status.busy": "2022-10-01T12:18:08.486104Z",
     "iopub.status.idle": "2022-10-01T12:18:08.548778Z",
     "shell.execute_reply": "2022-10-01T12:18:08.547976Z"
    },
    "papermill": {
     "duration": 0.097843,
     "end_time": "2022-10-01T12:18:08.550886",
     "exception": false,
     "start_time": "2022-10-01T12:18:08.453043",
     "status": "completed"
    },
    "tags": []
   },
   "outputs": [
    {
     "data": {
      "text/html": [
       "<div>                            <div id=\"99f2778f-4678-4bf3-b7e6-3ccc895591d8\" class=\"plotly-graph-div\" style=\"height:525px; width:100%;\"></div>            <script type=\"text/javascript\">                require([\"plotly\"], function(Plotly) {                    window.PLOTLYENV=window.PLOTLYENV || {};                                    if (document.getElementById(\"99f2778f-4678-4bf3-b7e6-3ccc895591d8\")) {                    Plotly.newPlot(                        \"99f2778f-4678-4bf3-b7e6-3ccc895591d8\",                        [{\"hovertemplate\":\"Added Date=%{x}<br>The number of Movies/TV Shows=%{y}<extra></extra>\",\"legendgroup\":\"\",\"line\":{\"color\":\"#636efa\",\"dash\":\"solid\"},\"marker\":{\"symbol\":\"circle\"},\"mode\":\"lines\",\"name\":\"\",\"orientation\":\"v\",\"showlegend\":false,\"x\":[\"2008-01-06T00:00:00\",\"2008-02-03T00:00:00\",\"2008-03-02T00:00:00\",\"2008-03-30T00:00:00\",\"2008-04-27T00:00:00\",\"2008-05-25T00:00:00\",\"2008-06-22T00:00:00\",\"2008-07-20T00:00:00\",\"2008-08-17T00:00:00\",\"2008-09-14T00:00:00\",\"2008-10-12T00:00:00\",\"2008-11-09T00:00:00\",\"2008-12-07T00:00:00\",\"2009-01-04T00:00:00\",\"2009-02-01T00:00:00\",\"2009-03-01T00:00:00\",\"2009-03-29T00:00:00\",\"2009-04-26T00:00:00\",\"2009-05-24T00:00:00\",\"2009-06-21T00:00:00\",\"2009-07-19T00:00:00\",\"2009-08-16T00:00:00\",\"2009-09-13T00:00:00\",\"2009-10-11T00:00:00\",\"2009-11-08T00:00:00\",\"2009-12-06T00:00:00\",\"2010-01-03T00:00:00\",\"2010-01-31T00:00:00\",\"2010-02-28T00:00:00\",\"2010-03-28T00:00:00\",\"2010-04-25T00:00:00\",\"2010-05-23T00:00:00\",\"2010-06-20T00:00:00\",\"2010-07-18T00:00:00\",\"2010-08-15T00:00:00\",\"2010-09-12T00:00:00\",\"2010-10-10T00:00:00\",\"2010-11-07T00:00:00\",\"2010-12-05T00:00:00\",\"2011-01-02T00:00:00\",\"2011-01-30T00:00:00\",\"2011-02-27T00:00:00\",\"2011-03-27T00:00:00\",\"2011-04-24T00:00:00\",\"2011-05-22T00:00:00\",\"2011-06-19T00:00:00\",\"2011-07-17T00:00:00\",\"2011-08-14T00:00:00\",\"2011-09-11T00:00:00\",\"2011-10-09T00:00:00\",\"2011-11-06T00:00:00\",\"2011-12-04T00:00:00\",\"2012-01-01T00:00:00\",\"2012-01-29T00:00:00\",\"2012-02-26T00:00:00\",\"2012-03-25T00:00:00\",\"2012-04-22T00:00:00\",\"2012-05-20T00:00:00\",\"2012-06-17T00:00:00\",\"2012-07-15T00:00:00\",\"2012-08-12T00:00:00\",\"2012-09-09T00:00:00\",\"2012-10-07T00:00:00\",\"2012-11-04T00:00:00\",\"2012-12-02T00:00:00\",\"2012-12-30T00:00:00\",\"2013-01-27T00:00:00\",\"2013-02-24T00:00:00\",\"2013-03-24T00:00:00\",\"2013-04-21T00:00:00\",\"2013-05-19T00:00:00\",\"2013-06-16T00:00:00\",\"2013-07-14T00:00:00\",\"2013-08-11T00:00:00\",\"2013-09-08T00:00:00\",\"2013-10-06T00:00:00\",\"2013-11-03T00:00:00\",\"2013-12-01T00:00:00\",\"2013-12-29T00:00:00\",\"2014-01-26T00:00:00\",\"2014-02-23T00:00:00\",\"2014-03-23T00:00:00\",\"2014-04-20T00:00:00\",\"2014-05-18T00:00:00\",\"2014-06-15T00:00:00\",\"2014-07-13T00:00:00\",\"2014-08-10T00:00:00\",\"2014-09-07T00:00:00\",\"2014-10-05T00:00:00\",\"2014-11-02T00:00:00\",\"2014-11-30T00:00:00\",\"2014-12-28T00:00:00\",\"2015-01-25T00:00:00\",\"2015-02-22T00:00:00\",\"2015-03-22T00:00:00\",\"2015-04-19T00:00:00\",\"2015-05-17T00:00:00\",\"2015-06-14T00:00:00\",\"2015-07-12T00:00:00\",\"2015-08-09T00:00:00\",\"2015-09-06T00:00:00\",\"2015-10-04T00:00:00\",\"2015-11-01T00:00:00\",\"2015-11-29T00:00:00\",\"2015-12-27T00:00:00\",\"2016-01-24T00:00:00\",\"2016-02-21T00:00:00\",\"2016-03-20T00:00:00\",\"2016-04-17T00:00:00\",\"2016-05-15T00:00:00\",\"2016-06-12T00:00:00\",\"2016-07-10T00:00:00\",\"2016-08-07T00:00:00\",\"2016-09-04T00:00:00\",\"2016-10-02T00:00:00\",\"2016-10-30T00:00:00\",\"2016-11-27T00:00:00\",\"2016-12-25T00:00:00\",\"2017-01-22T00:00:00\",\"2017-02-19T00:00:00\",\"2017-03-19T00:00:00\",\"2017-04-16T00:00:00\",\"2017-05-14T00:00:00\",\"2017-06-11T00:00:00\",\"2017-07-09T00:00:00\",\"2017-08-06T00:00:00\",\"2017-09-03T00:00:00\",\"2017-10-01T00:00:00\",\"2017-10-29T00:00:00\",\"2017-11-26T00:00:00\",\"2017-12-24T00:00:00\",\"2018-01-21T00:00:00\",\"2018-02-18T00:00:00\",\"2018-03-18T00:00:00\",\"2018-04-15T00:00:00\",\"2018-05-13T00:00:00\",\"2018-06-10T00:00:00\",\"2018-07-08T00:00:00\",\"2018-08-05T00:00:00\",\"2018-09-02T00:00:00\",\"2018-09-30T00:00:00\",\"2018-10-28T00:00:00\",\"2018-11-25T00:00:00\",\"2018-12-23T00:00:00\",\"2019-01-20T00:00:00\",\"2019-02-17T00:00:00\",\"2019-03-17T00:00:00\",\"2019-04-14T00:00:00\",\"2019-05-12T00:00:00\",\"2019-06-09T00:00:00\",\"2019-07-07T00:00:00\",\"2019-08-04T00:00:00\",\"2019-09-01T00:00:00\",\"2019-09-29T00:00:00\",\"2019-10-27T00:00:00\",\"2019-11-24T00:00:00\",\"2019-12-22T00:00:00\",\"2020-01-19T00:00:00\",\"2020-02-16T00:00:00\",\"2020-03-15T00:00:00\",\"2020-04-12T00:00:00\",\"2020-05-10T00:00:00\",\"2020-06-07T00:00:00\",\"2020-07-05T00:00:00\",\"2020-08-02T00:00:00\",\"2020-08-30T00:00:00\",\"2020-09-27T00:00:00\",\"2020-10-25T00:00:00\",\"2020-11-22T00:00:00\",\"2020-12-20T00:00:00\",\"2021-01-17T00:00:00\",\"2021-02-14T00:00:00\",\"2021-03-14T00:00:00\",\"2021-04-11T00:00:00\",\"2021-05-09T00:00:00\",\"2021-06-06T00:00:00\",\"2021-07-04T00:00:00\",\"2021-08-01T00:00:00\",\"2021-08-29T00:00:00\",\"2021-09-26T00:00:00\"],\"xaxis\":\"x\",\"y\":[1,0,1,0,0,0,0,0,0,0,0,0,0,0,0,0,0,0,1,0,0,0,0,0,0,1,0,0,0,0,0,0,0,0,0,0,0,1,0,0,0,0,0,0,1,0,0,0,0,12,0,0,0,0,1,0,0,0,0,0,0,0,0,0,2,0,0,0,0,1,0,0,0,1,2,0,5,0,2,2,2,0,2,0,1,1,0,1,1,4,4,6,1,3,6,2,5,5,7,6,2,8,12,4,18,42,16,18,17,14,16,25,27,40,49,28,43,86,73,67,104,108,75,97,92,81,101,119,76,85,89,133,88,160,121,103,53,108,168,118,99,182,146,153,161,146,158,135,161,127,169,125,128,90,182,236,153,258,115,109,139,160,159,163,106,102,149,166,145,161,142,86,104,125,180,149,206,224,137,186],\"yaxis\":\"y\",\"type\":\"scatter\"}],                        {\"template\":{\"data\":{\"histogram2dcontour\":[{\"type\":\"histogram2dcontour\",\"colorbar\":{\"outlinewidth\":0,\"ticks\":\"\"},\"colorscale\":[[0.0,\"#0d0887\"],[0.1111111111111111,\"#46039f\"],[0.2222222222222222,\"#7201a8\"],[0.3333333333333333,\"#9c179e\"],[0.4444444444444444,\"#bd3786\"],[0.5555555555555556,\"#d8576b\"],[0.6666666666666666,\"#ed7953\"],[0.7777777777777778,\"#fb9f3a\"],[0.8888888888888888,\"#fdca26\"],[1.0,\"#f0f921\"]]}],\"choropleth\":[{\"type\":\"choropleth\",\"colorbar\":{\"outlinewidth\":0,\"ticks\":\"\"}}],\"histogram2d\":[{\"type\":\"histogram2d\",\"colorbar\":{\"outlinewidth\":0,\"ticks\":\"\"},\"colorscale\":[[0.0,\"#0d0887\"],[0.1111111111111111,\"#46039f\"],[0.2222222222222222,\"#7201a8\"],[0.3333333333333333,\"#9c179e\"],[0.4444444444444444,\"#bd3786\"],[0.5555555555555556,\"#d8576b\"],[0.6666666666666666,\"#ed7953\"],[0.7777777777777778,\"#fb9f3a\"],[0.8888888888888888,\"#fdca26\"],[1.0,\"#f0f921\"]]}],\"heatmap\":[{\"type\":\"heatmap\",\"colorbar\":{\"outlinewidth\":0,\"ticks\":\"\"},\"colorscale\":[[0.0,\"#0d0887\"],[0.1111111111111111,\"#46039f\"],[0.2222222222222222,\"#7201a8\"],[0.3333333333333333,\"#9c179e\"],[0.4444444444444444,\"#bd3786\"],[0.5555555555555556,\"#d8576b\"],[0.6666666666666666,\"#ed7953\"],[0.7777777777777778,\"#fb9f3a\"],[0.8888888888888888,\"#fdca26\"],[1.0,\"#f0f921\"]]}],\"heatmapgl\":[{\"type\":\"heatmapgl\",\"colorbar\":{\"outlinewidth\":0,\"ticks\":\"\"},\"colorscale\":[[0.0,\"#0d0887\"],[0.1111111111111111,\"#46039f\"],[0.2222222222222222,\"#7201a8\"],[0.3333333333333333,\"#9c179e\"],[0.4444444444444444,\"#bd3786\"],[0.5555555555555556,\"#d8576b\"],[0.6666666666666666,\"#ed7953\"],[0.7777777777777778,\"#fb9f3a\"],[0.8888888888888888,\"#fdca26\"],[1.0,\"#f0f921\"]]}],\"contourcarpet\":[{\"type\":\"contourcarpet\",\"colorbar\":{\"outlinewidth\":0,\"ticks\":\"\"}}],\"contour\":[{\"type\":\"contour\",\"colorbar\":{\"outlinewidth\":0,\"ticks\":\"\"},\"colorscale\":[[0.0,\"#0d0887\"],[0.1111111111111111,\"#46039f\"],[0.2222222222222222,\"#7201a8\"],[0.3333333333333333,\"#9c179e\"],[0.4444444444444444,\"#bd3786\"],[0.5555555555555556,\"#d8576b\"],[0.6666666666666666,\"#ed7953\"],[0.7777777777777778,\"#fb9f3a\"],[0.8888888888888888,\"#fdca26\"],[1.0,\"#f0f921\"]]}],\"surface\":[{\"type\":\"surface\",\"colorbar\":{\"outlinewidth\":0,\"ticks\":\"\"},\"colorscale\":[[0.0,\"#0d0887\"],[0.1111111111111111,\"#46039f\"],[0.2222222222222222,\"#7201a8\"],[0.3333333333333333,\"#9c179e\"],[0.4444444444444444,\"#bd3786\"],[0.5555555555555556,\"#d8576b\"],[0.6666666666666666,\"#ed7953\"],[0.7777777777777778,\"#fb9f3a\"],[0.8888888888888888,\"#fdca26\"],[1.0,\"#f0f921\"]]}],\"mesh3d\":[{\"type\":\"mesh3d\",\"colorbar\":{\"outlinewidth\":0,\"ticks\":\"\"}}],\"scatter\":[{\"fillpattern\":{\"fillmode\":\"overlay\",\"size\":10,\"solidity\":0.2},\"type\":\"scatter\"}],\"parcoords\":[{\"type\":\"parcoords\",\"line\":{\"colorbar\":{\"outlinewidth\":0,\"ticks\":\"\"}}}],\"scatterpolargl\":[{\"type\":\"scatterpolargl\",\"marker\":{\"colorbar\":{\"outlinewidth\":0,\"ticks\":\"\"}}}],\"bar\":[{\"error_x\":{\"color\":\"#2a3f5f\"},\"error_y\":{\"color\":\"#2a3f5f\"},\"marker\":{\"line\":{\"color\":\"#E5ECF6\",\"width\":0.5},\"pattern\":{\"fillmode\":\"overlay\",\"size\":10,\"solidity\":0.2}},\"type\":\"bar\"}],\"scattergeo\":[{\"type\":\"scattergeo\",\"marker\":{\"colorbar\":{\"outlinewidth\":0,\"ticks\":\"\"}}}],\"scatterpolar\":[{\"type\":\"scatterpolar\",\"marker\":{\"colorbar\":{\"outlinewidth\":0,\"ticks\":\"\"}}}],\"histogram\":[{\"marker\":{\"pattern\":{\"fillmode\":\"overlay\",\"size\":10,\"solidity\":0.2}},\"type\":\"histogram\"}],\"scattergl\":[{\"type\":\"scattergl\",\"marker\":{\"colorbar\":{\"outlinewidth\":0,\"ticks\":\"\"}}}],\"scatter3d\":[{\"type\":\"scatter3d\",\"line\":{\"colorbar\":{\"outlinewidth\":0,\"ticks\":\"\"}},\"marker\":{\"colorbar\":{\"outlinewidth\":0,\"ticks\":\"\"}}}],\"scattermapbox\":[{\"type\":\"scattermapbox\",\"marker\":{\"colorbar\":{\"outlinewidth\":0,\"ticks\":\"\"}}}],\"scatterternary\":[{\"type\":\"scatterternary\",\"marker\":{\"colorbar\":{\"outlinewidth\":0,\"ticks\":\"\"}}}],\"scattercarpet\":[{\"type\":\"scattercarpet\",\"marker\":{\"colorbar\":{\"outlinewidth\":0,\"ticks\":\"\"}}}],\"carpet\":[{\"aaxis\":{\"endlinecolor\":\"#2a3f5f\",\"gridcolor\":\"white\",\"linecolor\":\"white\",\"minorgridcolor\":\"white\",\"startlinecolor\":\"#2a3f5f\"},\"baxis\":{\"endlinecolor\":\"#2a3f5f\",\"gridcolor\":\"white\",\"linecolor\":\"white\",\"minorgridcolor\":\"white\",\"startlinecolor\":\"#2a3f5f\"},\"type\":\"carpet\"}],\"table\":[{\"cells\":{\"fill\":{\"color\":\"#EBF0F8\"},\"line\":{\"color\":\"white\"}},\"header\":{\"fill\":{\"color\":\"#C8D4E3\"},\"line\":{\"color\":\"white\"}},\"type\":\"table\"}],\"barpolar\":[{\"marker\":{\"line\":{\"color\":\"#E5ECF6\",\"width\":0.5},\"pattern\":{\"fillmode\":\"overlay\",\"size\":10,\"solidity\":0.2}},\"type\":\"barpolar\"}],\"pie\":[{\"automargin\":true,\"type\":\"pie\"}]},\"layout\":{\"autotypenumbers\":\"strict\",\"colorway\":[\"#636efa\",\"#EF553B\",\"#00cc96\",\"#ab63fa\",\"#FFA15A\",\"#19d3f3\",\"#FF6692\",\"#B6E880\",\"#FF97FF\",\"#FECB52\"],\"font\":{\"color\":\"#2a3f5f\"},\"hovermode\":\"closest\",\"hoverlabel\":{\"align\":\"left\"},\"paper_bgcolor\":\"white\",\"plot_bgcolor\":\"#E5ECF6\",\"polar\":{\"bgcolor\":\"#E5ECF6\",\"angularaxis\":{\"gridcolor\":\"white\",\"linecolor\":\"white\",\"ticks\":\"\"},\"radialaxis\":{\"gridcolor\":\"white\",\"linecolor\":\"white\",\"ticks\":\"\"}},\"ternary\":{\"bgcolor\":\"#E5ECF6\",\"aaxis\":{\"gridcolor\":\"white\",\"linecolor\":\"white\",\"ticks\":\"\"},\"baxis\":{\"gridcolor\":\"white\",\"linecolor\":\"white\",\"ticks\":\"\"},\"caxis\":{\"gridcolor\":\"white\",\"linecolor\":\"white\",\"ticks\":\"\"}},\"coloraxis\":{\"colorbar\":{\"outlinewidth\":0,\"ticks\":\"\"}},\"colorscale\":{\"sequential\":[[0.0,\"#0d0887\"],[0.1111111111111111,\"#46039f\"],[0.2222222222222222,\"#7201a8\"],[0.3333333333333333,\"#9c179e\"],[0.4444444444444444,\"#bd3786\"],[0.5555555555555556,\"#d8576b\"],[0.6666666666666666,\"#ed7953\"],[0.7777777777777778,\"#fb9f3a\"],[0.8888888888888888,\"#fdca26\"],[1.0,\"#f0f921\"]],\"sequentialminus\":[[0.0,\"#0d0887\"],[0.1111111111111111,\"#46039f\"],[0.2222222222222222,\"#7201a8\"],[0.3333333333333333,\"#9c179e\"],[0.4444444444444444,\"#bd3786\"],[0.5555555555555556,\"#d8576b\"],[0.6666666666666666,\"#ed7953\"],[0.7777777777777778,\"#fb9f3a\"],[0.8888888888888888,\"#fdca26\"],[1.0,\"#f0f921\"]],\"diverging\":[[0,\"#8e0152\"],[0.1,\"#c51b7d\"],[0.2,\"#de77ae\"],[0.3,\"#f1b6da\"],[0.4,\"#fde0ef\"],[0.5,\"#f7f7f7\"],[0.6,\"#e6f5d0\"],[0.7,\"#b8e186\"],[0.8,\"#7fbc41\"],[0.9,\"#4d9221\"],[1,\"#276419\"]]},\"xaxis\":{\"gridcolor\":\"white\",\"linecolor\":\"white\",\"ticks\":\"\",\"title\":{\"standoff\":15},\"zerolinecolor\":\"white\",\"automargin\":true,\"zerolinewidth\":2},\"yaxis\":{\"gridcolor\":\"white\",\"linecolor\":\"white\",\"ticks\":\"\",\"title\":{\"standoff\":15},\"zerolinecolor\":\"white\",\"automargin\":true,\"zerolinewidth\":2},\"scene\":{\"xaxis\":{\"backgroundcolor\":\"#E5ECF6\",\"gridcolor\":\"white\",\"linecolor\":\"white\",\"showbackground\":true,\"ticks\":\"\",\"zerolinecolor\":\"white\",\"gridwidth\":2},\"yaxis\":{\"backgroundcolor\":\"#E5ECF6\",\"gridcolor\":\"white\",\"linecolor\":\"white\",\"showbackground\":true,\"ticks\":\"\",\"zerolinecolor\":\"white\",\"gridwidth\":2},\"zaxis\":{\"backgroundcolor\":\"#E5ECF6\",\"gridcolor\":\"white\",\"linecolor\":\"white\",\"showbackground\":true,\"ticks\":\"\",\"zerolinecolor\":\"white\",\"gridwidth\":2}},\"shapedefaults\":{\"line\":{\"color\":\"#2a3f5f\"}},\"annotationdefaults\":{\"arrowcolor\":\"#2a3f5f\",\"arrowhead\":0,\"arrowwidth\":1},\"geo\":{\"bgcolor\":\"white\",\"landcolor\":\"#E5ECF6\",\"subunitcolor\":\"white\",\"showland\":true,\"showlakes\":true,\"lakecolor\":\"white\"},\"title\":{\"x\":0.05},\"mapbox\":{\"style\":\"light\"}}},\"xaxis\":{\"anchor\":\"y\",\"domain\":[0.0,1.0],\"title\":{\"text\":\"Added Date\"}},\"yaxis\":{\"anchor\":\"x\",\"domain\":[0.0,1.0],\"title\":{\"text\":\"The number of Movies/TV Shows\"}},\"legend\":{\"tracegroupgap\":0},\"title\":{\"text\":\"The number of Movies/TV Shows for each added date\"}},                        {\"responsive\": true}                    ).then(function(){\n",
       "                            \n",
       "var gd = document.getElementById('99f2778f-4678-4bf3-b7e6-3ccc895591d8');\n",
       "var x = new MutationObserver(function (mutations, observer) {{\n",
       "        var display = window.getComputedStyle(gd).display;\n",
       "        if (!display || display === 'none') {{\n",
       "            console.log([gd, 'removed!']);\n",
       "            Plotly.purge(gd);\n",
       "            observer.disconnect();\n",
       "        }}\n",
       "}});\n",
       "\n",
       "// Listen for the removal of the full notebook cells\n",
       "var notebookContainer = gd.closest('#notebook-container');\n",
       "if (notebookContainer) {{\n",
       "    x.observe(notebookContainer, {childList: true});\n",
       "}}\n",
       "\n",
       "// Listen for the clearing of the current output cell\n",
       "var outputEl = gd.closest('.output');\n",
       "if (outputEl) {{\n",
       "    x.observe(outputEl, {childList: true});\n",
       "}}\n",
       "\n",
       "                        })                };                });            </script>        </div>"
      ]
     },
     "metadata": {},
     "output_type": "display_data"
    }
   ],
   "source": [
    "\n",
    "fig = px.line(data, x = data.index,\n",
    "              y='show_id',\n",
    "              title ='The number of Movies/TV Shows for each added date',\n",
    "              labels={'date_added':'Added Date','show_id':'The number of Movies/TV Shows'})\n",
    "fig.show()"
   ]
  },
  {
   "cell_type": "markdown",
   "id": "95a654c0",
   "metadata": {
    "papermill": {
     "duration": 0.031465,
     "end_time": "2022-10-01T12:18:08.614472",
     "exception": false,
     "start_time": "2022-10-01T12:18:08.583007",
     "status": "completed"
    },
    "tags": []
   },
   "source": [
    ">* **It can be noted that the number of films that were added began to increase with the beginning of 2016**"
   ]
  },
  {
   "cell_type": "markdown",
   "id": "4171d9c6",
   "metadata": {
    "papermill": {
     "duration": 0.031435,
     "end_time": "2022-10-01T12:18:08.677694",
     "exception": false,
     "start_time": "2022-10-01T12:18:08.646259",
     "status": "completed"
    },
    "tags": []
   },
   "source": [
    "### Q6: how many added Movies/TV by month?"
   ]
  },
  {
   "cell_type": "code",
   "execution_count": 31,
   "id": "f2629d50",
   "metadata": {
    "execution": {
     "iopub.execute_input": "2022-10-01T12:18:08.742847Z",
     "iopub.status.busy": "2022-10-01T12:18:08.742460Z",
     "iopub.status.idle": "2022-10-01T12:18:08.753104Z",
     "shell.execute_reply": "2022-10-01T12:18:08.751928Z"
    },
    "papermill": {
     "duration": 0.046493,
     "end_time": "2022-10-01T12:18:08.755773",
     "exception": false,
     "start_time": "2022-10-01T12:18:08.709280",
     "status": "completed"
    },
    "tags": []
   },
   "outputs": [],
   "source": [
    "data=(df.groupby('date_added')[['show_id']].count())\n",
    "data['month_name'] = data.index.month_name()"
   ]
  },
  {
   "cell_type": "code",
   "execution_count": 32,
   "id": "edf934a8",
   "metadata": {
    "execution": {
     "iopub.execute_input": "2022-10-01T12:18:08.822391Z",
     "iopub.status.busy": "2022-10-01T12:18:08.821678Z",
     "iopub.status.idle": "2022-10-01T12:18:08.829846Z",
     "shell.execute_reply": "2022-10-01T12:18:08.828607Z"
    },
    "papermill": {
     "duration": 0.044219,
     "end_time": "2022-10-01T12:18:08.832398",
     "exception": false,
     "start_time": "2022-10-01T12:18:08.788179",
     "status": "completed"
    },
    "tags": []
   },
   "outputs": [],
   "source": [
    "month_name=data.groupby('month_name').sum()\n",
    "month_name=month_name.sort_values('show_id')"
   ]
  },
  {
   "cell_type": "code",
   "execution_count": 33,
   "id": "8c058bee",
   "metadata": {
    "execution": {
     "iopub.execute_input": "2022-10-01T12:18:08.898886Z",
     "iopub.status.busy": "2022-10-01T12:18:08.898483Z",
     "iopub.status.idle": "2022-10-01T12:18:09.198351Z",
     "shell.execute_reply": "2022-10-01T12:18:09.197205Z"
    },
    "papermill": {
     "duration": 0.33569,
     "end_time": "2022-10-01T12:18:09.200834",
     "exception": false,
     "start_time": "2022-10-01T12:18:08.865144",
     "status": "completed"
    },
    "tags": []
   },
   "outputs": [
    {
     "data": {
      "image/png": "[encoded data removed]",
      "text/plain": [
       "<Figure size 1080x360 with 1 Axes>"
      ]
     },
     "metadata": {},
     "output_type": "display_data"
    }
   ],
   "source": [
    "# create plot\n",
    "f, ax = plt.subplots(figsize=(15, 5))\n",
    "sns.set(style='whitegrid')\n",
    "sns.barplot(data=month_name,x=month_name.index,y='show_id',palette='cubehelix_r')\n",
    "ax.set(title='The number of added Movies/TV Shows by month', ylabel='count',xlabel='added month')\n",
    "plt.show()"
   ]
  },
  {
   "cell_type": "markdown",
   "id": "6439a76b",
   "metadata": {
    "papermill": {
     "duration": 0.03285,
     "end_time": "2022-10-01T12:18:09.267229",
     "exception": false,
     "start_time": "2022-10-01T12:18:09.234379",
     "status": "completed"
    },
    "tags": []
   },
   "source": [
    ">* **July has the max number of added Movies/TV Shows by month**\n",
    ">* **February has the min number of added Movies/TV Shows by month**"
   ]
  },
  {
   "cell_type": "markdown",
   "id": "9e067168",
   "metadata": {
    "papermill": {
     "duration": 0.032124,
     "end_time": "2022-10-01T12:18:09.331796",
     "exception": false,
     "start_time": "2022-10-01T12:18:09.299672",
     "status": "completed"
    },
    "tags": []
   },
   "source": [
    "### Q7: how many added Movies/TV by day?"
   ]
  },
  {
   "cell_type": "code",
   "execution_count": 34,
   "id": "421b34d3",
   "metadata": {
    "execution": {
     "iopub.execute_input": "2022-10-01T12:18:09.398909Z",
     "iopub.status.busy": "2022-10-01T12:18:09.397854Z",
     "iopub.status.idle": "2022-10-01T12:18:09.409218Z",
     "shell.execute_reply": "2022-10-01T12:18:09.408117Z"
    },
    "papermill": {
     "duration": 0.047622,
     "end_time": "2022-10-01T12:18:09.411850",
     "exception": false,
     "start_time": "2022-10-01T12:18:09.364228",
     "status": "completed"
    },
    "tags": []
   },
   "outputs": [],
   "source": [
    "data=(df.groupby('date_added')[['show_id']].count())\n",
    "data['day_name'] = data.index.day_name()"
   ]
  },
  {
   "cell_type": "code",
   "execution_count": 35,
   "id": "6d550351",
   "metadata": {
    "execution": {
     "iopub.execute_input": "2022-10-01T12:18:09.480737Z",
     "iopub.status.busy": "2022-10-01T12:18:09.478462Z",
     "iopub.status.idle": "2022-10-01T12:18:09.488109Z",
     "shell.execute_reply": "2022-10-01T12:18:09.487311Z"
    },
    "papermill": {
     "duration": 0.045916,
     "end_time": "2022-10-01T12:18:09.490449",
     "exception": false,
     "start_time": "2022-10-01T12:18:09.444533",
     "status": "completed"
    },
    "tags": []
   },
   "outputs": [],
   "source": [
    "day_name=data.groupby('day_name').sum()\n",
    "day_name=day_name.sort_values('show_id')"
   ]
  },
  {
   "cell_type": "code",
   "execution_count": 36,
   "id": "7e5147d2",
   "metadata": {
    "execution": {
     "iopub.execute_input": "2022-10-01T12:18:09.557807Z",
     "iopub.status.busy": "2022-10-01T12:18:09.556667Z",
     "iopub.status.idle": "2022-10-01T12:18:09.789024Z",
     "shell.execute_reply": "2022-10-01T12:18:09.787880Z"
    },
    "papermill": {
     "duration": 0.268608,
     "end_time": "2022-10-01T12:18:09.791406",
     "exception": false,
     "start_time": "2022-10-01T12:18:09.522798",
     "status": "completed"
    },
    "tags": []
   },
   "outputs": [
    {
     "data": {
      "image/png": "[encoded data removed]",
      "text/plain": [
       "<Figure size 1080x360 with 1 Axes>"
      ]
     },
     "metadata": {},
     "output_type": "display_data"
    }
   ],
   "source": [
    "# create plot\n",
    "f, ax = plt.subplots(figsize=(15, 5))\n",
    "sns.set(style='whitegrid')\n",
    "sns.barplot(data=day_name,x=day_name.index,y='show_id',palette='gnuplot2')\n",
    "ax.set(title='The number of added Movies/TV Shows by day', ylabel='count',xlabel='added day')\n",
    "plt.show()"
   ]
  },
  {
   "cell_type": "markdown",
   "id": "343b628f",
   "metadata": {
    "papermill": {
     "duration": 0.032255,
     "end_time": "2022-10-01T12:18:09.856371",
     "exception": false,
     "start_time": "2022-10-01T12:18:09.824116",
     "status": "completed"
    },
    "tags": []
   },
   "source": [
    ">* **Friday has the max number of added Movies/TV Shows by day**\n",
    ">* **Sunday has the min number of added Movies/TV Shows by day**"
   ]
  },
  {
   "cell_type": "markdown",
   "id": "e8e08053",
   "metadata": {
    "papermill": {
     "duration": 0.032957,
     "end_time": "2022-10-01T12:18:09.921916",
     "exception": false,
     "start_time": "2022-10-01T12:18:09.888959",
     "status": "completed"
    },
    "tags": []
   },
   "source": [
    "### Q8: Most common cast appeared in the last years?"
   ]
  },
  {
   "cell_type": "code",
   "execution_count": 37,
   "id": "9b394237",
   "metadata": {
    "execution": {
     "iopub.execute_input": "2022-10-01T12:18:09.991424Z",
     "iopub.status.busy": "2022-10-01T12:18:09.990493Z",
     "iopub.status.idle": "2022-10-01T12:18:10.063929Z",
     "shell.execute_reply": "2022-10-01T12:18:10.062930Z"
    },
    "papermill": {
     "duration": 0.111423,
     "end_time": "2022-10-01T12:18:10.066633",
     "exception": false,
     "start_time": "2022-10-01T12:18:09.955210",
     "status": "completed"
    },
    "tags": []
   },
   "outputs": [],
   "source": [
    "dic={}\n",
    "data= df\n",
    "for x,y in data['cast'].dropna().items():\n",
    "    data=y.split(',')\n",
    "    for i in data:\n",
    "        i=i.strip()\n",
    "        if i in dic.keys():\n",
    "            dic[i]=dic[i]+1\n",
    "        else:\n",
    "            dic[i]=1\n",
    "cast=pd.DataFrame(list(dic.values()),index=list(dic.keys()),columns=[\"Count\"])\n",
    "cast=cast.sort_values(by='Count',ascending=False)\n",
    "cast= cast.reset_index()"
   ]
  },
  {
   "cell_type": "code",
   "execution_count": 38,
   "id": "47425ee5",
   "metadata": {
    "execution": {
     "iopub.execute_input": "2022-10-01T12:18:10.135759Z",
     "iopub.status.busy": "2022-10-01T12:18:10.135378Z",
     "iopub.status.idle": "2022-10-01T12:18:10.418938Z",
     "shell.execute_reply": "2022-10-01T12:18:10.417836Z"
    },
    "papermill": {
     "duration": 0.321893,
     "end_time": "2022-10-01T12:18:10.421708",
     "exception": false,
     "start_time": "2022-10-01T12:18:10.099815",
     "status": "completed"
    },
    "tags": []
   },
   "outputs": [
    {
     "data": {
      "image/png": "[encoded data removed]",
      "text/plain": [
       "<Figure size 1152x576 with 1 Axes>"
      ]
     },
     "metadata": {},
     "output_type": "display_data"
    }
   ],
   "source": [
    "# create plot\n",
    "f, ax = plt.subplots(figsize=(16, 8))\n",
    "\n",
    "sns.set(style='whitegrid')\n",
    "sns.barplot(data=cast.head(10),x='index',y='Count',palette='Accent')\n",
    "ax.set(title='most common cast members in Movies/TV Shows of the last years', ylabel='cast members',xlabel='The number of Movies/TV Shows')\n",
    "\n",
    "\n",
    "plt.show()"
   ]
  },
  {
   "cell_type": "code",
   "execution_count": 39,
   "id": "c293a31a",
   "metadata": {
    "execution": {
     "iopub.execute_input": "2022-10-01T12:18:10.490832Z",
     "iopub.status.busy": "2022-10-01T12:18:10.490038Z",
     "iopub.status.idle": "2022-10-01T12:18:10.503299Z",
     "shell.execute_reply": "2022-10-01T12:18:10.501881Z"
    },
    "papermill": {
     "duration": 0.050463,
     "end_time": "2022-10-01T12:18:10.505728",
     "exception": false,
     "start_time": "2022-10-01T12:18:10.455265",
     "status": "completed"
    },
    "tags": []
   },
   "outputs": [
    {
     "data": {
      "text/html": [
       "<div>\n",
       "<style scoped>\n",
       "    .dataframe tbody tr th:only-of-type {\n",
       "        vertical-align: middle;\n",
       "    }\n",
       "\n",
       "    .dataframe tbody tr th {\n",
       "        vertical-align: top;\n",
       "    }\n",
       "\n",
       "    .dataframe thead th {\n",
       "        text-align: right;\n",
       "    }\n",
       "</style>\n",
       "<table border=\"1\" class=\"dataframe\">\n",
       "  <thead>\n",
       "    <tr style=\"text-align: right;\">\n",
       "      <th></th>\n",
       "      <th>index</th>\n",
       "      <th>Count</th>\n",
       "    </tr>\n",
       "  </thead>\n",
       "  <tbody>\n",
       "    <tr>\n",
       "      <th>0</th>\n",
       "      <td>Anupam Kher</td>\n",
       "      <td>43</td>\n",
       "    </tr>\n",
       "    <tr>\n",
       "      <th>1</th>\n",
       "      <td>Shah Rukh Khan</td>\n",
       "      <td>35</td>\n",
       "    </tr>\n",
       "    <tr>\n",
       "      <th>2</th>\n",
       "      <td>Julie Tejwani</td>\n",
       "      <td>33</td>\n",
       "    </tr>\n",
       "    <tr>\n",
       "      <th>3</th>\n",
       "      <td>Naseeruddin Shah</td>\n",
       "      <td>32</td>\n",
       "    </tr>\n",
       "    <tr>\n",
       "      <th>4</th>\n",
       "      <td>Takahiro Sakurai</td>\n",
       "      <td>32</td>\n",
       "    </tr>\n",
       "    <tr>\n",
       "      <th>...</th>\n",
       "      <td>...</td>\n",
       "      <td>...</td>\n",
       "    </tr>\n",
       "    <tr>\n",
       "      <th>36434</th>\n",
       "      <td>Maryam Zaree</td>\n",
       "      <td>1</td>\n",
       "    </tr>\n",
       "    <tr>\n",
       "      <th>36435</th>\n",
       "      <td>Melanie Straub</td>\n",
       "      <td>1</td>\n",
       "    </tr>\n",
       "    <tr>\n",
       "      <th>36436</th>\n",
       "      <td>Gabriela Maria Schmeide</td>\n",
       "      <td>1</td>\n",
       "    </tr>\n",
       "    <tr>\n",
       "      <th>36437</th>\n",
       "      <td>Helena Zengel</td>\n",
       "      <td>1</td>\n",
       "    </tr>\n",
       "    <tr>\n",
       "      <th>36438</th>\n",
       "      <td>Chittaranjan Tripathy</td>\n",
       "      <td>1</td>\n",
       "    </tr>\n",
       "  </tbody>\n",
       "</table>\n",
       "<p>36439 rows × 2 columns</p>\n",
       "</div>"
      ],
      "text/plain": [
       "                         index  Count\n",
       "0                  Anupam Kher     43\n",
       "1               Shah Rukh Khan     35\n",
       "2                Julie Tejwani     33\n",
       "3             Naseeruddin Shah     32\n",
       "4             Takahiro Sakurai     32\n",
       "...                        ...    ...\n",
       "36434             Maryam Zaree      1\n",
       "36435           Melanie Straub      1\n",
       "36436  Gabriela Maria Schmeide      1\n",
       "36437            Helena Zengel      1\n",
       "36438    Chittaranjan Tripathy      1\n",
       "\n",
       "[36439 rows x 2 columns]"
      ]
     },
     "execution_count": 39,
     "metadata": {},
     "output_type": "execute_result"
    }
   ],
   "source": [
    "cast"
   ]
  },
  {
   "cell_type": "code",
   "execution_count": 40,
   "id": "421c5550",
   "metadata": {
    "execution": {
     "iopub.execute_input": "2022-10-01T12:18:10.575598Z",
     "iopub.status.busy": "2022-10-01T12:18:10.575203Z",
     "iopub.status.idle": "2022-10-01T12:18:12.056422Z",
     "shell.execute_reply": "2022-10-01T12:18:12.055532Z"
    },
    "papermill": {
     "duration": 1.519001,
     "end_time": "2022-10-01T12:18:12.058922",
     "exception": false,
     "start_time": "2022-10-01T12:18:10.539921",
     "status": "completed"
    },
    "tags": []
   },
   "outputs": [],
   "source": [
    "data_df=df.copy()\n",
    "cat1=['Anupam Kher', 'Shah Rukh Khan', 'Julie Tejwani']\n",
    "dic={\n",
    "    'release_year':[],\n",
    "    'type':[],\n",
    "    'Anupam Kher':[], \n",
    "    'Shah Rukh Khan':[],\n",
    "    'Julie Tejwani':[],\n",
    "}\n",
    "key=list(dic.keys())\n",
    "data_df=data_df[(data_df['cast'].notna())& (data_df['release_year']>1980)].reset_index(drop=True)\n",
    "for x in data_df.index:\n",
    "    y=data_df.iloc[x]\n",
    "    dic['release_year'].append(y['release_year'])\n",
    "    dic['type'].append(y['type'])\n",
    "    data=y['cast'].split(',')\n",
    "    data=[x.strip() for x in data]\n",
    "    for i in data:\n",
    "        if i in cat1:\n",
    "            dic[i].append(1)\n",
    "    \n",
    "    temp = [x for x in cat1 if x not in data]\n",
    "    for i in temp:\n",
    "        if i in cat1:\n",
    "            dic[i].append(0)"
   ]
  },
  {
   "cell_type": "code",
   "execution_count": 41,
   "id": "65a92bc6",
   "metadata": {
    "execution": {
     "iopub.execute_input": "2022-10-01T12:18:12.127880Z",
     "iopub.status.busy": "2022-10-01T12:18:12.126973Z",
     "iopub.status.idle": "2022-10-01T12:18:12.215945Z",
     "shell.execute_reply": "2022-10-01T12:18:12.214765Z"
    },
    "papermill": {
     "duration": 0.126336,
     "end_time": "2022-10-01T12:18:12.218657",
     "exception": false,
     "start_time": "2022-10-01T12:18:12.092321",
     "status": "completed"
    },
    "tags": []
   },
   "outputs": [
    {
     "data": {
      "text/html": [
       "<div>                            <div id=\"f3d0706a-5001-4523-a3c6-9078d2f1689f\" class=\"plotly-graph-div\" style=\"height:525px; width:100%;\"></div>            <script type=\"text/javascript\">                require([\"plotly\"], function(Plotly) {                    window.PLOTLYENV=window.PLOTLYENV || {};                                    if (document.getElementById(\"f3d0706a-5001-4523-a3c6-9078d2f1689f\")) {                    Plotly.newPlot(                        \"f3d0706a-5001-4523-a3c6-9078d2f1689f\",                        [{\"hovertemplate\":\"variable=Anupam Kher<br>Release Year=%{x}<br>The number of Movies/TV Shows=%{y}<extra></extra>\",\"legendgroup\":\"Anupam Kher\",\"line\":{\"color\":\"#636efa\",\"dash\":\"solid\"},\"marker\":{\"symbol\":\"circle\"},\"mode\":\"lines\",\"name\":\"Anupam Kher\",\"orientation\":\"v\",\"showlegend\":true,\"x\":[1981,1982,1983,1984,1985,1986,1987,1988,1989,1990,1991,1992,1993,1994,1995,1996,1997,1998,1999,2000,2001,2002,2003,2004,2005,2006,2007,2008,2009,2010,2011,2012,2013,2014,2015,2016,2017,2018,2019,2020,2021],\"xaxis\":\"x\",\"y\":[0,0,0,0,0,0,0,0,0,1,0,0,2,1,1,1,1,1,1,2,1,0,0,0,2,4,0,4,1,0,2,2,6,2,1,1,4,1,1,0,0],\"yaxis\":\"y\",\"type\":\"scatter\"},{\"hovertemplate\":\"variable=Shah Rukh Khan<br>Release Year=%{x}<br>The number of Movies/TV Shows=%{y}<extra></extra>\",\"legendgroup\":\"Shah Rukh Khan\",\"line\":{\"color\":\"#EF553B\",\"dash\":\"solid\"},\"marker\":{\"symbol\":\"circle\"},\"mode\":\"lines\",\"name\":\"Shah Rukh Khan\",\"orientation\":\"v\",\"showlegend\":true,\"x\":[1981,1982,1983,1984,1985,1986,1987,1988,1989,1990,1991,1992,1993,1994,1995,1996,1997,1998,1999,2000,2001,2002,2003,2004,2005,2006,2007,2008,2009,2010,2011,2012,2013,2014,2015,2016,2017,2018,2019,2020,2021],\"xaxis\":\"x\",\"y\":[0,0,0,0,0,0,0,0,0,0,0,1,1,2,3,2,1,3,0,1,3,1,2,2,1,2,1,0,1,0,1,0,1,1,1,1,2,0,1,0,0],\"yaxis\":\"y\",\"type\":\"scatter\"},{\"hovertemplate\":\"variable=Julie Tejwani<br>Release Year=%{x}<br>The number of Movies/TV Shows=%{y}<extra></extra>\",\"legendgroup\":\"Julie Tejwani\",\"line\":{\"color\":\"#00cc96\",\"dash\":\"solid\"},\"marker\":{\"symbol\":\"circle\"},\"mode\":\"lines\",\"name\":\"Julie Tejwani\",\"orientation\":\"v\",\"showlegend\":true,\"x\":[1981,1982,1983,1984,1985,1986,1987,1988,1989,1990,1991,1992,1993,1994,1995,1996,1997,1998,1999,2000,2001,2002,2003,2004,2005,2006,2007,2008,2009,2010,2011,2012,2013,2014,2015,2016,2017,2018,2019,2020,2021],\"xaxis\":\"x\",\"y\":[0,0,0,0,0,0,0,0,0,0,0,0,0,0,0,0,0,0,0,0,0,0,0,0,0,0,0,0,2,2,3,4,6,1,2,0,1,6,5,0,1],\"yaxis\":\"y\",\"type\":\"scatter\"}],                        {\"template\":{\"data\":{\"histogram2dcontour\":[{\"type\":\"histogram2dcontour\",\"colorbar\":{\"outlinewidth\":0,\"ticks\":\"\"},\"colorscale\":[[0.0,\"#0d0887\"],[0.1111111111111111,\"#46039f\"],[0.2222222222222222,\"#7201a8\"],[0.3333333333333333,\"#9c179e\"],[0.4444444444444444,\"#bd3786\"],[0.5555555555555556,\"#d8576b\"],[0.6666666666666666,\"#ed7953\"],[0.7777777777777778,\"#fb9f3a\"],[0.8888888888888888,\"#fdca26\"],[1.0,\"#f0f921\"]]}],\"choropleth\":[{\"type\":\"choropleth\",\"colorbar\":{\"outlinewidth\":0,\"ticks\":\"\"}}],\"histogram2d\":[{\"type\":\"histogram2d\",\"colorbar\":{\"outlinewidth\":0,\"ticks\":\"\"},\"colorscale\":[[0.0,\"#0d0887\"],[0.1111111111111111,\"#46039f\"],[0.2222222222222222,\"#7201a8\"],[0.3333333333333333,\"#9c179e\"],[0.4444444444444444,\"#bd3786\"],[0.5555555555555556,\"#d8576b\"],[0.6666666666666666,\"#ed7953\"],[0.7777777777777778,\"#fb9f3a\"],[0.8888888888888888,\"#fdca26\"],[1.0,\"#f0f921\"]]}],\"heatmap\":[{\"type\":\"heatmap\",\"colorbar\":{\"outlinewidth\":0,\"ticks\":\"\"},\"colorscale\":[[0.0,\"#0d0887\"],[0.1111111111111111,\"#46039f\"],[0.2222222222222222,\"#7201a8\"],[0.3333333333333333,\"#9c179e\"],[0.4444444444444444,\"#bd3786\"],[0.5555555555555556,\"#d8576b\"],[0.6666666666666666,\"#ed7953\"],[0.7777777777777778,\"#fb9f3a\"],[0.8888888888888888,\"#fdca26\"],[1.0,\"#f0f921\"]]}],\"heatmapgl\":[{\"type\":\"heatmapgl\",\"colorbar\":{\"outlinewidth\":0,\"ticks\":\"\"},\"colorscale\":[[0.0,\"#0d0887\"],[0.1111111111111111,\"#46039f\"],[0.2222222222222222,\"#7201a8\"],[0.3333333333333333,\"#9c179e\"],[0.4444444444444444,\"#bd3786\"],[0.5555555555555556,\"#d8576b\"],[0.6666666666666666,\"#ed7953\"],[0.7777777777777778,\"#fb9f3a\"],[0.8888888888888888,\"#fdca26\"],[1.0,\"#f0f921\"]]}],\"contourcarpet\":[{\"type\":\"contourcarpet\",\"colorbar\":{\"outlinewidth\":0,\"ticks\":\"\"}}],\"contour\":[{\"type\":\"contour\",\"colorbar\":{\"outlinewidth\":0,\"ticks\":\"\"},\"colorscale\":[[0.0,\"#0d0887\"],[0.1111111111111111,\"#46039f\"],[0.2222222222222222,\"#7201a8\"],[0.3333333333333333,\"#9c179e\"],[0.4444444444444444,\"#bd3786\"],[0.5555555555555556,\"#d8576b\"],[0.6666666666666666,\"#ed7953\"],[0.7777777777777778,\"#fb9f3a\"],[0.8888888888888888,\"#fdca26\"],[1.0,\"#f0f921\"]]}],\"surface\":[{\"type\":\"surface\",\"colorbar\":{\"outlinewidth\":0,\"ticks\":\"\"},\"colorscale\":[[0.0,\"#0d0887\"],[0.1111111111111111,\"#46039f\"],[0.2222222222222222,\"#7201a8\"],[0.3333333333333333,\"#9c179e\"],[0.4444444444444444,\"#bd3786\"],[0.5555555555555556,\"#d8576b\"],[0.6666666666666666,\"#ed7953\"],[0.7777777777777778,\"#fb9f3a\"],[0.8888888888888888,\"#fdca26\"],[1.0,\"#f0f921\"]]}],\"mesh3d\":[{\"type\":\"mesh3d\",\"colorbar\":{\"outlinewidth\":0,\"ticks\":\"\"}}],\"scatter\":[{\"fillpattern\":{\"fillmode\":\"overlay\",\"size\":10,\"solidity\":0.2},\"type\":\"scatter\"}],\"parcoords\":[{\"type\":\"parcoords\",\"line\":{\"colorbar\":{\"outlinewidth\":0,\"ticks\":\"\"}}}],\"scatterpolargl\":[{\"type\":\"scatterpolargl\",\"marker\":{\"colorbar\":{\"outlinewidth\":0,\"ticks\":\"\"}}}],\"bar\":[{\"error_x\":{\"color\":\"#2a3f5f\"},\"error_y\":{\"color\":\"#2a3f5f\"},\"marker\":{\"line\":{\"color\":\"#E5ECF6\",\"width\":0.5},\"pattern\":{\"fillmode\":\"overlay\",\"size\":10,\"solidity\":0.2}},\"type\":\"bar\"}],\"scattergeo\":[{\"type\":\"scattergeo\",\"marker\":{\"colorbar\":{\"outlinewidth\":0,\"ticks\":\"\"}}}],\"scatterpolar\":[{\"type\":\"scatterpolar\",\"marker\":{\"colorbar\":{\"outlinewidth\":0,\"ticks\":\"\"}}}],\"histogram\":[{\"marker\":{\"pattern\":{\"fillmode\":\"overlay\",\"size\":10,\"solidity\":0.2}},\"type\":\"histogram\"}],\"scattergl\":[{\"type\":\"scattergl\",\"marker\":{\"colorbar\":{\"outlinewidth\":0,\"ticks\":\"\"}}}],\"scatter3d\":[{\"type\":\"scatter3d\",\"line\":{\"colorbar\":{\"outlinewidth\":0,\"ticks\":\"\"}},\"marker\":{\"colorbar\":{\"outlinewidth\":0,\"ticks\":\"\"}}}],\"scattermapbox\":[{\"type\":\"scattermapbox\",\"marker\":{\"colorbar\":{\"outlinewidth\":0,\"ticks\":\"\"}}}],\"scatterternary\":[{\"type\":\"scatterternary\",\"marker\":{\"colorbar\":{\"outlinewidth\":0,\"ticks\":\"\"}}}],\"scattercarpet\":[{\"type\":\"scattercarpet\",\"marker\":{\"colorbar\":{\"outlinewidth\":0,\"ticks\":\"\"}}}],\"carpet\":[{\"aaxis\":{\"endlinecolor\":\"#2a3f5f\",\"gridcolor\":\"white\",\"linecolor\":\"white\",\"minorgridcolor\":\"white\",\"startlinecolor\":\"#2a3f5f\"},\"baxis\":{\"endlinecolor\":\"#2a3f5f\",\"gridcolor\":\"white\",\"linecolor\":\"white\",\"minorgridcolor\":\"white\",\"startlinecolor\":\"#2a3f5f\"},\"type\":\"carpet\"}],\"table\":[{\"cells\":{\"fill\":{\"color\":\"#EBF0F8\"},\"line\":{\"color\":\"white\"}},\"header\":{\"fill\":{\"color\":\"#C8D4E3\"},\"line\":{\"color\":\"white\"}},\"type\":\"table\"}],\"barpolar\":[{\"marker\":{\"line\":{\"color\":\"#E5ECF6\",\"width\":0.5},\"pattern\":{\"fillmode\":\"overlay\",\"size\":10,\"solidity\":0.2}},\"type\":\"barpolar\"}],\"pie\":[{\"automargin\":true,\"type\":\"pie\"}]},\"layout\":{\"autotypenumbers\":\"strict\",\"colorway\":[\"#636efa\",\"#EF553B\",\"#00cc96\",\"#ab63fa\",\"#FFA15A\",\"#19d3f3\",\"#FF6692\",\"#B6E880\",\"#FF97FF\",\"#FECB52\"],\"font\":{\"color\":\"#2a3f5f\"},\"hovermode\":\"closest\",\"hoverlabel\":{\"align\":\"left\"},\"paper_bgcolor\":\"white\",\"plot_bgcolor\":\"#E5ECF6\",\"polar\":{\"bgcolor\":\"#E5ECF6\",\"angularaxis\":{\"gridcolor\":\"white\",\"linecolor\":\"white\",\"ticks\":\"\"},\"radialaxis\":{\"gridcolor\":\"white\",\"linecolor\":\"white\",\"ticks\":\"\"}},\"ternary\":{\"bgcolor\":\"#E5ECF6\",\"aaxis\":{\"gridcolor\":\"white\",\"linecolor\":\"white\",\"ticks\":\"\"},\"baxis\":{\"gridcolor\":\"white\",\"linecolor\":\"white\",\"ticks\":\"\"},\"caxis\":{\"gridcolor\":\"white\",\"linecolor\":\"white\",\"ticks\":\"\"}},\"coloraxis\":{\"colorbar\":{\"outlinewidth\":0,\"ticks\":\"\"}},\"colorscale\":{\"sequential\":[[0.0,\"#0d0887\"],[0.1111111111111111,\"#46039f\"],[0.2222222222222222,\"#7201a8\"],[0.3333333333333333,\"#9c179e\"],[0.4444444444444444,\"#bd3786\"],[0.5555555555555556,\"#d8576b\"],[0.6666666666666666,\"#ed7953\"],[0.7777777777777778,\"#fb9f3a\"],[0.8888888888888888,\"#fdca26\"],[1.0,\"#f0f921\"]],\"sequentialminus\":[[0.0,\"#0d0887\"],[0.1111111111111111,\"#46039f\"],[0.2222222222222222,\"#7201a8\"],[0.3333333333333333,\"#9c179e\"],[0.4444444444444444,\"#bd3786\"],[0.5555555555555556,\"#d8576b\"],[0.6666666666666666,\"#ed7953\"],[0.7777777777777778,\"#fb9f3a\"],[0.8888888888888888,\"#fdca26\"],[1.0,\"#f0f921\"]],\"diverging\":[[0,\"#8e0152\"],[0.1,\"#c51b7d\"],[0.2,\"#de77ae\"],[0.3,\"#f1b6da\"],[0.4,\"#fde0ef\"],[0.5,\"#f7f7f7\"],[0.6,\"#e6f5d0\"],[0.7,\"#b8e186\"],[0.8,\"#7fbc41\"],[0.9,\"#4d9221\"],[1,\"#276419\"]]},\"xaxis\":{\"gridcolor\":\"white\",\"linecolor\":\"white\",\"ticks\":\"\",\"title\":{\"standoff\":15},\"zerolinecolor\":\"white\",\"automargin\":true,\"zerolinewidth\":2},\"yaxis\":{\"gridcolor\":\"white\",\"linecolor\":\"white\",\"ticks\":\"\",\"title\":{\"standoff\":15},\"zerolinecolor\":\"white\",\"automargin\":true,\"zerolinewidth\":2},\"scene\":{\"xaxis\":{\"backgroundcolor\":\"#E5ECF6\",\"gridcolor\":\"white\",\"linecolor\":\"white\",\"showbackground\":true,\"ticks\":\"\",\"zerolinecolor\":\"white\",\"gridwidth\":2},\"yaxis\":{\"backgroundcolor\":\"#E5ECF6\",\"gridcolor\":\"white\",\"linecolor\":\"white\",\"showbackground\":true,\"ticks\":\"\",\"zerolinecolor\":\"white\",\"gridwidth\":2},\"zaxis\":{\"backgroundcolor\":\"#E5ECF6\",\"gridcolor\":\"white\",\"linecolor\":\"white\",\"showbackground\":true,\"ticks\":\"\",\"zerolinecolor\":\"white\",\"gridwidth\":2}},\"shapedefaults\":{\"line\":{\"color\":\"#2a3f5f\"}},\"annotationdefaults\":{\"arrowcolor\":\"#2a3f5f\",\"arrowhead\":0,\"arrowwidth\":1},\"geo\":{\"bgcolor\":\"white\",\"landcolor\":\"#E5ECF6\",\"subunitcolor\":\"white\",\"showland\":true,\"showlakes\":true,\"lakecolor\":\"white\"},\"title\":{\"x\":0.05},\"mapbox\":{\"style\":\"light\"}}},\"xaxis\":{\"anchor\":\"y\",\"domain\":[0.0,1.0],\"title\":{\"text\":\"Release Year\"}},\"yaxis\":{\"anchor\":\"x\",\"domain\":[0.0,1.0],\"title\":{\"text\":\"The number of Movies/TV Shows\"}},\"legend\":{\"title\":{\"text\":\"variable\"},\"tracegroupgap\":0},\"title\":{\"text\":\"The number of Movies/TV Shows for each year acording to Top 5 Movies/TV Shows cast members\"}},                        {\"responsive\": true}                    ).then(function(){\n",
       "                            \n",
       "var gd = document.getElementById('f3d0706a-5001-4523-a3c6-9078d2f1689f');\n",
       "var x = new MutationObserver(function (mutations, observer) {{\n",
       "        var display = window.getComputedStyle(gd).display;\n",
       "        if (!display || display === 'none') {{\n",
       "            console.log([gd, 'removed!']);\n",
       "            Plotly.purge(gd);\n",
       "            observer.disconnect();\n",
       "        }}\n",
       "}});\n",
       "\n",
       "// Listen for the removal of the full notebook cells\n",
       "var notebookContainer = gd.closest('#notebook-container');\n",
       "if (notebookContainer) {{\n",
       "    x.observe(notebookContainer, {childList: true});\n",
       "}}\n",
       "\n",
       "// Listen for the clearing of the current output cell\n",
       "var outputEl = gd.closest('.output');\n",
       "if (outputEl) {{\n",
       "    x.observe(outputEl, {childList: true});\n",
       "}}\n",
       "\n",
       "                        })                };                });            </script>        </div>"
      ]
     },
     "metadata": {},
     "output_type": "display_data"
    }
   ],
   "source": [
    "data=pd.DataFrame(dic,index=range(0,x+1)).sort_values('release_year',ascending=False)\n",
    "data=data.reset_index(drop=True)\n",
    "data.drop('type',axis=1,inplace=True)\n",
    "data=data.groupby('release_year').sum()\n",
    "data=data.reset_index()\n",
    "\n",
    "fig = px.line(data, x = \"release_year\",y=data.columns[1:5],title ='The number of Movies/TV Shows for each year acording to Top 5 Movies/TV Shows cast members',\n",
    "              labels={'release_year':'Release Year','value':'The number of Movies/TV Shows'})\n",
    "fig.show()"
   ]
  },
  {
   "cell_type": "markdown",
   "id": "b5ae088a",
   "metadata": {
    "papermill": {
     "duration": 0.033502,
     "end_time": "2022-10-01T12:18:12.287282",
     "exception": false,
     "start_time": "2022-10-01T12:18:12.253780",
     "status": "completed"
    },
    "tags": []
   },
   "source": [
    ">* **Anupam Kher : He managed to work as a director in 43 Movies/TV Shows from 1990 to 2019, and he is the most participating cast member in  Movies/TV Shows in our Dataset**\n",
    ">* **Shah Rukh Khan : He managed to work as a cast member in 35 Movies/TV Shows from 1992 to 2019**"
   ]
  },
  {
   "cell_type": "raw",
   "id": "2ea6f007",
   "metadata": {
    "papermill": {
     "duration": 0.033633,
     "end_time": "2022-10-01T12:18:12.355628",
     "exception": false,
     "start_time": "2022-10-01T12:18:12.321995",
     "status": "completed"
    },
    "tags": []
   },
   "source": [
    "li=[]\n",
    "for x in df[df['cast'].notna()].index:\n",
    "    y=df.iloc[x]\n",
    "    data=y['cast'].split(',')\n",
    "    data=[x.strip() for x in data]\n",
    "    for i in data:\n",
    "        if i=='Shah Rukh Khan':\n",
    "            li.append(x)\n",
    "len(df.iloc[li])"
   ]
  },
  {
   "cell_type": "markdown",
   "id": "f3a4b8b4",
   "metadata": {
    "papermill": {
     "duration": 0.034075,
     "end_time": "2022-10-01T12:18:12.423510",
     "exception": false,
     "start_time": "2022-10-01T12:18:12.389435",
     "status": "completed"
    },
    "tags": []
   },
   "source": [
    "### Q9: Which one get more movies or TV shows?"
   ]
  },
  {
   "cell_type": "code",
   "execution_count": 42,
   "id": "8da093f6",
   "metadata": {
    "execution": {
     "iopub.execute_input": "2022-10-01T12:18:12.493566Z",
     "iopub.status.busy": "2022-10-01T12:18:12.492854Z",
     "iopub.status.idle": "2022-10-01T12:18:12.599381Z",
     "shell.execute_reply": "2022-10-01T12:18:12.598057Z"
    },
    "papermill": {
     "duration": 0.14486,
     "end_time": "2022-10-01T12:18:12.602511",
     "exception": false,
     "start_time": "2022-10-01T12:18:12.457651",
     "status": "completed"
    },
    "tags": []
   },
   "outputs": [
    {
     "data": {
      "image/png": "[encoded data removed]",
      "text/plain": [
       "<Figure size 1008x432 with 1 Axes>"
      ]
     },
     "metadata": {},
     "output_type": "display_data"
    }
   ],
   "source": [
    "data=df['type'].value_counts()\n",
    "labels=data.index\n",
    "#define Seaborn color palette to use\n",
    "colors = sns.color_palette('cubehelix_r')[:10]\n",
    "\n",
    "#create pie chart\n",
    "f, ax = plt.subplots(figsize=(14, 6))\n",
    "\n",
    "plt.pie(data, labels = labels, colors = colors,autopct='%1.2f%%')\n",
    "plt.show()"
   ]
  },
  {
   "cell_type": "markdown",
   "id": "ee87ec70",
   "metadata": {
    "papermill": {
     "duration": 0.043115,
     "end_time": "2022-10-01T12:18:12.701899",
     "exception": false,
     "start_time": "2022-10-01T12:18:12.658784",
     "status": "completed"
    },
    "tags": []
   },
   "source": [
    ">* **From the figure, we notice that the number of Movies doubles the number of TV Shows, and this shows the extent of the investment in this field due to its characteristics over the TV Shows and also reflects the extent of interest in them**"
   ]
  },
  {
   "cell_type": "markdown",
   "id": "4f2a61ee",
   "metadata": {
    "papermill": {
     "duration": 0.034091,
     "end_time": "2022-10-01T12:18:12.770477",
     "exception": false,
     "start_time": "2022-10-01T12:18:12.736386",
     "status": "completed"
    },
    "tags": []
   },
   "source": [
    "### Q10: What is the type of rating that have the highest number?"
   ]
  },
  {
   "cell_type": "code",
   "execution_count": 43,
   "id": "93f5f54f",
   "metadata": {
    "execution": {
     "iopub.execute_input": "2022-10-01T12:18:12.840153Z",
     "iopub.status.busy": "2022-10-01T12:18:12.839748Z",
     "iopub.status.idle": "2022-10-01T12:18:13.173379Z",
     "shell.execute_reply": "2022-10-01T12:18:13.172219Z"
    },
    "papermill": {
     "duration": 0.37176,
     "end_time": "2022-10-01T12:18:13.176262",
     "exception": false,
     "start_time": "2022-10-01T12:18:12.804502",
     "status": "completed"
    },
    "tags": []
   },
   "outputs": [
    {
     "data": {
      "image/png": "[encoded data removed]",
      "text/plain": [
       "<Figure size 1080x432 with 1 Axes>"
      ]
     },
     "metadata": {},
     "output_type": "display_data"
    }
   ],
   "source": [
    "data=(df['rating'].dropna()).value_counts()\n",
    "# create plot\n",
    "f, ax = plt.subplots(figsize=(15, 6))\n",
    "sns.set(style='whitegrid')\n",
    "sns.barplot(x=data.index,y=(data.values),palette='gnuplot2',errwidth=0)\n",
    "ax.set(title='The number of Movies/TV Shows with Rating', ylabel='count',xlabel='Rating')\n",
    "plt.show()"
   ]
  },
  {
   "cell_type": "markdown",
   "id": "17912804",
   "metadata": {
    "papermill": {
     "duration": 0.035416,
     "end_time": "2022-10-01T12:18:13.246558",
     "exception": false,
     "start_time": "2022-10-01T12:18:13.211142",
     "status": "completed"
    },
    "tags": []
   },
   "source": [
    ">* **From the figure, we notice that most Movies/TV Shows have TV-MA rating**"
   ]
  },
  {
   "cell_type": "markdown",
   "id": "9ff50c5e",
   "metadata": {
    "papermill": {
     "duration": 0.035231,
     "end_time": "2022-10-01T12:18:13.318105",
     "exception": false,
     "start_time": "2022-10-01T12:18:13.282874",
     "status": "completed"
    },
    "tags": []
   },
   "source": [
    "## Part 4: Fill NaN Values for Every columns."
   ]
  },
  {
   "cell_type": "code",
   "execution_count": 44,
   "id": "6232abfc",
   "metadata": {
    "execution": {
     "iopub.execute_input": "2022-10-01T12:18:13.390676Z",
     "iopub.status.busy": "2022-10-01T12:18:13.390299Z",
     "iopub.status.idle": "2022-10-01T12:18:13.396379Z",
     "shell.execute_reply": "2022-10-01T12:18:13.395412Z"
    },
    "papermill": {
     "duration": 0.044851,
     "end_time": "2022-10-01T12:18:13.398531",
     "exception": false,
     "start_time": "2022-10-01T12:18:13.353680",
     "status": "completed"
    },
    "tags": []
   },
   "outputs": [],
   "source": [
    "df_=df.copy()"
   ]
  },
  {
   "cell_type": "code",
   "execution_count": 45,
   "id": "9b61cf90",
   "metadata": {
    "execution": {
     "iopub.execute_input": "2022-10-01T12:18:13.471232Z",
     "iopub.status.busy": "2022-10-01T12:18:13.470829Z",
     "iopub.status.idle": "2022-10-01T12:18:13.485328Z",
     "shell.execute_reply": "2022-10-01T12:18:13.484389Z"
    },
    "papermill": {
     "duration": 0.052959,
     "end_time": "2022-10-01T12:18:13.487481",
     "exception": false,
     "start_time": "2022-10-01T12:18:13.434522",
     "status": "completed"
    },
    "tags": []
   },
   "outputs": [
    {
     "data": {
      "text/plain": [
       "director      2634\n",
       "cast           825\n",
       "country        831\n",
       "date_added      10\n",
       "rating           4\n",
       "duration         3\n",
       "dtype: int64"
      ]
     },
     "execution_count": 45,
     "metadata": {},
     "output_type": "execute_result"
    }
   ],
   "source": [
    "missing_columns=df.isnull().sum()\n",
    "missing_columns[missing_columns>0]"
   ]
  },
  {
   "cell_type": "markdown",
   "id": "93f52315",
   "metadata": {
    "papermill": {
     "duration": 0.035217,
     "end_time": "2022-10-01T12:18:13.559071",
     "exception": false,
     "start_time": "2022-10-01T12:18:13.523854",
     "status": "completed"
    },
    "tags": []
   },
   "source": [
    "### 1. director"
   ]
  },
  {
   "cell_type": "code",
   "execution_count": 46,
   "id": "acba09ee",
   "metadata": {
    "execution": {
     "iopub.execute_input": "2022-10-01T12:18:13.633050Z",
     "iopub.status.busy": "2022-10-01T12:18:13.632339Z",
     "iopub.status.idle": "2022-10-01T12:18:32.190747Z",
     "shell.execute_reply": "2022-10-01T12:18:32.189632Z"
    },
    "papermill": {
     "duration": 18.598051,
     "end_time": "2022-10-01T12:18:32.193417",
     "exception": false,
     "start_time": "2022-10-01T12:18:13.595366",
     "status": "completed"
    },
    "tags": []
   },
   "outputs": [],
   "source": [
    "def get_director(row):\n",
    "    if pd.isnull(row['director']):\n",
    "        year=row['release_year']\n",
    "        year_type=row['type']\n",
    "        data_year=df[df['director'].notnull()]\n",
    "        data_year=data_year[data_year['release_year'].isin([year+1,year-1,year])]\n",
    "        data_year1=data_year[(data_year['type']==year_type)]\n",
    "        \n",
    "        if pd.notnull(row['country']):\n",
    "            country=row['country']\n",
    "            split_country=country.split(',')\n",
    "            split_country=[x.strip() for x in split_country]\n",
    "            split_country.append(country.strip())\n",
    "            split_country=list(set(split_country))\n",
    "            data_year=data_year1[data_year1['country'].isin(split_country)] \n",
    "            if len(data_year)==0:\n",
    "                data_year=data_year1\n",
    "                \n",
    "        data_year=pd.DataFrame(data_year['director'].value_counts())\n",
    "        data_year.rename(columns = {'director':'count'}, inplace = True)\n",
    "        data_year.reset_index(inplace=True)\n",
    "        data_year=(data_year.sort_values(by='count',ascending=False)).head()\n",
    "        try:\n",
    "            random_sample=np.random.choice(data_year['index'],1)\n",
    "            return random_sample[0]\n",
    "        except:\n",
    "            random_sample=np.random.choice(df['director'].dropna(),1)\n",
    "            return random_sample[0]\n",
    "    else:\n",
    "        return row['director']\n",
    "df_['director']=df_.apply(get_director,axis=1)"
   ]
  },
  {
   "cell_type": "code",
   "execution_count": 47,
   "id": "d765eaf9",
   "metadata": {
    "execution": {
     "iopub.execute_input": "2022-10-01T12:18:32.267063Z",
     "iopub.status.busy": "2022-10-01T12:18:32.266465Z",
     "iopub.status.idle": "2022-10-01T12:18:32.279686Z",
     "shell.execute_reply": "2022-10-01T12:18:32.278612Z"
    },
    "papermill": {
     "duration": 0.05289,
     "end_time": "2022-10-01T12:18:32.282071",
     "exception": false,
     "start_time": "2022-10-01T12:18:32.229181",
     "status": "completed"
    },
    "tags": []
   },
   "outputs": [
    {
     "data": {
      "text/plain": [
       "0"
      ]
     },
     "execution_count": 47,
     "metadata": {},
     "output_type": "execute_result"
    }
   ],
   "source": [
    "df_.isnull().sum()['director']"
   ]
  },
  {
   "cell_type": "markdown",
   "id": "13362482",
   "metadata": {
    "papermill": {
     "duration": 0.036111,
     "end_time": "2022-10-01T12:18:32.354322",
     "exception": false,
     "start_time": "2022-10-01T12:18:32.318211",
     "status": "completed"
    },
    "tags": []
   },
   "source": [
    "### 2. cast"
   ]
  },
  {
   "cell_type": "code",
   "execution_count": 48,
   "id": "6149b42a",
   "metadata": {
    "execution": {
     "iopub.execute_input": "2022-10-01T12:18:32.429277Z",
     "iopub.status.busy": "2022-10-01T12:18:32.428535Z",
     "iopub.status.idle": "2022-10-01T12:18:39.165670Z",
     "shell.execute_reply": "2022-10-01T12:18:39.164498Z"
    },
    "papermill": {
     "duration": 6.778382,
     "end_time": "2022-10-01T12:18:39.168423",
     "exception": false,
     "start_time": "2022-10-01T12:18:32.390041",
     "status": "completed"
    },
    "tags": []
   },
   "outputs": [],
   "source": [
    "def get_cast(row):\n",
    "    if pd.isnull(row['cast']):\n",
    "        year=row['release_year']\n",
    "        year_type=row['type']\n",
    "        data_year=df[df['cast'].notnull()]\n",
    "        data_year=data_year[data_year['release_year'].isin([year+1,year-1,year])]\n",
    "        data_year1=data_year[(data_year['type']==year_type)]\n",
    "        \n",
    "        if pd.notnull(row['country']):\n",
    "            country=row['country']\n",
    "            split_country=country.split(',')\n",
    "            split_country=[x.strip() for x in split_country]\n",
    "            split_country.append(country.strip())\n",
    "            split_country=list(set(split_country))\n",
    "            data_year=data_year1[data_year1['country'].isin(split_country)]\n",
    "            if len(data_year)==0:\n",
    "                data_year=data_year1\n",
    "                \n",
    "        data_year=pd.DataFrame(data_year['cast'].value_counts())\n",
    "        data_year.rename(columns = {'cast':'count'}, inplace = True)\n",
    "        data_year.reset_index(inplace=True)\n",
    "        data_year=(data_year.sort_values(by='count',ascending=False)).head()             \n",
    "        try:\n",
    "            random_sample=np.random.choice(data_year['index'],1) \n",
    "            return random_sample[0]\n",
    "        except:\n",
    "            random_sample=np.random.choice(df['cast'].dropna(),1)\n",
    "            return random_sample[0]\n",
    "    else:\n",
    "        return row['cast']\n",
    "df_['cast']=df_.apply(get_cast,axis=1)"
   ]
  },
  {
   "cell_type": "code",
   "execution_count": 49,
   "id": "425daca9",
   "metadata": {
    "execution": {
     "iopub.execute_input": "2022-10-01T12:18:39.242323Z",
     "iopub.status.busy": "2022-10-01T12:18:39.241868Z",
     "iopub.status.idle": "2022-10-01T12:18:39.255343Z",
     "shell.execute_reply": "2022-10-01T12:18:39.254516Z"
    },
    "papermill": {
     "duration": 0.052831,
     "end_time": "2022-10-01T12:18:39.257466",
     "exception": false,
     "start_time": "2022-10-01T12:18:39.204635",
     "status": "completed"
    },
    "tags": []
   },
   "outputs": [
    {
     "data": {
      "text/plain": [
       "0"
      ]
     },
     "execution_count": 49,
     "metadata": {},
     "output_type": "execute_result"
    }
   ],
   "source": [
    "df_.isnull().sum()['cast']"
   ]
  },
  {
   "cell_type": "markdown",
   "id": "be9c0f67",
   "metadata": {
    "papermill": {
     "duration": 0.03629,
     "end_time": "2022-10-01T12:18:39.330294",
     "exception": false,
     "start_time": "2022-10-01T12:18:39.294004",
     "status": "completed"
    },
    "tags": []
   },
   "source": [
    "### 3. date_added"
   ]
  },
  {
   "cell_type": "code",
   "execution_count": 50,
   "id": "f7b06a61",
   "metadata": {
    "execution": {
     "iopub.execute_input": "2022-10-01T12:18:39.404387Z",
     "iopub.status.busy": "2022-10-01T12:18:39.403603Z",
     "iopub.status.idle": "2022-10-01T12:18:39.412893Z",
     "shell.execute_reply": "2022-10-01T12:18:39.411759Z"
    },
    "papermill": {
     "duration": 0.049059,
     "end_time": "2022-10-01T12:18:39.415501",
     "exception": false,
     "start_time": "2022-10-01T12:18:39.366442",
     "status": "completed"
    },
    "tags": []
   },
   "outputs": [],
   "source": [
    "df_['date_added']= df_['date_added'].fillna(method=\"ffill\")"
   ]
  },
  {
   "cell_type": "code",
   "execution_count": 51,
   "id": "0596ae9b",
   "metadata": {
    "execution": {
     "iopub.execute_input": "2022-10-01T12:18:39.489626Z",
     "iopub.status.busy": "2022-10-01T12:18:39.489218Z",
     "iopub.status.idle": "2022-10-01T12:18:39.502513Z",
     "shell.execute_reply": "2022-10-01T12:18:39.501673Z"
    },
    "papermill": {
     "duration": 0.052887,
     "end_time": "2022-10-01T12:18:39.504634",
     "exception": false,
     "start_time": "2022-10-01T12:18:39.451747",
     "status": "completed"
    },
    "tags": []
   },
   "outputs": [
    {
     "data": {
      "text/plain": [
       "0"
      ]
     },
     "execution_count": 51,
     "metadata": {},
     "output_type": "execute_result"
    }
   ],
   "source": [
    "df_.isnull().sum()['date_added']"
   ]
  },
  {
   "cell_type": "markdown",
   "id": "c54850c9",
   "metadata": {
    "papermill": {
     "duration": 0.036084,
     "end_time": "2022-10-01T12:18:39.577455",
     "exception": false,
     "start_time": "2022-10-01T12:18:39.541371",
     "status": "completed"
    },
    "tags": []
   },
   "source": [
    "### 4. country"
   ]
  },
  {
   "cell_type": "code",
   "execution_count": 52,
   "id": "9b1f6331",
   "metadata": {
    "execution": {
     "iopub.execute_input": "2022-10-01T12:18:39.652100Z",
     "iopub.status.busy": "2022-10-01T12:18:39.651449Z",
     "iopub.status.idle": "2022-10-01T12:18:39.670407Z",
     "shell.execute_reply": "2022-10-01T12:18:39.669205Z"
    },
    "papermill": {
     "duration": 0.059547,
     "end_time": "2022-10-01T12:18:39.673270",
     "exception": false,
     "start_time": "2022-10-01T12:18:39.613723",
     "status": "completed"
    },
    "tags": []
   },
   "outputs": [],
   "source": [
    "fill_list = df_['country'].dropna().tolist()\n",
    "df_['country'] = df_['country'].fillna(pd.Series(np.random.choice(fill_list , size = len(df_.index))))"
   ]
  },
  {
   "cell_type": "code",
   "execution_count": 53,
   "id": "2d9fd558",
   "metadata": {
    "execution": {
     "iopub.execute_input": "2022-10-01T12:18:39.748647Z",
     "iopub.status.busy": "2022-10-01T12:18:39.748241Z",
     "iopub.status.idle": "2022-10-01T12:18:39.762023Z",
     "shell.execute_reply": "2022-10-01T12:18:39.760811Z"
    },
    "papermill": {
     "duration": 0.054183,
     "end_time": "2022-10-01T12:18:39.764303",
     "exception": false,
     "start_time": "2022-10-01T12:18:39.710120",
     "status": "completed"
    },
    "tags": []
   },
   "outputs": [
    {
     "data": {
      "text/plain": [
       "0"
      ]
     },
     "execution_count": 53,
     "metadata": {},
     "output_type": "execute_result"
    }
   ],
   "source": [
    "df_.isnull().sum()['country']"
   ]
  },
  {
   "cell_type": "markdown",
   "id": "cfa252f3",
   "metadata": {
    "papermill": {
     "duration": 0.036087,
     "end_time": "2022-10-01T12:18:39.837193",
     "exception": false,
     "start_time": "2022-10-01T12:18:39.801106",
     "status": "completed"
    },
    "tags": []
   },
   "source": [
    "### 5. rating"
   ]
  },
  {
   "cell_type": "code",
   "execution_count": 54,
   "id": "c4b3e5cc",
   "metadata": {
    "execution": {
     "iopub.execute_input": "2022-10-01T12:18:39.975425Z",
     "iopub.status.busy": "2022-10-01T12:18:39.975003Z",
     "iopub.status.idle": "2022-10-01T12:18:39.986281Z",
     "shell.execute_reply": "2022-10-01T12:18:39.985294Z"
    },
    "papermill": {
     "duration": 0.051855,
     "end_time": "2022-10-01T12:18:39.988686",
     "exception": false,
     "start_time": "2022-10-01T12:18:39.936831",
     "status": "completed"
    },
    "tags": []
   },
   "outputs": [],
   "source": [
    "fill_list = df_['rating'].dropna().tolist()\n",
    "df_['rating'] = df_['rating'].fillna(pd.Series(np.random.choice(fill_list , size = len(df_.index))))"
   ]
  },
  {
   "cell_type": "code",
   "execution_count": 55,
   "id": "5483e4dd",
   "metadata": {
    "execution": {
     "iopub.execute_input": "2022-10-01T12:18:40.063996Z",
     "iopub.status.busy": "2022-10-01T12:18:40.063593Z",
     "iopub.status.idle": "2022-10-01T12:18:40.077617Z",
     "shell.execute_reply": "2022-10-01T12:18:40.076456Z"
    },
    "papermill": {
     "duration": 0.054908,
     "end_time": "2022-10-01T12:18:40.079971",
     "exception": false,
     "start_time": "2022-10-01T12:18:40.025063",
     "status": "completed"
    },
    "tags": []
   },
   "outputs": [
    {
     "data": {
      "text/plain": [
       "0"
      ]
     },
     "execution_count": 55,
     "metadata": {},
     "output_type": "execute_result"
    }
   ],
   "source": [
    "df_.isnull().sum()['rating']"
   ]
  },
  {
   "cell_type": "markdown",
   "id": "c0be2bc1",
   "metadata": {
    "papermill": {
     "duration": 0.036279,
     "end_time": "2022-10-01T12:18:40.152484",
     "exception": false,
     "start_time": "2022-10-01T12:18:40.116205",
     "status": "completed"
    },
    "tags": []
   },
   "source": [
    "### 6. duration"
   ]
  },
  {
   "cell_type": "code",
   "execution_count": 56,
   "id": "362ccb51",
   "metadata": {
    "execution": {
     "iopub.execute_input": "2022-10-01T12:18:40.226832Z",
     "iopub.status.busy": "2022-10-01T12:18:40.226106Z",
     "iopub.status.idle": "2022-10-01T12:18:40.236898Z",
     "shell.execute_reply": "2022-10-01T12:18:40.235878Z"
    },
    "papermill": {
     "duration": 0.050517,
     "end_time": "2022-10-01T12:18:40.239235",
     "exception": false,
     "start_time": "2022-10-01T12:18:40.188718",
     "status": "completed"
    },
    "tags": []
   },
   "outputs": [],
   "source": [
    "fill_list = df_['duration'].dropna().tolist()\n",
    "df_['duration'] = df_['duration'].fillna(pd.Series(np.random.choice(fill_list , size = len(df_.index))))"
   ]
  },
  {
   "cell_type": "code",
   "execution_count": 57,
   "id": "562015a6",
   "metadata": {
    "execution": {
     "iopub.execute_input": "2022-10-01T12:18:40.314619Z",
     "iopub.status.busy": "2022-10-01T12:18:40.314240Z",
     "iopub.status.idle": "2022-10-01T12:18:40.327532Z",
     "shell.execute_reply": "2022-10-01T12:18:40.326569Z"
    },
    "papermill": {
     "duration": 0.05417,
     "end_time": "2022-10-01T12:18:40.329596",
     "exception": false,
     "start_time": "2022-10-01T12:18:40.275426",
     "status": "completed"
    },
    "tags": []
   },
   "outputs": [
    {
     "data": {
      "text/plain": [
       "0"
      ]
     },
     "execution_count": 57,
     "metadata": {},
     "output_type": "execute_result"
    }
   ],
   "source": [
    "df_.isnull().sum()['duration']"
   ]
  },
  {
   "cell_type": "code",
   "execution_count": 58,
   "id": "3a6a52d0",
   "metadata": {
    "execution": {
     "iopub.execute_input": "2022-10-01T12:18:40.404562Z",
     "iopub.status.busy": "2022-10-01T12:18:40.403844Z",
     "iopub.status.idle": "2022-10-01T12:18:40.424917Z",
     "shell.execute_reply": "2022-10-01T12:18:40.424100Z"
    },
    "papermill": {
     "duration": 0.060912,
     "end_time": "2022-10-01T12:18:40.427033",
     "exception": false,
     "start_time": "2022-10-01T12:18:40.366121",
     "status": "completed"
    },
    "scrolled": true,
    "tags": []
   },
   "outputs": [
    {
     "data": {
      "text/html": [
       "<div>\n",
       "<style scoped>\n",
       "    .dataframe tbody tr th:only-of-type {\n",
       "        vertical-align: middle;\n",
       "    }\n",
       "\n",
       "    .dataframe tbody tr th {\n",
       "        vertical-align: top;\n",
       "    }\n",
       "\n",
       "    .dataframe thead th {\n",
       "        text-align: right;\n",
       "    }\n",
       "</style>\n",
       "<table border=\"1\" class=\"dataframe\">\n",
       "  <thead>\n",
       "    <tr style=\"text-align: right;\">\n",
       "      <th></th>\n",
       "      <th>show_id</th>\n",
       "      <th>type</th>\n",
       "      <th>title</th>\n",
       "      <th>director</th>\n",
       "      <th>cast</th>\n",
       "      <th>country</th>\n",
       "      <th>date_added</th>\n",
       "      <th>release_year</th>\n",
       "      <th>rating</th>\n",
       "      <th>duration</th>\n",
       "      <th>listed_in</th>\n",
       "      <th>description</th>\n",
       "    </tr>\n",
       "  </thead>\n",
       "  <tbody>\n",
       "    <tr>\n",
       "      <th>0</th>\n",
       "      <td>s1</td>\n",
       "      <td>Movie</td>\n",
       "      <td>Dick Johnson Is Dead</td>\n",
       "      <td>Kirsten Johnson</td>\n",
       "      <td>Kevin Hart</td>\n",
       "      <td>United States</td>\n",
       "      <td>2021-09-25</td>\n",
       "      <td>2020</td>\n",
       "      <td>PG-13</td>\n",
       "      <td>90 min</td>\n",
       "      <td>Documentaries</td>\n",
       "      <td>As her father nears the end of his life, filmm...</td>\n",
       "    </tr>\n",
       "    <tr>\n",
       "      <th>1</th>\n",
       "      <td>s2</td>\n",
       "      <td>TV Show</td>\n",
       "      <td>Blood &amp; Water</td>\n",
       "      <td>Kongkiat Komesiri</td>\n",
       "      <td>Ama Qamata, Khosi Ngema, Gail Mabalane, Thaban...</td>\n",
       "      <td>South Africa</td>\n",
       "      <td>2021-09-24</td>\n",
       "      <td>2021</td>\n",
       "      <td>TV-MA</td>\n",
       "      <td>2 Seasons</td>\n",
       "      <td>International TV Shows, TV Dramas, TV Mysteries</td>\n",
       "      <td>After crossing paths at a party, a Cape Town t...</td>\n",
       "    </tr>\n",
       "    <tr>\n",
       "      <th>2</th>\n",
       "      <td>s3</td>\n",
       "      <td>TV Show</td>\n",
       "      <td>Ganglands</td>\n",
       "      <td>Julien Leclercq</td>\n",
       "      <td>Sami Bouajila, Tracy Gotoas, Samuel Jouy, Nabi...</td>\n",
       "      <td>Mexico, United States</td>\n",
       "      <td>2021-09-24</td>\n",
       "      <td>2021</td>\n",
       "      <td>TV-MA</td>\n",
       "      <td>1 Season</td>\n",
       "      <td>Crime TV Shows, International TV Shows, TV Act...</td>\n",
       "      <td>To protect his family from a powerful drug lor...</td>\n",
       "    </tr>\n",
       "    <tr>\n",
       "      <th>3</th>\n",
       "      <td>s4</td>\n",
       "      <td>TV Show</td>\n",
       "      <td>Jailbirds New Orleans</td>\n",
       "      <td>Alex Woo, Stanley Moore</td>\n",
       "      <td>Aishwarya Rajesh, Vidhu, Surya Ganapathy, Madh...</td>\n",
       "      <td>Thailand</td>\n",
       "      <td>2021-09-24</td>\n",
       "      <td>2021</td>\n",
       "      <td>TV-MA</td>\n",
       "      <td>1 Season</td>\n",
       "      <td>Docuseries, Reality TV</td>\n",
       "      <td>Feuds, flirtations and toilet talk go down amo...</td>\n",
       "    </tr>\n",
       "    <tr>\n",
       "      <th>4</th>\n",
       "      <td>s5</td>\n",
       "      <td>TV Show</td>\n",
       "      <td>Kota Factory</td>\n",
       "      <td>Soumendra Padhi</td>\n",
       "      <td>Mayur More, Jitendra Kumar, Ranjan Raj, Alam K...</td>\n",
       "      <td>India</td>\n",
       "      <td>2021-09-24</td>\n",
       "      <td>2021</td>\n",
       "      <td>TV-MA</td>\n",
       "      <td>2 Seasons</td>\n",
       "      <td>International TV Shows, Romantic TV Shows, TV ...</td>\n",
       "      <td>In a city of coaching centers known to train I...</td>\n",
       "    </tr>\n",
       "    <tr>\n",
       "      <th>...</th>\n",
       "      <td>...</td>\n",
       "      <td>...</td>\n",
       "      <td>...</td>\n",
       "      <td>...</td>\n",
       "      <td>...</td>\n",
       "      <td>...</td>\n",
       "      <td>...</td>\n",
       "      <td>...</td>\n",
       "      <td>...</td>\n",
       "      <td>...</td>\n",
       "      <td>...</td>\n",
       "      <td>...</td>\n",
       "    </tr>\n",
       "    <tr>\n",
       "      <th>8802</th>\n",
       "      <td>s8803</td>\n",
       "      <td>Movie</td>\n",
       "      <td>Zodiac</td>\n",
       "      <td>David Fincher</td>\n",
       "      <td>Mark Ruffalo, Jake Gyllenhaal, Robert Downey J...</td>\n",
       "      <td>United States</td>\n",
       "      <td>2019-11-20</td>\n",
       "      <td>2007</td>\n",
       "      <td>R</td>\n",
       "      <td>158 min</td>\n",
       "      <td>Cult Movies, Dramas, Thrillers</td>\n",
       "      <td>A political cartoonist, a crime reporter and a...</td>\n",
       "    </tr>\n",
       "    <tr>\n",
       "      <th>8803</th>\n",
       "      <td>s8804</td>\n",
       "      <td>TV Show</td>\n",
       "      <td>Zombie Dumb</td>\n",
       "      <td>Marcus Raboy</td>\n",
       "      <td>Prabhas, Rana Daggubati, Anushka Shetty, Taman...</td>\n",
       "      <td>Indonesia</td>\n",
       "      <td>2019-07-01</td>\n",
       "      <td>2018</td>\n",
       "      <td>TV-Y7</td>\n",
       "      <td>2 Seasons</td>\n",
       "      <td>Kids' TV, Korean TV Shows, TV Comedies</td>\n",
       "      <td>While living alone in a spooky town, a young g...</td>\n",
       "    </tr>\n",
       "    <tr>\n",
       "      <th>8804</th>\n",
       "      <td>s8805</td>\n",
       "      <td>Movie</td>\n",
       "      <td>Zombieland</td>\n",
       "      <td>Ruben Fleischer</td>\n",
       "      <td>Jesse Eisenberg, Woody Harrelson, Emma Stone, ...</td>\n",
       "      <td>United States</td>\n",
       "      <td>2019-11-01</td>\n",
       "      <td>2009</td>\n",
       "      <td>R</td>\n",
       "      <td>88 min</td>\n",
       "      <td>Comedies, Horror Movies</td>\n",
       "      <td>Looking to survive in a world taken over by zo...</td>\n",
       "    </tr>\n",
       "    <tr>\n",
       "      <th>8805</th>\n",
       "      <td>s8806</td>\n",
       "      <td>Movie</td>\n",
       "      <td>Zoom</td>\n",
       "      <td>Peter Hewitt</td>\n",
       "      <td>Tim Allen, Courteney Cox, Chevy Chase, Kate Ma...</td>\n",
       "      <td>United States</td>\n",
       "      <td>2020-01-11</td>\n",
       "      <td>2006</td>\n",
       "      <td>PG</td>\n",
       "      <td>88 min</td>\n",
       "      <td>Children &amp; Family Movies, Comedies</td>\n",
       "      <td>Dragged from civilian life, a former superhero...</td>\n",
       "    </tr>\n",
       "    <tr>\n",
       "      <th>8806</th>\n",
       "      <td>s8807</td>\n",
       "      <td>Movie</td>\n",
       "      <td>Zubaan</td>\n",
       "      <td>Mozez Singh</td>\n",
       "      <td>Vicky Kaushal, Sarah-Jane Dias, Raaghav Chanan...</td>\n",
       "      <td>India</td>\n",
       "      <td>2019-03-02</td>\n",
       "      <td>2015</td>\n",
       "      <td>TV-14</td>\n",
       "      <td>111 min</td>\n",
       "      <td>Dramas, International Movies, Music &amp; Musicals</td>\n",
       "      <td>A scrappy but poor boy worms his way into a ty...</td>\n",
       "    </tr>\n",
       "  </tbody>\n",
       "</table>\n",
       "<p>8807 rows × 12 columns</p>\n",
       "</div>"
      ],
      "text/plain": [
       "     show_id     type                  title                 director  \\\n",
       "0         s1    Movie   Dick Johnson Is Dead          Kirsten Johnson   \n",
       "1         s2  TV Show          Blood & Water        Kongkiat Komesiri   \n",
       "2         s3  TV Show              Ganglands          Julien Leclercq   \n",
       "3         s4  TV Show  Jailbirds New Orleans  Alex Woo, Stanley Moore   \n",
       "4         s5  TV Show           Kota Factory          Soumendra Padhi   \n",
       "...      ...      ...                    ...                      ...   \n",
       "8802   s8803    Movie                 Zodiac            David Fincher   \n",
       "8803   s8804  TV Show            Zombie Dumb             Marcus Raboy   \n",
       "8804   s8805    Movie             Zombieland          Ruben Fleischer   \n",
       "8805   s8806    Movie                   Zoom             Peter Hewitt   \n",
       "8806   s8807    Movie                 Zubaan              Mozez Singh   \n",
       "\n",
       "                                                   cast  \\\n",
       "0                                            Kevin Hart   \n",
       "1     Ama Qamata, Khosi Ngema, Gail Mabalane, Thaban...   \n",
       "2     Sami Bouajila, Tracy Gotoas, Samuel Jouy, Nabi...   \n",
       "3     Aishwarya Rajesh, Vidhu, Surya Ganapathy, Madh...   \n",
       "4     Mayur More, Jitendra Kumar, Ranjan Raj, Alam K...   \n",
       "...                                                 ...   \n",
       "8802  Mark Ruffalo, Jake Gyllenhaal, Robert Downey J...   \n",
       "8803  Prabhas, Rana Daggubati, Anushka Shetty, Taman...   \n",
       "8804  Jesse Eisenberg, Woody Harrelson, Emma Stone, ...   \n",
       "8805  Tim Allen, Courteney Cox, Chevy Chase, Kate Ma...   \n",
       "8806  Vicky Kaushal, Sarah-Jane Dias, Raaghav Chanan...   \n",
       "\n",
       "                    country date_added  release_year rating   duration  \\\n",
       "0             United States 2021-09-25          2020  PG-13     90 min   \n",
       "1              South Africa 2021-09-24          2021  TV-MA  2 Seasons   \n",
       "2     Mexico, United States 2021-09-24          2021  TV-MA   1 Season   \n",
       "3                  Thailand 2021-09-24          2021  TV-MA   1 Season   \n",
       "4                     India 2021-09-24          2021  TV-MA  2 Seasons   \n",
       "...                     ...        ...           ...    ...        ...   \n",
       "8802          United States 2019-11-20          2007      R    158 min   \n",
       "8803              Indonesia 2019-07-01          2018  TV-Y7  2 Seasons   \n",
       "8804          United States 2019-11-01          2009      R     88 min   \n",
       "8805          United States 2020-01-11          2006     PG     88 min   \n",
       "8806                  India 2019-03-02          2015  TV-14    111 min   \n",
       "\n",
       "                                              listed_in  \\\n",
       "0                                         Documentaries   \n",
       "1       International TV Shows, TV Dramas, TV Mysteries   \n",
       "2     Crime TV Shows, International TV Shows, TV Act...   \n",
       "3                                Docuseries, Reality TV   \n",
       "4     International TV Shows, Romantic TV Shows, TV ...   \n",
       "...                                                 ...   \n",
       "8802                     Cult Movies, Dramas, Thrillers   \n",
       "8803             Kids' TV, Korean TV Shows, TV Comedies   \n",
       "8804                            Comedies, Horror Movies   \n",
       "8805                 Children & Family Movies, Comedies   \n",
       "8806     Dramas, International Movies, Music & Musicals   \n",
       "\n",
       "                                            description  \n",
       "0     As her father nears the end of his life, filmm...  \n",
       "1     After crossing paths at a party, a Cape Town t...  \n",
       "2     To protect his family from a powerful drug lor...  \n",
       "3     Feuds, flirtations and toilet talk go down amo...  \n",
       "4     In a city of coaching centers known to train I...  \n",
       "...                                                 ...  \n",
       "8802  A political cartoonist, a crime reporter and a...  \n",
       "8803  While living alone in a spooky town, a young g...  \n",
       "8804  Looking to survive in a world taken over by zo...  \n",
       "8805  Dragged from civilian life, a former superhero...  \n",
       "8806  A scrappy but poor boy worms his way into a ty...  \n",
       "\n",
       "[8807 rows x 12 columns]"
      ]
     },
     "execution_count": 58,
     "metadata": {},
     "output_type": "execute_result"
    }
   ],
   "source": [
    "df_"
   ]
  },
  {
   "cell_type": "markdown",
   "id": "a727784e",
   "metadata": {
    "papermill": {
     "duration": 0.035847,
     "end_time": "2022-10-01T12:18:40.499691",
     "exception": false,
     "start_time": "2022-10-01T12:18:40.463844",
     "status": "completed"
    },
    "tags": []
   },
   "source": [
    "## Part 5: time series modeling:\n",
    ">* **Visualize the time series**\n",
    ">* **Stationarize the series**\n",
    ">* **Plot ACF/PACF charts**\n",
    ">* **Build the ARIMA model**\n",
    ">* **Diagnostic the Model**\n",
    ">* **Make Predictions**"
   ]
  },
  {
   "cell_type": "markdown",
   "id": "a7bc2a12",
   "metadata": {
    "papermill": {
     "duration": 0.035944,
     "end_time": "2022-10-01T12:18:40.571872",
     "exception": false,
     "start_time": "2022-10-01T12:18:40.535928",
     "status": "completed"
    },
    "tags": []
   },
   "source": [
    "### Visualize the time series"
   ]
  },
  {
   "cell_type": "code",
   "execution_count": 59,
   "id": "2e41858b",
   "metadata": {
    "execution": {
     "iopub.execute_input": "2022-10-01T12:18:40.646320Z",
     "iopub.status.busy": "2022-10-01T12:18:40.645609Z",
     "iopub.status.idle": "2022-10-01T12:18:40.671770Z",
     "shell.execute_reply": "2022-10-01T12:18:40.670593Z"
    },
    "papermill": {
     "duration": 0.066071,
     "end_time": "2022-10-01T12:18:40.674088",
     "exception": false,
     "start_time": "2022-10-01T12:18:40.608017",
     "status": "completed"
    },
    "tags": []
   },
   "outputs": [
    {
     "data": {
      "text/html": [
       "<div>\n",
       "<style scoped>\n",
       "    .dataframe tbody tr th:only-of-type {\n",
       "        vertical-align: middle;\n",
       "    }\n",
       "\n",
       "    .dataframe tbody tr th {\n",
       "        vertical-align: top;\n",
       "    }\n",
       "\n",
       "    .dataframe thead th {\n",
       "        text-align: right;\n",
       "    }\n",
       "</style>\n",
       "<table border=\"1\" class=\"dataframe\">\n",
       "  <thead>\n",
       "    <tr style=\"text-align: right;\">\n",
       "      <th></th>\n",
       "      <th>value</th>\n",
       "    </tr>\n",
       "    <tr>\n",
       "      <th>date_added</th>\n",
       "      <th></th>\n",
       "    </tr>\n",
       "  </thead>\n",
       "  <tbody>\n",
       "    <tr>\n",
       "      <th>2008-01-31</th>\n",
       "      <td>1</td>\n",
       "    </tr>\n",
       "    <tr>\n",
       "      <th>2008-02-29</th>\n",
       "      <td>1</td>\n",
       "    </tr>\n",
       "    <tr>\n",
       "      <th>2008-03-31</th>\n",
       "      <td>0</td>\n",
       "    </tr>\n",
       "    <tr>\n",
       "      <th>2008-04-30</th>\n",
       "      <td>0</td>\n",
       "    </tr>\n",
       "    <tr>\n",
       "      <th>2008-05-31</th>\n",
       "      <td>0</td>\n",
       "    </tr>\n",
       "  </tbody>\n",
       "</table>\n",
       "</div>"
      ],
      "text/plain": [
       "            value\n",
       "date_added       \n",
       "2008-01-31      1\n",
       "2008-02-29      1\n",
       "2008-03-31      0\n",
       "2008-04-30      0\n",
       "2008-05-31      0"
      ]
     },
     "execution_count": 59,
     "metadata": {},
     "output_type": "execute_result"
    }
   ],
   "source": [
    "indexedDataset = df_.groupby(pd.Grouper(key='date_added', axis=0, freq='M'))[\"show_id\"].count()\n",
    "indexedDataset=indexedDataset.to_frame()\n",
    "indexedDataset = indexedDataset.rename({\"show_id\": \"value\"} , axis = 1)\n",
    "indexedDataset.head()"
   ]
  },
  {
   "cell_type": "code",
   "execution_count": 60,
   "id": "757b32e9",
   "metadata": {
    "execution": {
     "iopub.execute_input": "2022-10-01T12:18:40.749226Z",
     "iopub.status.busy": "2022-10-01T12:18:40.748810Z",
     "iopub.status.idle": "2022-10-01T12:18:40.761245Z",
     "shell.execute_reply": "2022-10-01T12:18:40.760030Z"
    },
    "papermill": {
     "duration": 0.054152,
     "end_time": "2022-10-01T12:18:40.764519",
     "exception": false,
     "start_time": "2022-10-01T12:18:40.710367",
     "status": "completed"
    },
    "tags": []
   },
   "outputs": [
    {
     "name": "stdout",
     "output_type": "stream",
     "text": [
      "<class 'pandas.core.frame.DataFrame'>\n",
      "DatetimeIndex: 165 entries, 2008-01-31 to 2021-09-30\n",
      "Freq: M\n",
      "Data columns (total 1 columns):\n",
      " #   Column  Non-Null Count  Dtype\n",
      "---  ------  --------------  -----\n",
      " 0   value   165 non-null    int64\n",
      "dtypes: int64(1)\n",
      "memory usage: 2.6 KB\n"
     ]
    }
   ],
   "source": [
    "indexedDataset.info()"
   ]
  },
  {
   "cell_type": "code",
   "execution_count": 61,
   "id": "cd1b8c3e",
   "metadata": {
    "execution": {
     "iopub.execute_input": "2022-10-01T12:18:40.839561Z",
     "iopub.status.busy": "2022-10-01T12:18:40.838762Z",
     "iopub.status.idle": "2022-10-01T12:18:40.899049Z",
     "shell.execute_reply": "2022-10-01T12:18:40.897896Z"
    },
    "papermill": {
     "duration": 0.100579,
     "end_time": "2022-10-01T12:18:40.901586",
     "exception": false,
     "start_time": "2022-10-01T12:18:40.801007",
     "status": "completed"
    },
    "tags": []
   },
   "outputs": [
    {
     "data": {
      "text/html": [
       "<div>                            <div id=\"f1b35236-dfd1-4499-bd7e-117b60524210\" class=\"plotly-graph-div\" style=\"height:525px; width:100%;\"></div>            <script type=\"text/javascript\">                require([\"plotly\"], function(Plotly) {                    window.PLOTLYENV=window.PLOTLYENV || {};                                    if (document.getElementById(\"f1b35236-dfd1-4499-bd7e-117b60524210\")) {                    Plotly.newPlot(                        \"f1b35236-dfd1-4499-bd7e-117b60524210\",                        [{\"hovertemplate\":\"Added Date=%{x}<br>The number of Movies/TV Shows=%{y}<extra></extra>\",\"legendgroup\":\"\",\"line\":{\"color\":\"#636efa\",\"dash\":\"solid\"},\"marker\":{\"symbol\":\"circle\"},\"mode\":\"lines\",\"name\":\"\",\"orientation\":\"v\",\"showlegend\":false,\"x\":[\"2008-01-31T00:00:00\",\"2008-02-29T00:00:00\",\"2008-03-31T00:00:00\",\"2008-04-30T00:00:00\",\"2008-05-31T00:00:00\",\"2008-06-30T00:00:00\",\"2008-07-31T00:00:00\",\"2008-08-31T00:00:00\",\"2008-09-30T00:00:00\",\"2008-10-31T00:00:00\",\"2008-11-30T00:00:00\",\"2008-12-31T00:00:00\",\"2009-01-31T00:00:00\",\"2009-02-28T00:00:00\",\"2009-03-31T00:00:00\",\"2009-04-30T00:00:00\",\"2009-05-31T00:00:00\",\"2009-06-30T00:00:00\",\"2009-07-31T00:00:00\",\"2009-08-31T00:00:00\",\"2009-09-30T00:00:00\",\"2009-10-31T00:00:00\",\"2009-11-30T00:00:00\",\"2009-12-31T00:00:00\",\"2010-01-31T00:00:00\",\"2010-02-28T00:00:00\",\"2010-03-31T00:00:00\",\"2010-04-30T00:00:00\",\"2010-05-31T00:00:00\",\"2010-06-30T00:00:00\",\"2010-07-31T00:00:00\",\"2010-08-31T00:00:00\",\"2010-09-30T00:00:00\",\"2010-10-31T00:00:00\",\"2010-11-30T00:00:00\",\"2010-12-31T00:00:00\",\"2011-01-31T00:00:00\",\"2011-02-28T00:00:00\",\"2011-03-31T00:00:00\",\"2011-04-30T00:00:00\",\"2011-05-31T00:00:00\",\"2011-06-30T00:00:00\",\"2011-07-31T00:00:00\",\"2011-08-31T00:00:00\",\"2011-09-30T00:00:00\",\"2011-10-31T00:00:00\",\"2011-11-30T00:00:00\",\"2011-12-31T00:00:00\",\"2012-01-31T00:00:00\",\"2012-02-29T00:00:00\",\"2012-03-31T00:00:00\",\"2012-04-30T00:00:00\",\"2012-05-31T00:00:00\",\"2012-06-30T00:00:00\",\"2012-07-31T00:00:00\",\"2012-08-31T00:00:00\",\"2012-09-30T00:00:00\",\"2012-10-31T00:00:00\",\"2012-11-30T00:00:00\",\"2012-12-31T00:00:00\",\"2013-01-31T00:00:00\",\"2013-02-28T00:00:00\",\"2013-03-31T00:00:00\",\"2013-04-30T00:00:00\",\"2013-05-31T00:00:00\",\"2013-06-30T00:00:00\",\"2013-07-31T00:00:00\",\"2013-08-31T00:00:00\",\"2013-09-30T00:00:00\",\"2013-10-31T00:00:00\",\"2013-11-30T00:00:00\",\"2013-12-31T00:00:00\",\"2014-01-31T00:00:00\",\"2014-02-28T00:00:00\",\"2014-03-31T00:00:00\",\"2014-04-30T00:00:00\",\"2014-05-31T00:00:00\",\"2014-06-30T00:00:00\",\"2014-07-31T00:00:00\",\"2014-08-31T00:00:00\",\"2014-09-30T00:00:00\",\"2014-10-31T00:00:00\",\"2014-11-30T00:00:00\",\"2014-12-31T00:00:00\",\"2015-01-31T00:00:00\",\"2015-02-28T00:00:00\",\"2015-03-31T00:00:00\",\"2015-04-30T00:00:00\",\"2015-05-31T00:00:00\",\"2015-06-30T00:00:00\",\"2015-07-31T00:00:00\",\"2015-08-31T00:00:00\",\"2015-09-30T00:00:00\",\"2015-10-31T00:00:00\",\"2015-11-30T00:00:00\",\"2015-12-31T00:00:00\",\"2016-01-31T00:00:00\",\"2016-02-29T00:00:00\",\"2016-03-31T00:00:00\",\"2016-04-30T00:00:00\",\"2016-05-31T00:00:00\",\"2016-06-30T00:00:00\",\"2016-07-31T00:00:00\",\"2016-08-31T00:00:00\",\"2016-09-30T00:00:00\",\"2016-10-31T00:00:00\",\"2016-11-30T00:00:00\",\"2016-12-31T00:00:00\",\"2017-01-31T00:00:00\",\"2017-02-28T00:00:00\",\"2017-03-31T00:00:00\",\"2017-04-30T00:00:00\",\"2017-05-31T00:00:00\",\"2017-06-30T00:00:00\",\"2017-07-31T00:00:00\",\"2017-08-31T00:00:00\",\"2017-09-30T00:00:00\",\"2017-10-31T00:00:00\",\"2017-11-30T00:00:00\",\"2017-12-31T00:00:00\",\"2018-01-31T00:00:00\",\"2018-02-28T00:00:00\",\"2018-03-31T00:00:00\",\"2018-04-30T00:00:00\",\"2018-05-31T00:00:00\",\"2018-06-30T00:00:00\",\"2018-07-31T00:00:00\",\"2018-08-31T00:00:00\",\"2018-09-30T00:00:00\",\"2018-10-31T00:00:00\",\"2018-11-30T00:00:00\",\"2018-12-31T00:00:00\",\"2019-01-31T00:00:00\",\"2019-02-28T00:00:00\",\"2019-03-31T00:00:00\",\"2019-04-30T00:00:00\",\"2019-05-31T00:00:00\",\"2019-06-30T00:00:00\",\"2019-07-31T00:00:00\",\"2019-08-31T00:00:00\",\"2019-09-30T00:00:00\",\"2019-10-31T00:00:00\",\"2019-11-30T00:00:00\",\"2019-12-31T00:00:00\",\"2020-01-31T00:00:00\",\"2020-02-29T00:00:00\",\"2020-03-31T00:00:00\",\"2020-04-30T00:00:00\",\"2020-05-31T00:00:00\",\"2020-06-30T00:00:00\",\"2020-07-31T00:00:00\",\"2020-08-31T00:00:00\",\"2020-09-30T00:00:00\",\"2020-10-31T00:00:00\",\"2020-11-30T00:00:00\",\"2020-12-31T00:00:00\",\"2021-01-31T00:00:00\",\"2021-02-28T00:00:00\",\"2021-03-31T00:00:00\",\"2021-04-30T00:00:00\",\"2021-05-31T00:00:00\",\"2021-06-30T00:00:00\",\"2021-07-31T00:00:00\",\"2021-08-31T00:00:00\",\"2021-09-30T00:00:00\"],\"xaxis\":\"x\",\"y\":[1,1,0,0,0,0,0,0,0,0,0,0,0,0,0,0,1,0,0,0,0,0,1,0,0,0,0,0,0,0,0,0,0,0,1,0,0,0,0,0,1,0,0,0,1,11,0,0,0,1,0,0,0,0,0,0,0,0,1,1,0,0,1,0,0,0,0,1,2,3,2,2,2,2,0,2,0,1,1,1,1,4,4,6,1,4,5,5,6,6,7,2,7,14,4,21,43,15,17,22,14,18,28,34,48,51,44,96,72,84,125,93,87,94,79,115,114,127,85,118,129,87,174,116,97,78,152,164,125,191,154,185,153,148,172,162,139,169,157,131,123,193,255,215,205,114,137,177,157,156,146,129,168,167,154,169,132,109,112,188,132,207,257,178,183],\"yaxis\":\"y\",\"type\":\"scatter\"}],                        {\"template\":{\"data\":{\"histogram2dcontour\":[{\"type\":\"histogram2dcontour\",\"colorbar\":{\"outlinewidth\":0,\"ticks\":\"\"},\"colorscale\":[[0.0,\"#0d0887\"],[0.1111111111111111,\"#46039f\"],[0.2222222222222222,\"#7201a8\"],[0.3333333333333333,\"#9c179e\"],[0.4444444444444444,\"#bd3786\"],[0.5555555555555556,\"#d8576b\"],[0.6666666666666666,\"#ed7953\"],[0.7777777777777778,\"#fb9f3a\"],[0.8888888888888888,\"#fdca26\"],[1.0,\"#f0f921\"]]}],\"choropleth\":[{\"type\":\"choropleth\",\"colorbar\":{\"outlinewidth\":0,\"ticks\":\"\"}}],\"histogram2d\":[{\"type\":\"histogram2d\",\"colorbar\":{\"outlinewidth\":0,\"ticks\":\"\"},\"colorscale\":[[0.0,\"#0d0887\"],[0.1111111111111111,\"#46039f\"],[0.2222222222222222,\"#7201a8\"],[0.3333333333333333,\"#9c179e\"],[0.4444444444444444,\"#bd3786\"],[0.5555555555555556,\"#d8576b\"],[0.6666666666666666,\"#ed7953\"],[0.7777777777777778,\"#fb9f3a\"],[0.8888888888888888,\"#fdca26\"],[1.0,\"#f0f921\"]]}],\"heatmap\":[{\"type\":\"heatmap\",\"colorbar\":{\"outlinewidth\":0,\"ticks\":\"\"},\"colorscale\":[[0.0,\"#0d0887\"],[0.1111111111111111,\"#46039f\"],[0.2222222222222222,\"#7201a8\"],[0.3333333333333333,\"#9c179e\"],[0.4444444444444444,\"#bd3786\"],[0.5555555555555556,\"#d8576b\"],[0.6666666666666666,\"#ed7953\"],[0.7777777777777778,\"#fb9f3a\"],[0.8888888888888888,\"#fdca26\"],[1.0,\"#f0f921\"]]}],\"heatmapgl\":[{\"type\":\"heatmapgl\",\"colorbar\":{\"outlinewidth\":0,\"ticks\":\"\"},\"colorscale\":[[0.0,\"#0d0887\"],[0.1111111111111111,\"#46039f\"],[0.2222222222222222,\"#7201a8\"],[0.3333333333333333,\"#9c179e\"],[0.4444444444444444,\"#bd3786\"],[0.5555555555555556,\"#d8576b\"],[0.6666666666666666,\"#ed7953\"],[0.7777777777777778,\"#fb9f3a\"],[0.8888888888888888,\"#fdca26\"],[1.0,\"#f0f921\"]]}],\"contourcarpet\":[{\"type\":\"contourcarpet\",\"colorbar\":{\"outlinewidth\":0,\"ticks\":\"\"}}],\"contour\":[{\"type\":\"contour\",\"colorbar\":{\"outlinewidth\":0,\"ticks\":\"\"},\"colorscale\":[[0.0,\"#0d0887\"],[0.1111111111111111,\"#46039f\"],[0.2222222222222222,\"#7201a8\"],[0.3333333333333333,\"#9c179e\"],[0.4444444444444444,\"#bd3786\"],[0.5555555555555556,\"#d8576b\"],[0.6666666666666666,\"#ed7953\"],[0.7777777777777778,\"#fb9f3a\"],[0.8888888888888888,\"#fdca26\"],[1.0,\"#f0f921\"]]}],\"surface\":[{\"type\":\"surface\",\"colorbar\":{\"outlinewidth\":0,\"ticks\":\"\"},\"colorscale\":[[0.0,\"#0d0887\"],[0.1111111111111111,\"#46039f\"],[0.2222222222222222,\"#7201a8\"],[0.3333333333333333,\"#9c179e\"],[0.4444444444444444,\"#bd3786\"],[0.5555555555555556,\"#d8576b\"],[0.6666666666666666,\"#ed7953\"],[0.7777777777777778,\"#fb9f3a\"],[0.8888888888888888,\"#fdca26\"],[1.0,\"#f0f921\"]]}],\"mesh3d\":[{\"type\":\"mesh3d\",\"colorbar\":{\"outlinewidth\":0,\"ticks\":\"\"}}],\"scatter\":[{\"fillpattern\":{\"fillmode\":\"overlay\",\"size\":10,\"solidity\":0.2},\"type\":\"scatter\"}],\"parcoords\":[{\"type\":\"parcoords\",\"line\":{\"colorbar\":{\"outlinewidth\":0,\"ticks\":\"\"}}}],\"scatterpolargl\":[{\"type\":\"scatterpolargl\",\"marker\":{\"colorbar\":{\"outlinewidth\":0,\"ticks\":\"\"}}}],\"bar\":[{\"error_x\":{\"color\":\"#2a3f5f\"},\"error_y\":{\"color\":\"#2a3f5f\"},\"marker\":{\"line\":{\"color\":\"#E5ECF6\",\"width\":0.5},\"pattern\":{\"fillmode\":\"overlay\",\"size\":10,\"solidity\":0.2}},\"type\":\"bar\"}],\"scattergeo\":[{\"type\":\"scattergeo\",\"marker\":{\"colorbar\":{\"outlinewidth\":0,\"ticks\":\"\"}}}],\"scatterpolar\":[{\"type\":\"scatterpolar\",\"marker\":{\"colorbar\":{\"outlinewidth\":0,\"ticks\":\"\"}}}],\"histogram\":[{\"marker\":{\"pattern\":{\"fillmode\":\"overlay\",\"size\":10,\"solidity\":0.2}},\"type\":\"histogram\"}],\"scattergl\":[{\"type\":\"scattergl\",\"marker\":{\"colorbar\":{\"outlinewidth\":0,\"ticks\":\"\"}}}],\"scatter3d\":[{\"type\":\"scatter3d\",\"line\":{\"colorbar\":{\"outlinewidth\":0,\"ticks\":\"\"}},\"marker\":{\"colorbar\":{\"outlinewidth\":0,\"ticks\":\"\"}}}],\"scattermapbox\":[{\"type\":\"scattermapbox\",\"marker\":{\"colorbar\":{\"outlinewidth\":0,\"ticks\":\"\"}}}],\"scatterternary\":[{\"type\":\"scatterternary\",\"marker\":{\"colorbar\":{\"outlinewidth\":0,\"ticks\":\"\"}}}],\"scattercarpet\":[{\"type\":\"scattercarpet\",\"marker\":{\"colorbar\":{\"outlinewidth\":0,\"ticks\":\"\"}}}],\"carpet\":[{\"aaxis\":{\"endlinecolor\":\"#2a3f5f\",\"gridcolor\":\"white\",\"linecolor\":\"white\",\"minorgridcolor\":\"white\",\"startlinecolor\":\"#2a3f5f\"},\"baxis\":{\"endlinecolor\":\"#2a3f5f\",\"gridcolor\":\"white\",\"linecolor\":\"white\",\"minorgridcolor\":\"white\",\"startlinecolor\":\"#2a3f5f\"},\"type\":\"carpet\"}],\"table\":[{\"cells\":{\"fill\":{\"color\":\"#EBF0F8\"},\"line\":{\"color\":\"white\"}},\"header\":{\"fill\":{\"color\":\"#C8D4E3\"},\"line\":{\"color\":\"white\"}},\"type\":\"table\"}],\"barpolar\":[{\"marker\":{\"line\":{\"color\":\"#E5ECF6\",\"width\":0.5},\"pattern\":{\"fillmode\":\"overlay\",\"size\":10,\"solidity\":0.2}},\"type\":\"barpolar\"}],\"pie\":[{\"automargin\":true,\"type\":\"pie\"}]},\"layout\":{\"autotypenumbers\":\"strict\",\"colorway\":[\"#636efa\",\"#EF553B\",\"#00cc96\",\"#ab63fa\",\"#FFA15A\",\"#19d3f3\",\"#FF6692\",\"#B6E880\",\"#FF97FF\",\"#FECB52\"],\"font\":{\"color\":\"#2a3f5f\"},\"hovermode\":\"closest\",\"hoverlabel\":{\"align\":\"left\"},\"paper_bgcolor\":\"white\",\"plot_bgcolor\":\"#E5ECF6\",\"polar\":{\"bgcolor\":\"#E5ECF6\",\"angularaxis\":{\"gridcolor\":\"white\",\"linecolor\":\"white\",\"ticks\":\"\"},\"radialaxis\":{\"gridcolor\":\"white\",\"linecolor\":\"white\",\"ticks\":\"\"}},\"ternary\":{\"bgcolor\":\"#E5ECF6\",\"aaxis\":{\"gridcolor\":\"white\",\"linecolor\":\"white\",\"ticks\":\"\"},\"baxis\":{\"gridcolor\":\"white\",\"linecolor\":\"white\",\"ticks\":\"\"},\"caxis\":{\"gridcolor\":\"white\",\"linecolor\":\"white\",\"ticks\":\"\"}},\"coloraxis\":{\"colorbar\":{\"outlinewidth\":0,\"ticks\":\"\"}},\"colorscale\":{\"sequential\":[[0.0,\"#0d0887\"],[0.1111111111111111,\"#46039f\"],[0.2222222222222222,\"#7201a8\"],[0.3333333333333333,\"#9c179e\"],[0.4444444444444444,\"#bd3786\"],[0.5555555555555556,\"#d8576b\"],[0.6666666666666666,\"#ed7953\"],[0.7777777777777778,\"#fb9f3a\"],[0.8888888888888888,\"#fdca26\"],[1.0,\"#f0f921\"]],\"sequentialminus\":[[0.0,\"#0d0887\"],[0.1111111111111111,\"#46039f\"],[0.2222222222222222,\"#7201a8\"],[0.3333333333333333,\"#9c179e\"],[0.4444444444444444,\"#bd3786\"],[0.5555555555555556,\"#d8576b\"],[0.6666666666666666,\"#ed7953\"],[0.7777777777777778,\"#fb9f3a\"],[0.8888888888888888,\"#fdca26\"],[1.0,\"#f0f921\"]],\"diverging\":[[0,\"#8e0152\"],[0.1,\"#c51b7d\"],[0.2,\"#de77ae\"],[0.3,\"#f1b6da\"],[0.4,\"#fde0ef\"],[0.5,\"#f7f7f7\"],[0.6,\"#e6f5d0\"],[0.7,\"#b8e186\"],[0.8,\"#7fbc41\"],[0.9,\"#4d9221\"],[1,\"#276419\"]]},\"xaxis\":{\"gridcolor\":\"white\",\"linecolor\":\"white\",\"ticks\":\"\",\"title\":{\"standoff\":15},\"zerolinecolor\":\"white\",\"automargin\":true,\"zerolinewidth\":2},\"yaxis\":{\"gridcolor\":\"white\",\"linecolor\":\"white\",\"ticks\":\"\",\"title\":{\"standoff\":15},\"zerolinecolor\":\"white\",\"automargin\":true,\"zerolinewidth\":2},\"scene\":{\"xaxis\":{\"backgroundcolor\":\"#E5ECF6\",\"gridcolor\":\"white\",\"linecolor\":\"white\",\"showbackground\":true,\"ticks\":\"\",\"zerolinecolor\":\"white\",\"gridwidth\":2},\"yaxis\":{\"backgroundcolor\":\"#E5ECF6\",\"gridcolor\":\"white\",\"linecolor\":\"white\",\"showbackground\":true,\"ticks\":\"\",\"zerolinecolor\":\"white\",\"gridwidth\":2},\"zaxis\":{\"backgroundcolor\":\"#E5ECF6\",\"gridcolor\":\"white\",\"linecolor\":\"white\",\"showbackground\":true,\"ticks\":\"\",\"zerolinecolor\":\"white\",\"gridwidth\":2}},\"shapedefaults\":{\"line\":{\"color\":\"#2a3f5f\"}},\"annotationdefaults\":{\"arrowcolor\":\"#2a3f5f\",\"arrowhead\":0,\"arrowwidth\":1},\"geo\":{\"bgcolor\":\"white\",\"landcolor\":\"#E5ECF6\",\"subunitcolor\":\"white\",\"showland\":true,\"showlakes\":true,\"lakecolor\":\"white\"},\"title\":{\"x\":0.05},\"mapbox\":{\"style\":\"light\"}}},\"xaxis\":{\"anchor\":\"y\",\"domain\":[0.0,1.0],\"title\":{\"text\":\"Added Date\"}},\"yaxis\":{\"anchor\":\"x\",\"domain\":[0.0,1.0],\"title\":{\"text\":\"The number of Movies/TV Shows\"}},\"legend\":{\"tracegroupgap\":0},\"title\":{\"text\":\"The number of Movies/TV Shows for each added date\"}},                        {\"responsive\": true}                    ).then(function(){\n",
       "                            \n",
       "var gd = document.getElementById('f1b35236-dfd1-4499-bd7e-117b60524210');\n",
       "var x = new MutationObserver(function (mutations, observer) {{\n",
       "        var display = window.getComputedStyle(gd).display;\n",
       "        if (!display || display === 'none') {{\n",
       "            console.log([gd, 'removed!']);\n",
       "            Plotly.purge(gd);\n",
       "            observer.disconnect();\n",
       "        }}\n",
       "}});\n",
       "\n",
       "// Listen for the removal of the full notebook cells\n",
       "var notebookContainer = gd.closest('#notebook-container');\n",
       "if (notebookContainer) {{\n",
       "    x.observe(notebookContainer, {childList: true});\n",
       "}}\n",
       "\n",
       "// Listen for the clearing of the current output cell\n",
       "var outputEl = gd.closest('.output');\n",
       "if (outputEl) {{\n",
       "    x.observe(outputEl, {childList: true});\n",
       "}}\n",
       "\n",
       "                        })                };                });            </script>        </div>"
      ]
     },
     "metadata": {},
     "output_type": "display_data"
    }
   ],
   "source": [
    "fig = px.line(indexedDataset, x = indexedDataset.index,\n",
    "              y='value',\n",
    "              title ='The number of Movies/TV Shows for each added date',\n",
    "              labels={'date_added':'Added Date','value':'The number of Movies/TV Shows'})\n",
    "fig.show()"
   ]
  },
  {
   "cell_type": "code",
   "execution_count": 62,
   "id": "40763de6",
   "metadata": {
    "execution": {
     "iopub.execute_input": "2022-10-01T12:18:40.978579Z",
     "iopub.status.busy": "2022-10-01T12:18:40.977565Z",
     "iopub.status.idle": "2022-10-01T12:18:40.989183Z",
     "shell.execute_reply": "2022-10-01T12:18:40.988185Z"
    },
    "papermill": {
     "duration": 0.052924,
     "end_time": "2022-10-01T12:18:40.991497",
     "exception": false,
     "start_time": "2022-10-01T12:18:40.938573",
     "status": "completed"
    },
    "tags": []
   },
   "outputs": [
    {
     "data": {
      "text/html": [
       "<div>\n",
       "<style scoped>\n",
       "    .dataframe tbody tr th:only-of-type {\n",
       "        vertical-align: middle;\n",
       "    }\n",
       "\n",
       "    .dataframe tbody tr th {\n",
       "        vertical-align: top;\n",
       "    }\n",
       "\n",
       "    .dataframe thead th {\n",
       "        text-align: right;\n",
       "    }\n",
       "</style>\n",
       "<table border=\"1\" class=\"dataframe\">\n",
       "  <thead>\n",
       "    <tr style=\"text-align: right;\">\n",
       "      <th></th>\n",
       "      <th>value</th>\n",
       "    </tr>\n",
       "    <tr>\n",
       "      <th>date_added</th>\n",
       "      <th></th>\n",
       "    </tr>\n",
       "  </thead>\n",
       "  <tbody>\n",
       "    <tr>\n",
       "      <th>2015-01-31</th>\n",
       "      <td>1</td>\n",
       "    </tr>\n",
       "    <tr>\n",
       "      <th>2015-02-28</th>\n",
       "      <td>4</td>\n",
       "    </tr>\n",
       "    <tr>\n",
       "      <th>2015-03-31</th>\n",
       "      <td>5</td>\n",
       "    </tr>\n",
       "    <tr>\n",
       "      <th>2015-04-30</th>\n",
       "      <td>5</td>\n",
       "    </tr>\n",
       "    <tr>\n",
       "      <th>2015-05-31</th>\n",
       "      <td>6</td>\n",
       "    </tr>\n",
       "  </tbody>\n",
       "</table>\n",
       "</div>"
      ],
      "text/plain": [
       "            value\n",
       "date_added       \n",
       "2015-01-31      1\n",
       "2015-02-28      4\n",
       "2015-03-31      5\n",
       "2015-04-30      5\n",
       "2015-05-31      6"
      ]
     },
     "execution_count": 62,
     "metadata": {},
     "output_type": "execute_result"
    }
   ],
   "source": [
    "start_date = '2015-1-1'\n",
    "data = (indexedDataset.index > start_date)\n",
    "data=indexedDataset.loc[data]\n",
    "data.head()"
   ]
  },
  {
   "cell_type": "markdown",
   "id": "78539ec0",
   "metadata": {
    "papermill": {
     "duration": 0.036829,
     "end_time": "2022-10-01T12:18:41.065302",
     "exception": false,
     "start_time": "2022-10-01T12:18:41.028473",
     "status": "completed"
    },
    "tags": []
   },
   "source": [
    "### Stationarize the series"
   ]
  },
  {
   "cell_type": "markdown",
   "id": "f5179e4c",
   "metadata": {
    "papermill": {
     "duration": 0.036615,
     "end_time": "2022-10-01T12:18:41.139114",
     "exception": false,
     "start_time": "2022-10-01T12:18:41.102499",
     "status": "completed"
    },
    "tags": []
   },
   "source": [
    "#### Tests to check if a series is stationary or not\n",
    ">* **Rolling Statistics**\n",
    ">* **ADCF Test - Augmented Dickey–Fuller test**"
   ]
  },
  {
   "cell_type": "markdown",
   "id": "553d1992",
   "metadata": {
    "papermill": {
     "duration": 0.037394,
     "end_time": "2022-10-01T12:18:41.213833",
     "exception": false,
     "start_time": "2022-10-01T12:18:41.176439",
     "status": "completed"
    },
    "tags": []
   },
   "source": [
    "**Tests to check if a series is stationary or not**  \n",
    "*A. There are 2 ways to check for Stationarity of a TS:*  \n",
    ">* a) Rolling Statistics - Plot the moving avg or moving standard deviation to see if it varies with time. Its a visual technique.  \n",
    ">* b) ADCF Test - Augmented Dickey–Fuller test is used to gives us various values that can help in identifying stationarity. The Null hypothesis says that a TS is non-stationary. It comprises of a **Test Statistics** & some **critical values** for some confidence levels. If the Test statistics is less than the critical values, we can reject the null hypothesis & say that the series is stationary. THE ADCF test also gives us a **p-value**. Acc to the null hypothesis, lower values of p is better."
   ]
  },
  {
   "cell_type": "code",
   "execution_count": 63,
   "id": "f2660cd4",
   "metadata": {
    "execution": {
     "iopub.execute_input": "2022-10-01T12:18:41.290501Z",
     "iopub.status.busy": "2022-10-01T12:18:41.289710Z",
     "iopub.status.idle": "2022-10-01T12:18:41.676400Z",
     "shell.execute_reply": "2022-10-01T12:18:41.675230Z"
    },
    "papermill": {
     "duration": 0.428377,
     "end_time": "2022-10-01T12:18:41.679270",
     "exception": false,
     "start_time": "2022-10-01T12:18:41.250893",
     "status": "completed"
    },
    "tags": []
   },
   "outputs": [
    {
     "data": {
      "image/png": "[encoded data removed]",
      "text/plain": [
       "<Figure size 1080x360 with 1 Axes>"
      ]
     },
     "metadata": {},
     "output_type": "display_data"
    }
   ],
   "source": [
    "#Determine rolling statistics\n",
    "rolmean = data.rolling(window=12).mean() #window size 12 denotes 12 months, giving rolling mean at yearly level\n",
    "rolstd = data.rolling(window=12).std()\n",
    "\n",
    "#Plot rolling statistics\n",
    "fig = plt.figure(figsize=(15,5))\n",
    "orig = plt.plot(data, color='blue', label='Original')\n",
    "mean = plt.plot(rolmean, color='red', label='Rolling Mean')\n",
    "std = plt.plot(rolstd, color='black', label='Rolling Std')\n",
    "plt.legend(loc='best')\n",
    "plt.title('Rolling Mean & Standard Deviation')\n",
    "plt.show(block=False)"
   ]
  },
  {
   "cell_type": "markdown",
   "id": "0414c1e9",
   "metadata": {
    "papermill": {
     "duration": 0.03948,
     "end_time": "2022-10-01T12:18:41.757233",
     "exception": false,
     "start_time": "2022-10-01T12:18:41.717753",
     "status": "completed"
    },
    "tags": []
   },
   "source": [
    "> From the above graph, we see that rolling mean itself has a trend component even though rolling standard deviation is fairly constant with time. For our time series to be stationary, we need to ensure that both the rolling statistics ie: mean & std. dev. remain time invariant or constant with time. Thus the curves for both of them have to be parallel to the x-axis, which in our case is not so."
   ]
  },
  {
   "cell_type": "code",
   "execution_count": 64,
   "id": "f64ac663",
   "metadata": {
    "execution": {
     "iopub.execute_input": "2022-10-01T12:18:41.838276Z",
     "iopub.status.busy": "2022-10-01T12:18:41.837026Z",
     "iopub.status.idle": "2022-10-01T12:18:41.858773Z",
     "shell.execute_reply": "2022-10-01T12:18:41.857531Z"
    },
    "papermill": {
     "duration": 0.065963,
     "end_time": "2022-10-01T12:18:41.861986",
     "exception": false,
     "start_time": "2022-10-01T12:18:41.796023",
     "status": "completed"
    },
    "tags": []
   },
   "outputs": [
    {
     "name": "stdout",
     "output_type": "stream",
     "text": [
      "Results of Dickey Fuller Test:\n",
      "Test Statistic                 -1.222352\n",
      "p-value                         0.663907\n",
      "#Lags Used                      4.000000\n",
      "Number of Observations Used    76.000000\n",
      "Critical Value (1%)            -3.519481\n",
      "Critical Value (5%)            -2.900395\n",
      "Critical Value (10%)           -2.587498\n",
      "dtype: float64\n"
     ]
    }
   ],
   "source": [
    "#Perform Augmented Dickey–Fuller test:\n",
    "print('Results of Dickey Fuller Test:')\n",
    "dftest = adfuller(data['value'], autolag='AIC')\n",
    "\n",
    "dfoutput = pd.Series(dftest[0:4], index=['Test Statistic','p-value','#Lags Used','Number of Observations Used'])\n",
    "for key,value in dftest[4].items():\n",
    "    dfoutput['Critical Value (%s)'%key] = value\n",
    "    \n",
    "print(dfoutput)"
   ]
  },
  {
   "cell_type": "markdown",
   "id": "84111595",
   "metadata": {
    "papermill": {
     "duration": 0.038448,
     "end_time": "2022-10-01T12:18:41.939703",
     "exception": false,
     "start_time": "2022-10-01T12:18:41.901255",
     "status": "completed"
    },
    "tags": []
   },
   "source": [
    "For a Time series to be stationary, its ADCF test should have:\n",
    "1. p-value to be low (according to the null hypothesis)\n",
    "2. The critical values at 1%,5%,10% confidence intervals should be as close as possible to the Test Statistics\n",
    "\n",
    "From the above ADCF test result, we see that p-value(at max can be 1.0) is very large. Also critical values are no where close to the Test Statistics. Hence, we can safely say that **our Time Series at the moment is not stationary**"
   ]
  },
  {
   "cell_type": "markdown",
   "id": "471f0c0a",
   "metadata": {
    "papermill": {
     "duration": 0.037971,
     "end_time": "2022-10-01T12:18:42.016083",
     "exception": false,
     "start_time": "2022-10-01T12:18:41.978112",
     "status": "completed"
    },
    "tags": []
   },
   "source": [
    "#### Treatment for Non-stationarity\n",
    ">* Log Scale Transformation."
   ]
  },
  {
   "cell_type": "markdown",
   "id": "f102cdab",
   "metadata": {
    "papermill": {
     "duration": 0.037998,
     "end_time": "2022-10-01T12:18:42.093350",
     "exception": false,
     "start_time": "2022-10-01T12:18:42.055352",
     "status": "completed"
    },
    "tags": []
   },
   "source": [
    "#### Log Scale Transformation"
   ]
  },
  {
   "cell_type": "code",
   "execution_count": 65,
   "id": "b0c910af",
   "metadata": {
    "execution": {
     "iopub.execute_input": "2022-10-01T12:18:42.173135Z",
     "iopub.status.busy": "2022-10-01T12:18:42.172469Z",
     "iopub.status.idle": "2022-10-01T12:18:42.178899Z",
     "shell.execute_reply": "2022-10-01T12:18:42.177825Z"
    },
    "papermill": {
     "duration": 0.049258,
     "end_time": "2022-10-01T12:18:42.181155",
     "exception": false,
     "start_time": "2022-10-01T12:18:42.131897",
     "status": "completed"
    },
    "tags": []
   },
   "outputs": [],
   "source": [
    "#Estimating trend\n",
    "data_logScale = np.log(data)\n",
    "#The below transformation is required to make series stationary\n",
    "movingAverage = data_logScale.rolling(window=12).mean()\n",
    "movingSTD = data_logScale.rolling(window=12).std()"
   ]
  },
  {
   "cell_type": "code",
   "execution_count": 66,
   "id": "b20801fe",
   "metadata": {
    "execution": {
     "iopub.execute_input": "2022-10-01T12:18:42.259545Z",
     "iopub.status.busy": "2022-10-01T12:18:42.258879Z",
     "iopub.status.idle": "2022-10-01T12:18:42.644408Z",
     "shell.execute_reply": "2022-10-01T12:18:42.643527Z"
    },
    "papermill": {
     "duration": 0.427308,
     "end_time": "2022-10-01T12:18:42.646679",
     "exception": false,
     "start_time": "2022-10-01T12:18:42.219371",
     "status": "completed"
    },
    "tags": []
   },
   "outputs": [
    {
     "data": {
      "image/png": "[encoded data removed]",
      "text/plain": [
       "<Figure size 864x360 with 1 Axes>"
      ]
     },
     "metadata": {},
     "output_type": "display_data"
    }
   ],
   "source": [
    "#Plot rolling statistics\n",
    "fig = plt.figure(figsize=(12,5))\n",
    "logScale =  plt.plot(data_logScale, color='green', label='logScale')\n",
    "mean = plt.plot(movingAverage, color='red', label='Rolling Mean')\n",
    "std = plt.plot(movingSTD, color='black', label='Rolling Std')\n",
    "plt.legend(loc='best')\n",
    "plt.title('Rolling Mean & Standard Deviation')\n",
    "plt.show(block=False)"
   ]
  },
  {
   "cell_type": "code",
   "execution_count": 67,
   "id": "f358db08",
   "metadata": {
    "execution": {
     "iopub.execute_input": "2022-10-01T12:18:42.727849Z",
     "iopub.status.busy": "2022-10-01T12:18:42.726866Z",
     "iopub.status.idle": "2022-10-01T12:18:42.737102Z",
     "shell.execute_reply": "2022-10-01T12:18:42.736228Z"
    },
    "papermill": {
     "duration": 0.053442,
     "end_time": "2022-10-01T12:18:42.739314",
     "exception": false,
     "start_time": "2022-10-01T12:18:42.685872",
     "status": "completed"
    },
    "tags": []
   },
   "outputs": [
    {
     "data": {
      "text/html": [
       "<div>\n",
       "<style scoped>\n",
       "    .dataframe tbody tr th:only-of-type {\n",
       "        vertical-align: middle;\n",
       "    }\n",
       "\n",
       "    .dataframe tbody tr th {\n",
       "        vertical-align: top;\n",
       "    }\n",
       "\n",
       "    .dataframe thead th {\n",
       "        text-align: right;\n",
       "    }\n",
       "</style>\n",
       "<table border=\"1\" class=\"dataframe\">\n",
       "  <thead>\n",
       "    <tr style=\"text-align: right;\">\n",
       "      <th></th>\n",
       "      <th>value</th>\n",
       "    </tr>\n",
       "    <tr>\n",
       "      <th>date_added</th>\n",
       "      <th></th>\n",
       "    </tr>\n",
       "  </thead>\n",
       "  <tbody>\n",
       "    <tr>\n",
       "      <th>2015-01-31</th>\n",
       "      <td>NaN</td>\n",
       "    </tr>\n",
       "    <tr>\n",
       "      <th>2015-02-28</th>\n",
       "      <td>NaN</td>\n",
       "    </tr>\n",
       "    <tr>\n",
       "      <th>2015-03-31</th>\n",
       "      <td>NaN</td>\n",
       "    </tr>\n",
       "    <tr>\n",
       "      <th>2015-04-30</th>\n",
       "      <td>NaN</td>\n",
       "    </tr>\n",
       "    <tr>\n",
       "      <th>2015-05-31</th>\n",
       "      <td>NaN</td>\n",
       "    </tr>\n",
       "  </tbody>\n",
       "</table>\n",
       "</div>"
      ],
      "text/plain": [
       "            value\n",
       "date_added       \n",
       "2015-01-31    NaN\n",
       "2015-02-28    NaN\n",
       "2015-03-31    NaN\n",
       "2015-04-30    NaN\n",
       "2015-05-31    NaN"
      ]
     },
     "execution_count": 67,
     "metadata": {},
     "output_type": "execute_result"
    }
   ],
   "source": [
    "datasetLogScaleMinusMovingAverage = data_logScale - movingAverage\n",
    "datasetLogScaleMinusMovingAverage.head(5)"
   ]
  },
  {
   "cell_type": "code",
   "execution_count": 68,
   "id": "5c6de02c",
   "metadata": {
    "execution": {
     "iopub.execute_input": "2022-10-01T12:18:42.820417Z",
     "iopub.status.busy": "2022-10-01T12:18:42.819743Z",
     "iopub.status.idle": "2022-10-01T12:18:42.832464Z",
     "shell.execute_reply": "2022-10-01T12:18:42.831415Z"
    },
    "papermill": {
     "duration": 0.05595,
     "end_time": "2022-10-01T12:18:42.834858",
     "exception": false,
     "start_time": "2022-10-01T12:18:42.778908",
     "status": "completed"
    },
    "tags": []
   },
   "outputs": [
    {
     "data": {
      "text/html": [
       "<div>\n",
       "<style scoped>\n",
       "    .dataframe tbody tr th:only-of-type {\n",
       "        vertical-align: middle;\n",
       "    }\n",
       "\n",
       "    .dataframe tbody tr th {\n",
       "        vertical-align: top;\n",
       "    }\n",
       "\n",
       "    .dataframe thead th {\n",
       "        text-align: right;\n",
       "    }\n",
       "</style>\n",
       "<table border=\"1\" class=\"dataframe\">\n",
       "  <thead>\n",
       "    <tr style=\"text-align: right;\">\n",
       "      <th></th>\n",
       "      <th>value</th>\n",
       "    </tr>\n",
       "    <tr>\n",
       "      <th>date_added</th>\n",
       "      <th></th>\n",
       "    </tr>\n",
       "  </thead>\n",
       "  <tbody>\n",
       "    <tr>\n",
       "      <th>2015-12-31</th>\n",
       "      <td>1.390895</td>\n",
       "    </tr>\n",
       "    <tr>\n",
       "      <th>2016-01-31</th>\n",
       "      <td>1.794139</td>\n",
       "    </tr>\n",
       "    <tr>\n",
       "      <th>2016-02-29</th>\n",
       "      <td>0.630843</td>\n",
       "    </tr>\n",
       "    <tr>\n",
       "      <th>2016-03-31</th>\n",
       "      <td>0.654025</td>\n",
       "    </tr>\n",
       "    <tr>\n",
       "      <th>2016-04-30</th>\n",
       "      <td>0.788387</td>\n",
       "    </tr>\n",
       "  </tbody>\n",
       "</table>\n",
       "</div>"
      ],
      "text/plain": [
       "               value\n",
       "date_added          \n",
       "2015-12-31  1.390895\n",
       "2016-01-31  1.794139\n",
       "2016-02-29  0.630843\n",
       "2016-03-31  0.654025\n",
       "2016-04-30  0.788387"
      ]
     },
     "execution_count": 68,
     "metadata": {},
     "output_type": "execute_result"
    }
   ],
   "source": [
    "#Remove NAN values\n",
    "datasetLogScaleMinusMovingAverage.dropna(inplace=True)\n",
    "datasetLogScaleMinusMovingAverage.head(5)"
   ]
  },
  {
   "cell_type": "code",
   "execution_count": 69,
   "id": "0cfcdba9",
   "metadata": {
    "execution": {
     "iopub.execute_input": "2022-10-01T12:18:42.917003Z",
     "iopub.status.busy": "2022-10-01T12:18:42.916597Z",
     "iopub.status.idle": "2022-10-01T12:18:42.926330Z",
     "shell.execute_reply": "2022-10-01T12:18:42.925424Z"
    },
    "papermill": {
     "duration": 0.05364,
     "end_time": "2022-10-01T12:18:42.928448",
     "exception": false,
     "start_time": "2022-10-01T12:18:42.874808",
     "status": "completed"
    },
    "tags": []
   },
   "outputs": [],
   "source": [
    "def test_stationarity(timeseries):\n",
    "    \n",
    "    #Determine rolling statistics\n",
    "    movingAverage = timeseries.rolling(window=12).mean()\n",
    "    movingSTD = timeseries.rolling(window=12).std()\n",
    "    \n",
    "    #Plot rolling statistics\n",
    "    fig = plt.figure(figsize=(15,5))\n",
    "    orig = plt.plot(timeseries, color='blue', label='Original')\n",
    "    mean = plt.plot(movingAverage, color='red', label='Rolling Mean')\n",
    "    std = plt.plot(movingSTD, color='black', label='Rolling Std')\n",
    "    plt.legend(loc='best')\n",
    "    plt.title('Rolling Mean & Standard Deviation')\n",
    "    plt.show(block=False)\n",
    "    \n",
    "    #Perform Dickey–Fuller test:\n",
    "    print('Results of Dickey Fuller Test:')\n",
    "    dftest = adfuller(timeseries['value'], autolag='AIC')\n",
    "    dfoutput = pd.Series(dftest[0:4], index=['Test Statistic','p-value','#Lags Used','Number of Observations Used'])\n",
    "    for key,value in dftest[4].items():\n",
    "        dfoutput['Critical Value (%s)'%key] = value\n",
    "    print(dfoutput)\n"
   ]
  },
  {
   "cell_type": "code",
   "execution_count": 70,
   "id": "7292dd1c",
   "metadata": {
    "execution": {
     "iopub.execute_input": "2022-10-01T12:18:43.009598Z",
     "iopub.status.busy": "2022-10-01T12:18:43.008488Z",
     "iopub.status.idle": "2022-10-01T12:18:43.378329Z",
     "shell.execute_reply": "2022-10-01T12:18:43.376744Z"
    },
    "papermill": {
     "duration": 0.413426,
     "end_time": "2022-10-01T12:18:43.381087",
     "exception": false,
     "start_time": "2022-10-01T12:18:42.967661",
     "status": "completed"
    },
    "tags": []
   },
   "outputs": [
    {
     "data": {
      "image/png": "[encoded data removed]",
      "text/plain": [
       "<Figure size 1080x360 with 1 Axes>"
      ]
     },
     "metadata": {},
     "output_type": "display_data"
    },
    {
     "name": "stdout",
     "output_type": "stream",
     "text": [
      "Results of Dickey Fuller Test:\n",
      "Test Statistic                 -2.668460\n",
      "p-value                         0.079657\n",
      "#Lags Used                      2.000000\n",
      "Number of Observations Used    67.000000\n",
      "Critical Value (1%)            -3.531955\n",
      "Critical Value (5%)            -2.905755\n",
      "Critical Value (10%)           -2.590357\n",
      "dtype: float64\n"
     ]
    }
   ],
   "source": [
    "test_stationarity(datasetLogScaleMinusMovingAverage)"
   ]
  },
  {
   "cell_type": "markdown",
   "id": "3fdb1ae0",
   "metadata": {
    "papermill": {
     "duration": 0.040595,
     "end_time": "2022-10-01T12:18:43.462795",
     "exception": false,
     "start_time": "2022-10-01T12:18:43.422200",
     "status": "completed"
    },
    "tags": []
   },
   "source": [
    "From above graph, we observe that our intuition that *\"subtracting two related series having similar trend components will make the result stationary\"* is true. We find that:  \n",
    "\n",
    "1. p-value has reduced from 0.66 to 0.079.  \n",
    "2. The critical values at 1%,5%,10% confidence intervals are pretty close to the Test Statistic.\n",
    "Thus, from above 2 points, we can say that our given series is stationary.  \n",
    "\n",
    "But, in the spirit of getting higher accuracy."
   ]
  },
  {
   "cell_type": "code",
   "execution_count": 71,
   "id": "69fdd928",
   "metadata": {
    "execution": {
     "iopub.execute_input": "2022-10-01T12:18:43.546721Z",
     "iopub.status.busy": "2022-10-01T12:18:43.546312Z",
     "iopub.status.idle": "2022-10-01T12:18:44.672466Z",
     "shell.execute_reply": "2022-10-01T12:18:44.671250Z"
    },
    "papermill": {
     "duration": 1.17097,
     "end_time": "2022-10-01T12:18:44.674871",
     "exception": false,
     "start_time": "2022-10-01T12:18:43.503901",
     "status": "completed"
    },
    "tags": []
   },
   "outputs": [
    {
     "data": {
      "image/png": "[encoded data removed]",
      "text/plain": [
       "<Figure size 432x288 with 4 Axes>"
      ]
     },
     "metadata": {},
     "output_type": "display_data"
    }
   ],
   "source": [
    "from statsmodels.tsa.seasonal import seasonal_decompose\n",
    "decomposition = seasonal_decompose(datasetLogScaleMinusMovingAverage, model =\"additive\").plot()\n",
    "plt.plot()\n",
    "plt.show()"
   ]
  },
  {
   "cell_type": "markdown",
   "id": "5a75466d",
   "metadata": {
    "papermill": {
     "duration": 0.040989,
     "end_time": "2022-10-01T12:18:44.758135",
     "exception": false,
     "start_time": "2022-10-01T12:18:44.717146",
     "status": "completed"
    },
    "tags": []
   },
   "source": [
    "### Plot ACF/PACF charts"
   ]
  },
  {
   "cell_type": "code",
   "execution_count": 72,
   "id": "97ea32f9",
   "metadata": {
    "execution": {
     "iopub.execute_input": "2022-10-01T12:18:44.841574Z",
     "iopub.status.busy": "2022-10-01T12:18:44.841174Z",
     "iopub.status.idle": "2022-10-01T12:18:44.847117Z",
     "shell.execute_reply": "2022-10-01T12:18:44.845939Z"
    },
    "papermill": {
     "duration": 0.050194,
     "end_time": "2022-10-01T12:18:44.849206",
     "exception": false,
     "start_time": "2022-10-01T12:18:44.799012",
     "status": "completed"
    },
    "tags": []
   },
   "outputs": [],
   "source": [
    "def ACF_and_PACF(data):\n",
    "    fig = plt.figure(figsize=(15,7))\n",
    "    ax1 = fig.add_subplot(211)\n",
    "    fig = plot_acf(data , lags = 30 , ax = ax1)\n",
    "    ax2 = fig.add_subplot(212)\n",
    "    fig = plot_pacf(data , lags = 30 , ax = ax2)"
   ]
  },
  {
   "cell_type": "code",
   "execution_count": 73,
   "id": "1d424c60",
   "metadata": {
    "execution": {
     "iopub.execute_input": "2022-10-01T12:18:44.932459Z",
     "iopub.status.busy": "2022-10-01T12:18:44.932037Z",
     "iopub.status.idle": "2022-10-01T12:18:45.403562Z",
     "shell.execute_reply": "2022-10-01T12:18:45.402723Z"
    },
    "papermill": {
     "duration": 0.515783,
     "end_time": "2022-10-01T12:18:45.405701",
     "exception": false,
     "start_time": "2022-10-01T12:18:44.889918",
     "status": "completed"
    },
    "tags": []
   },
   "outputs": [
    {
     "data": {
      "image/png": "[encoded data removed]",
      "text/plain": [
       "<Figure size 1080x504 with 2 Axes>"
      ]
     },
     "metadata": {},
     "output_type": "display_data"
    }
   ],
   "source": [
    "ACF_and_PACF(datasetLogScaleMinusMovingAverage)"
   ]
  },
  {
   "cell_type": "code",
   "execution_count": 74,
   "id": "f8fe1432",
   "metadata": {
    "execution": {
     "iopub.execute_input": "2022-10-01T12:18:45.490311Z",
     "iopub.status.busy": "2022-10-01T12:18:45.489698Z",
     "iopub.status.idle": "2022-10-01T12:18:46.002195Z",
     "shell.execute_reply": "2022-10-01T12:18:46.001039Z"
    },
    "papermill": {
     "duration": 0.557557,
     "end_time": "2022-10-01T12:18:46.004736",
     "exception": false,
     "start_time": "2022-10-01T12:18:45.447179",
     "status": "completed"
    },
    "tags": []
   },
   "outputs": [
    {
     "data": {
      "image/png": "[encoded data removed]",
      "text/plain": [
       "<Figure size 864x360 with 2 Axes>"
      ]
     },
     "metadata": {},
     "output_type": "display_data"
    }
   ],
   "source": [
    "#ACF & PACF plots\n",
    "\n",
    "lag_acf = acf(datasetLogScaleMinusMovingAverage, nlags=20)\n",
    "lag_pacf = pacf(datasetLogScaleMinusMovingAverage, nlags=20, method='ols')\n",
    "\n",
    "#Plot ACF:\n",
    "fig = plt.figure(figsize=(12,5))\n",
    "plt.subplot(121)\n",
    "plt.plot(lag_acf)\n",
    "plt.axhline(y=0, linestyle='--', color='gray')\n",
    "plt.axhline(y=-1.96/np.sqrt(len(datasetLogScaleMinusMovingAverage)), linestyle='--', color='gray')\n",
    "plt.axhline(y=1.96/np.sqrt(len(datasetLogScaleMinusMovingAverage)), linestyle='--', color='gray')\n",
    "plt.title('Autocorrelation Function')            \n",
    "\n",
    "#Plot PACF\n",
    "plt.subplot(122)\n",
    "plt.plot(lag_pacf)\n",
    "plt.axhline(y=0, linestyle='--', color='gray')\n",
    "plt.axhline(y=-1.96/np.sqrt(len(datasetLogScaleMinusMovingAverage)), linestyle='--', color='gray')\n",
    "plt.axhline(y=1.96/np.sqrt(len(datasetLogScaleMinusMovingAverage)), linestyle='--', color='gray')\n",
    "plt.title('Partial Autocorrelation Function')\n",
    "            \n",
    "plt.tight_layout() \n",
    "plt.show()"
   ]
  },
  {
   "cell_type": "markdown",
   "id": "8ecca7e3",
   "metadata": {
    "papermill": {
     "duration": 0.042241,
     "end_time": "2022-10-01T12:18:46.090571",
     "exception": false,
     "start_time": "2022-10-01T12:18:46.048330",
     "status": "completed"
    },
    "tags": []
   },
   "source": [
    "### Build the ARIMA model"
   ]
  },
  {
   "cell_type": "code",
   "execution_count": 75,
   "id": "a965182c",
   "metadata": {
    "execution": {
     "iopub.execute_input": "2022-10-01T12:18:46.177234Z",
     "iopub.status.busy": "2022-10-01T12:18:46.176259Z",
     "iopub.status.idle": "2022-10-01T12:18:46.772066Z",
     "shell.execute_reply": "2022-10-01T12:18:46.771012Z"
    },
    "papermill": {
     "duration": 0.641815,
     "end_time": "2022-10-01T12:18:46.774617",
     "exception": false,
     "start_time": "2022-10-01T12:18:46.132802",
     "status": "completed"
    },
    "tags": []
   },
   "outputs": [
    {
     "name": "stdout",
     "output_type": "stream",
     "text": [
      "                               SARIMAX Results                                \n",
      "==============================================================================\n",
      "Dep. Variable:                  value   No. Observations:                   70\n",
      "Model:                 ARIMA(2, 1, 2)   Log Likelihood                  -6.970\n",
      "Date:                Sat, 01 Oct 2022   AIC                             23.941\n",
      "Time:                        12:18:46   BIC                             35.111\n",
      "Sample:                    12-31-2015   HQIC                            28.373\n",
      "                         - 09-30-2021                                         \n",
      "Covariance Type:                  opg                                         \n",
      "==============================================================================\n",
      "                 coef    std err          z      P>|z|      [0.025      0.975]\n",
      "------------------------------------------------------------------------------\n",
      "ar.L1         -0.7051      0.251     -2.808      0.005      -1.197      -0.213\n",
      "ar.L2          0.0123      0.233      0.053      0.958      -0.444       0.469\n",
      "ma.L1          0.3204      0.218      1.470      0.142      -0.107       0.747\n",
      "ma.L2         -0.6287      0.189     -3.325      0.001      -0.999      -0.258\n",
      "sigma2         0.0702      0.012      5.959      0.000       0.047       0.093\n",
      "===================================================================================\n",
      "Ljung-Box (L1) (Q):                   0.07   Jarque-Bera (JB):                 3.42\n",
      "Prob(Q):                              0.79   Prob(JB):                         0.18\n",
      "Heteroskedasticity (H):               0.39   Skew:                            -0.32\n",
      "Prob(H) (two-sided):                  0.03   Kurtosis:                         3.89\n",
      "===================================================================================\n",
      "\n",
      "Warnings:\n",
      "[1] Covariance matrix calculated using the outer product of gradients (complex-step).\n"
     ]
    },
    {
     "data": {
      "image/png": "[encoded data removed]",
      "text/plain": [
       "<Figure size 864x360 with 1 Axes>"
      ]
     },
     "metadata": {},
     "output_type": "display_data"
    }
   ],
   "source": [
    "model = sm.tsa.arima.ARIMA(datasetLogScaleMinusMovingAverage , order= (2,1,2))\n",
    "res_arma = model.fit()\n",
    "\n",
    "fig = plt.figure(figsize=(12,5))\n",
    "plt.plot(datasetLogScaleMinusMovingAverage)\n",
    "plt.plot(res_arma.fittedvalues, color = \"green\")\n",
    "print(res_arma.summary())"
   ]
  },
  {
   "cell_type": "markdown",
   "id": "ac7b3276",
   "metadata": {
    "papermill": {
     "duration": 0.043878,
     "end_time": "2022-10-01T12:18:46.863238",
     "exception": false,
     "start_time": "2022-10-01T12:18:46.819360",
     "status": "completed"
    },
    "tags": []
   },
   "source": [
    "- The model summary provides lot of information. The table in the middle is the coefficients table where the values under ‘coef’ are the weights of the respective terms.\n",
    "\n",
    "- The coefficient of the AR1 term is close to zero and the P-Value in ‘P>|z|’ column is highly insignificant. It should ideally be less than 0.05 for the respective X to be significant.\n",
    "\n",
    "- So, we will rebuild the model."
   ]
  },
  {
   "cell_type": "code",
   "execution_count": 76,
   "id": "136c609f",
   "metadata": {
    "execution": {
     "iopub.execute_input": "2022-10-01T12:18:46.952708Z",
     "iopub.status.busy": "2022-10-01T12:18:46.952305Z",
     "iopub.status.idle": "2022-10-01T12:18:50.578127Z",
     "shell.execute_reply": "2022-10-01T12:18:50.576902Z"
    },
    "papermill": {
     "duration": 3.675056,
     "end_time": "2022-10-01T12:18:50.581931",
     "exception": false,
     "start_time": "2022-10-01T12:18:46.906875",
     "status": "completed"
    },
    "tags": []
   },
   "outputs": [
    {
     "name": "stdout",
     "output_type": "stream",
     "text": [
      "Performing stepwise search to minimize aic\n",
      " ARIMA(1,1,1)(0,0,0)[0] intercept   : AIC=25.723, Time=0.14 sec\n",
      " ARIMA(0,1,0)(0,0,0)[0] intercept   : AIC=39.095, Time=0.02 sec\n",
      " ARIMA(1,1,0)(0,0,0)[0] intercept   : AIC=30.998, Time=0.03 sec\n",
      " ARIMA(0,1,1)(0,0,0)[0] intercept   : AIC=25.839, Time=0.05 sec\n",
      " ARIMA(0,1,0)(0,0,0)[0]             : AIC=37.331, Time=0.02 sec\n",
      " ARIMA(2,1,1)(0,0,0)[0] intercept   : AIC=25.099, Time=0.15 sec\n",
      " ARIMA(2,1,0)(0,0,0)[0] intercept   : AIC=26.716, Time=0.05 sec\n",
      " ARIMA(3,1,1)(0,0,0)[0] intercept   : AIC=25.870, Time=0.30 sec\n",
      " ARIMA(2,1,2)(0,0,0)[0] intercept   : AIC=24.116, Time=0.29 sec\n",
      " ARIMA(1,1,2)(0,0,0)[0] intercept   : AIC=22.506, Time=0.18 sec\n",
      " ARIMA(0,1,2)(0,0,0)[0] intercept   : AIC=25.804, Time=0.12 sec\n",
      " ARIMA(1,1,3)(0,0,0)[0] intercept   : AIC=24.359, Time=0.31 sec\n",
      " ARIMA(0,1,3)(0,0,0)[0] intercept   : AIC=27.627, Time=0.21 sec\n",
      " ARIMA(2,1,3)(0,0,0)[0] intercept   : AIC=inf, Time=0.39 sec\n",
      " ARIMA(1,1,2)(0,0,0)[0]             : AIC=21.942, Time=0.13 sec\n",
      " ARIMA(0,1,2)(0,0,0)[0]             : AIC=25.721, Time=0.06 sec\n",
      " ARIMA(1,1,1)(0,0,0)[0]             : AIC=25.880, Time=0.07 sec\n",
      " ARIMA(2,1,2)(0,0,0)[0]             : AIC=23.941, Time=0.18 sec\n",
      " ARIMA(1,1,3)(0,0,0)[0]             : AIC=23.942, Time=0.27 sec\n",
      " ARIMA(0,1,1)(0,0,0)[0]             : AIC=24.948, Time=0.05 sec\n",
      " ARIMA(0,1,3)(0,0,0)[0]             : AIC=27.217, Time=0.09 sec\n",
      " ARIMA(2,1,1)(0,0,0)[0]             : AIC=23.872, Time=0.13 sec\n",
      " ARIMA(2,1,3)(0,0,0)[0]             : AIC=25.599, Time=0.35 sec\n",
      "\n",
      "Best model:  ARIMA(1,1,2)(0,0,0)[0]          \n",
      "Total fit time: 3.600 seconds\n",
      "                               SARIMAX Results                                \n",
      "==============================================================================\n",
      "Dep. Variable:                      y   No. Observations:                   70\n",
      "Model:               SARIMAX(1, 1, 2)   Log Likelihood                  -6.971\n",
      "Date:                Sat, 01 Oct 2022   AIC                             21.942\n",
      "Time:                        12:18:50   BIC                             30.879\n",
      "Sample:                    12-31-2015   HQIC                            25.488\n",
      "                         - 09-30-2021                                         \n",
      "Covariance Type:                  opg                                         \n",
      "==============================================================================\n",
      "                 coef    std err          z      P>|z|      [0.025      0.975]\n",
      "------------------------------------------------------------------------------\n",
      "ar.L1         -0.7171      0.165     -4.337      0.000      -1.041      -0.393\n",
      "ma.L1          0.3314      0.174      1.905      0.057      -0.010       0.672\n",
      "ma.L2         -0.6170      0.103     -5.994      0.000      -0.819      -0.415\n",
      "sigma2         0.0702      0.011      6.261      0.000       0.048       0.092\n",
      "===================================================================================\n",
      "Ljung-Box (L1) (Q):                   0.06   Jarque-Bera (JB):                 3.37\n",
      "Prob(Q):                              0.81   Prob(JB):                         0.19\n",
      "Heteroskedasticity (H):               0.39   Skew:                            -0.32\n",
      "Prob(H) (two-sided):                  0.03   Kurtosis:                         3.88\n",
      "===================================================================================\n",
      "\n",
      "Warnings:\n",
      "[1] Covariance matrix calculated using the outer product of gradients (complex-step).\n"
     ]
    }
   ],
   "source": [
    "from statsmodels.tsa.arima_model import ARIMA\n",
    "\n",
    "model = pm.auto_arima(datasetLogScaleMinusMovingAverage.value, start_p=1, start_q=1,\n",
    "                      test='adf',       # use adftest to find optimal 'd'\n",
    "                      max_p=3, max_q=3, # maximum p and q\n",
    "                      m=1,              # frequency of series\n",
    "                      d=None,           # let model determine 'd'\n",
    "                      seasonal=True,   # No Seasonality\n",
    "                      start_P=0, \n",
    "                      D=0, \n",
    "                      trace=True,\n",
    "                      error_action='ignore',  \n",
    "                      suppress_warnings=True, \n",
    "                      stepwise=True)\n",
    "\n",
    "print(model.summary())"
   ]
  },
  {
   "cell_type": "code",
   "execution_count": 77,
   "id": "2cdec8ad",
   "metadata": {
    "execution": {
     "iopub.execute_input": "2022-10-01T12:18:50.709504Z",
     "iopub.status.busy": "2022-10-01T12:18:50.708755Z",
     "iopub.status.idle": "2022-10-01T12:18:51.265627Z",
     "shell.execute_reply": "2022-10-01T12:18:51.264397Z"
    },
    "papermill": {
     "duration": 0.61105,
     "end_time": "2022-10-01T12:18:51.268235",
     "exception": false,
     "start_time": "2022-10-01T12:18:50.657185",
     "status": "completed"
    },
    "tags": []
   },
   "outputs": [
    {
     "name": "stdout",
     "output_type": "stream",
     "text": [
      "                               SARIMAX Results                                \n",
      "==============================================================================\n",
      "Dep. Variable:                  value   No. Observations:                   70\n",
      "Model:                 ARIMA(1, 1, 2)   Log Likelihood                  -6.971\n",
      "Date:                Sat, 01 Oct 2022   AIC                             21.942\n",
      "Time:                        12:18:50   BIC                             30.879\n",
      "Sample:                    12-31-2015   HQIC                            25.488\n",
      "                         - 09-30-2021                                         \n",
      "Covariance Type:                  opg                                         \n",
      "==============================================================================\n",
      "                 coef    std err          z      P>|z|      [0.025      0.975]\n",
      "------------------------------------------------------------------------------\n",
      "ar.L1         -0.7171      0.165     -4.337      0.000      -1.041      -0.393\n",
      "ma.L1          0.3314      0.174      1.905      0.057      -0.010       0.672\n",
      "ma.L2         -0.6170      0.103     -5.994      0.000      -0.819      -0.415\n",
      "sigma2         0.0702      0.011      6.261      0.000       0.048       0.092\n",
      "===================================================================================\n",
      "Ljung-Box (L1) (Q):                   0.06   Jarque-Bera (JB):                 3.37\n",
      "Prob(Q):                              0.81   Prob(JB):                         0.19\n",
      "Heteroskedasticity (H):               0.39   Skew:                            -0.32\n",
      "Prob(H) (two-sided):                  0.03   Kurtosis:                         3.88\n",
      "===================================================================================\n",
      "\n",
      "Warnings:\n",
      "[1] Covariance matrix calculated using the outer product of gradients (complex-step).\n"
     ]
    },
    {
     "data": {
      "image/png": "[encoded data removed]",
      "text/plain": [
       "<Figure size 864x360 with 1 Axes>"
      ]
     },
     "metadata": {},
     "output_type": "display_data"
    }
   ],
   "source": [
    "model = sm.tsa.arima.ARIMA(datasetLogScaleMinusMovingAverage , order= (1,1,2))\n",
    "res_arima = model.fit()\n",
    "\n",
    "fig = plt.figure(figsize=(12,5))\n",
    "plt.plot(datasetLogScaleMinusMovingAverage, color = \"#f03d5d\")\n",
    "plt.plot(res_arima.fittedvalues, color = \"#f0d75d\")\n",
    "print(res_arima.summary())"
   ]
  },
  {
   "cell_type": "markdown",
   "id": "02f8a333",
   "metadata": {
    "papermill": {
     "duration": 0.044627,
     "end_time": "2022-10-01T12:18:51.359331",
     "exception": false,
     "start_time": "2022-10-01T12:18:51.314704",
     "status": "completed"
    },
    "tags": []
   },
   "source": [
    "### Diagnostic the Model"
   ]
  },
  {
   "cell_type": "code",
   "execution_count": 78,
   "id": "80adca42",
   "metadata": {
    "execution": {
     "iopub.execute_input": "2022-10-01T12:18:51.450864Z",
     "iopub.status.busy": "2022-10-01T12:18:51.450446Z",
     "iopub.status.idle": "2022-10-01T12:18:51.960421Z",
     "shell.execute_reply": "2022-10-01T12:18:51.959039Z"
    },
    "papermill": {
     "duration": 0.559004,
     "end_time": "2022-10-01T12:18:51.963038",
     "exception": false,
     "start_time": "2022-10-01T12:18:51.404034",
     "status": "completed"
    },
    "tags": []
   },
   "outputs": [
    {
     "data": {
      "image/png": "[encoded data removed]",
      "text/plain": [
       "<Figure size 864x360 with 2 Axes>"
      ]
     },
     "metadata": {},
     "output_type": "display_data"
    }
   ],
   "source": [
    "# Plot residual errors\n",
    "residuals = pd.DataFrame(res_arima.resid)\n",
    "fig, ax = plt.subplots(1,2,figsize=(12,5))\n",
    "residuals.plot(title=\"Residuals\", ax=ax[0])\n",
    "residuals.plot(kind='kde', title='Density', ax=ax[1])\n",
    "plt.show()"
   ]
  },
  {
   "cell_type": "markdown",
   "id": "84124fd1",
   "metadata": {
    "papermill": {
     "duration": 0.046755,
     "end_time": "2022-10-01T12:18:52.057287",
     "exception": false,
     "start_time": "2022-10-01T12:18:52.010532",
     "status": "completed"
    },
    "tags": []
   },
   "source": [
    "- The residual errors seem fine with near zero mean and uniform variance. Let’s plot the actuals against the fitted values using **plot_predict()**."
   ]
  },
  {
   "cell_type": "markdown",
   "id": "e21873e8",
   "metadata": {
    "papermill": {
     "duration": 0.046197,
     "end_time": "2022-10-01T12:18:52.149758",
     "exception": false,
     "start_time": "2022-10-01T12:18:52.103561",
     "status": "completed"
    },
    "tags": []
   },
   "source": [
    "### Make Predictions"
   ]
  },
  {
   "cell_type": "code",
   "execution_count": 79,
   "id": "fc1fc613",
   "metadata": {
    "execution": {
     "iopub.execute_input": "2022-10-01T12:18:52.243748Z",
     "iopub.status.busy": "2022-10-01T12:18:52.243332Z",
     "iopub.status.idle": "2022-10-01T12:18:52.249447Z",
     "shell.execute_reply": "2022-10-01T12:18:52.248208Z"
    },
    "papermill": {
     "duration": 0.055874,
     "end_time": "2022-10-01T12:18:52.251761",
     "exception": false,
     "start_time": "2022-10-01T12:18:52.195887",
     "status": "completed"
    },
    "tags": []
   },
   "outputs": [],
   "source": [
    "from statsmodels.tsa.stattools import acf\n",
    "\n",
    "# Create Training and Test\n",
    "train = datasetLogScaleMinusMovingAverage.value[:63]\n",
    "test = datasetLogScaleMinusMovingAverage.value[63:]"
   ]
  },
  {
   "cell_type": "code",
   "execution_count": 80,
   "id": "b84d75ce",
   "metadata": {
    "execution": {
     "iopub.execute_input": "2022-10-01T12:18:52.346571Z",
     "iopub.status.busy": "2022-10-01T12:18:52.346148Z",
     "iopub.status.idle": "2022-10-01T12:18:52.806358Z",
     "shell.execute_reply": "2022-10-01T12:18:52.805227Z"
    },
    "papermill": {
     "duration": 0.510877,
     "end_time": "2022-10-01T12:18:52.809079",
     "exception": false,
     "start_time": "2022-10-01T12:18:52.298202",
     "status": "completed"
    },
    "tags": []
   },
   "outputs": [
    {
     "data": {
      "image/png": "[encoded data removed]",
      "text/plain": [
       "<Figure size 1200x500 with 1 Axes>"
      ]
     },
     "metadata": {},
     "output_type": "display_data"
    }
   ],
   "source": [
    "# Build Model\n",
    "model = sm.tsa.arima.ARIMA(train, order=(1,1,1))  \n",
    "fitted = model.fit()  \n",
    "\n",
    "# Forecast\n",
    "fc= fitted.forecast(steps=30, alpha=0.05)  # 95% conf\n",
    "\n",
    "# Make as pandas series\n",
    "fc_series = pd.Series(fc)\n",
    "\n",
    "# Plot\n",
    "plt.figure(figsize=(12,5), dpi=100)\n",
    "plt.plot(train, label='training')\n",
    "plt.plot(test, label='actual')\n",
    "plt.plot(fc_series, label='forecast')\n",
    "plt.title('Forecast vs Actuals')\n",
    "plt.legend(loc='upper left', fontsize=8)\n",
    "plt.show()"
   ]
  }
 ],
 "metadata": {
  "kernelspec": {
   "display_name": "Python 3",
   "language": "python",
   "name": "python3"
  },
  "language_info": {
   "codemirror_mode": {
    "name": "ipython",
    "version": 3
   },
   "file_extension": ".py",
   "mimetype": "text/x-python",
   "name": "python",
   "nbconvert_exporter": "python",
   "pygments_lexer": "ipython3",
   "version": "3.7.12"
  },
  "papermill": {
   "default_parameters": {},
   "duration": 81.735123,
   "end_time": "2022-10-01T12:18:53.780522",
   "environment_variables": {},
   "exception": null,
   "input_path": "__notebook__.ipynb",
   "output_path": "__notebook__.ipynb",
   "parameters": {},
   "start_time": "2022-10-01T12:17:32.045399",
   "version": "2.3.4"
  }
 },
 "nbformat": 4,
 "nbformat_minor": 5
}
